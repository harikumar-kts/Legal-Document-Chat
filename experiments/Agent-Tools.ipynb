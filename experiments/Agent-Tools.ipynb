{
 "cells": [
  {
   "cell_type": "code",
   "execution_count": 1,
   "metadata": {},
   "outputs": [
    {
     "name": "stderr",
     "output_type": "stream",
     "text": [
      "c:\\Users\\tshar\\anaconda3\\envs\\LegalDocRAG\\Lib\\site-packages\\IPython\\core\\interactiveshell.py:3577: LangChainDeprecationWarning: As of langchain-core 0.3.0, LangChain uses pydantic v2 internally. The langchain_core.pydantic_v1 module was a compatibility shim for pydantic v1, and should no longer be used. Please update the code to import from Pydantic directly.\n",
      "\n",
      "For example, replace imports like: `from langchain_core.pydantic_v1 import BaseModel`\n",
      "with: `from pydantic import BaseModel`\n",
      "or the v1 compatibility namespace if you are working in a code base that has not been fully upgraded to pydantic 2 yet. \tfrom pydantic.v1 import BaseModel\n",
      "\n",
      "  exec(code_obj, self.user_global_ns, self.user_ns)\n",
      "c:\\Users\\tshar\\anaconda3\\envs\\LegalDocRAG\\Lib\\site-packages\\sentence_transformers\\cross_encoder\\CrossEncoder.py:13: TqdmExperimentalWarning: Using `tqdm.autonotebook.tqdm` in notebook mode. Use `tqdm.tqdm` instead to force console mode (e.g. in jupyter console)\n",
      "  from tqdm.autonotebook import tqdm, trange\n"
     ]
    }
   ],
   "source": [
    "import warnings\n",
    "from typing import List, Optional, Dict\n",
    "from langchain_core.pydantic_v1 import BaseModel, Field\n",
    "\n",
    "from langchain_groq import ChatGroq\n",
    "from elasticsearch import Elasticsearch\n",
    "from sentence_transformers import SentenceTransformer\n",
    "\n",
    "from langgraph.graph import END, StateGraph\n",
    "from langchain.prompts import PromptTemplate\n",
    "from langchain_core.output_parsers import StrOutputParser\n",
    "\n",
    "warnings.filterwarnings(\"ignore\", category=FutureWarning)"
   ]
  },
  {
   "cell_type": "code",
   "execution_count": 2,
   "metadata": {},
   "outputs": [
    {
     "name": "stdout",
     "output_type": "stream",
     "text": [
      "Elastic Search Connection successful: True\n"
     ]
    }
   ],
   "source": [
    "es_client = Elasticsearch(\n",
    "    hosts=\"https://512baa73334c4127ade77bc2dfa2ef02.eastus2.azure.elastic-cloud.com:443\",\n",
    "    basic_auth=(\"elastic\", \"XRzYOABuG17Yv32UKAFySw41\")\n",
    ")\n",
    "\n",
    "print(f\"Elastic Search Connection successful: {es_client.ping()}\")"
   ]
  },
  {
   "cell_type": "code",
   "execution_count": 3,
   "metadata": {},
   "outputs": [
    {
     "name": "stdout",
     "output_type": "stream",
     "text": [
      "LLM Model loaded\n"
     ]
    }
   ],
   "source": [
    "llm = ChatGroq(\n",
    "    temperature=0,\n",
    "    model_name=\"llama3-70b-8192\", #\"llama-3.1-8b-instant\",\n",
    "    # api_key=\"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\",\n",
    "    api_key=\"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\"\n",
    ")\n",
    "\n",
    "print(\"LLM Model loaded\")"
   ]
  },
  {
   "cell_type": "code",
   "execution_count": 4,
   "metadata": {},
   "outputs": [],
   "source": [
    "response = \"Based on the provided legal documents, I will answer the user's question regarding health-related laws.\\n\\nUser Question: What are the health-related laws and regulations in Abu Dhabi, and what are the responsibilities of the Department of Health?\\n\\nLegal Documents: Law No. (10) of 2018 concerning the establishment of the Department of Health and Law No. (4) of 2023 concerning the establishment of Abu Dhabi Media Office.\\n\\nResponse:\\n\\nThe Department of Health is responsible for regulating the health sector in Abu Dhabi, and its main objectives are to achieve the optimum level of health, treatment, prevention, and health insurance services in the emirate. The department's competencies include:\\n\\n1. Proposing strategic and implementing plans for the health sector in the emirate and supervising their implementation.\\n2. Regulating the health sector in all aspects through the development of policies, standards, regulations, resolutions, and circulars.\\n3. Licensing all entities, companies, and persons operating in the health sector and monitoring their commitment to providing the optimum level of quality of services.\\n4. Monitoring and supervising the health sector in accordance with the relevant legislations, conventions, and treaties in force for the sector on the local and international levels.\\n5. Proposing fees, tariffs, and prices related to its competencies and submitting them to the Executive Council for approval.\\n\\nThe Department of Health is also responsible for:\\n\\n* Monitoring and supervising affiliates, including their disbursements from their budgets and revenues earned, as well as their commitment to their duties and competencies.\\n* Approving their strategic and implementing plans.\\n* Regulating the health sector in all aspects through the development of policies, standards, regulations, resolutions, and circulars.\\n* Monitoring and supervising the health sector in accordance with the relevant legislations, conventions, and treaties in force for the sector on the local and international levels.\\n\\nThe Department of Health may delegate some of its competencies to any other governmental entity or outsource some to the private sector upon the approval of the Executive Council.\\n\\nIn terms of health-related laws and regulations, the Department of Health is responsible for enforcing the provisions of Law No. (23) of 2005 concerning the Health Insurance in the Emirate of Abu Dhabi, which requires all individuals and entities operating in the health sector to obtain a license from the Department of Health.\\n\\nAdditionally, the Department of Health is responsible for enforcing the provisions of Law No. (1) of 2007 concerning the Establishment of the Health Authority – Abu Dhabi, which has been repealed by Law No. (10) of 2018.\\n\\nThe Abu Dhabi Media Office, established by Law No. (4) of 2023, is responsible for promoting the emirate's image and reputation, and its competencies include:\\n\\n* Preparing the policy and strategic plans for media and government communication in the emirate.\\n* Organising, authorising, supervising, and controlling media production and interactive media activities in the emirate.\\n* Regulating media and governmental communication for governmental entities and companies in the emirate.\\n\\nHowever, the Abu Dhabi Media Office is not directly responsible for health-related laws and regulations, but it may work in coordination with the Department of Health to promote the emirate's health sector and services.\\n\\nIn summary, the Department of Health is responsible for regulating the health sector in Abu Dhabi, and its main objectives are to achieve the optimum level of health, treatment, prevention, and health insurance services in the emirate. The department's competencies include proposing strategic and implementing plans, regulating the health sector, licensing entities, and monitoring and supervising the health sector.\""
   ]
  },
  {
   "cell_type": "code",
   "execution_count": 5,
   "metadata": {},
   "outputs": [
    {
     "name": "stdout",
     "output_type": "stream",
     "text": [
      "Based on the provided legal documents, I will answer the user's question regarding health-related laws.\n",
      "\n",
      "User Question: What are the health-related laws and regulations in Abu Dhabi, and what are the responsibilities of the Department of Health?\n",
      "\n",
      "Legal Documents: Law No. (10) of 2018 concerning the establishment of the Department of Health and Law No. (4) of 2023 concerning the establishment of Abu Dhabi Media Office.\n",
      "\n",
      "Response:\n",
      "\n",
      "The Department of Health is responsible for regulating the health sector in Abu Dhabi, and its main objectives are to achieve the optimum level of health, treatment, prevention, and health insurance services in the emirate. The department's competencies include:\n",
      "\n",
      "1. Proposing strategic and implementing plans for the health sector in the emirate and supervising their implementation.\n",
      "2. Regulating the health sector in all aspects through the development of policies, standards, regulations, resolutions, and circulars.\n",
      "3. Licensing all entities, companies, and persons operating in the health sector and monitoring their commitment to providing the optimum level of quality of services.\n",
      "4. Monitoring and supervising the health sector in accordance with the relevant legislations, conventions, and treaties in force for the sector on the local and international levels.\n",
      "5. Proposing fees, tariffs, and prices related to its competencies and submitting them to the Executive Council for approval.\n",
      "\n",
      "The Department of Health is also responsible for:\n",
      "\n",
      "* Monitoring and supervising affiliates, including their disbursements from their budgets and revenues earned, as well as their commitment to their duties and competencies.\n",
      "* Approving their strategic and implementing plans.\n",
      "* Regulating the health sector in all aspects through the development of policies, standards, regulations, resolutions, and circulars.\n",
      "* Monitoring and supervising the health sector in accordance with the relevant legislations, conventions, and treaties in force for the sector on the local and international levels.\n",
      "\n",
      "The Department of Health may delegate some of its competencies to any other governmental entity or outsource some to the private sector upon the approval of the Executive Council.\n",
      "\n",
      "In terms of health-related laws and regulations, the Department of Health is responsible for enforcing the provisions of Law No. (23) of 2005 concerning the Health Insurance in the Emirate of Abu Dhabi, which requires all individuals and entities operating in the health sector to obtain a license from the Department of Health.\n",
      "\n",
      "Additionally, the Department of Health is responsible for enforcing the provisions of Law No. (1) of 2007 concerning the Establishment of the Health Authority – Abu Dhabi, which has been repealed by Law No. (10) of 2018.\n",
      "\n",
      "The Abu Dhabi Media Office, established by Law No. (4) of 2023, is responsible for promoting the emirate's image and reputation, and its competencies include:\n",
      "\n",
      "* Preparing the policy and strategic plans for media and government communication in the emirate.\n",
      "* Organising, authorising, supervising, and controlling media production and interactive media activities in the emirate.\n",
      "* Regulating media and governmental communication for governmental entities and companies in the emirate.\n",
      "\n",
      "However, the Abu Dhabi Media Office is not directly responsible for health-related laws and regulations, but it may work in coordination with the Department of Health to promote the emirate's health sector and services.\n",
      "\n",
      "In summary, the Department of Health is responsible for regulating the health sector in Abu Dhabi, and its main objectives are to achieve the optimum level of health, treatment, prevention, and health insurance services in the emirate. The department's competencies include proposing strategic and implementing plans, regulating the health sector, licensing entities, and monitoring and supervising the health sector.\n"
     ]
    }
   ],
   "source": [
    "print(response)"
   ]
  },
  {
   "cell_type": "code",
   "execution_count": null,
   "metadata": {},
   "outputs": [],
   "source": []
  }
 ],
 "metadata": {
  "kernelspec": {
   "display_name": "LegalDocRAG",
   "language": "python",
   "name": "python3"
  },
  "language_info": {
   "codemirror_mode": {
    "name": "ipython",
    "version": 3
   },
   "file_extension": ".py",
   "mimetype": "text/x-python",
   "name": "python",
   "nbconvert_exporter": "python",
   "pygments_lexer": "ipython3",
   "version": "3.11.10"
  }
 },
 "nbformat": 4,
 "nbformat_minor": 2
}
