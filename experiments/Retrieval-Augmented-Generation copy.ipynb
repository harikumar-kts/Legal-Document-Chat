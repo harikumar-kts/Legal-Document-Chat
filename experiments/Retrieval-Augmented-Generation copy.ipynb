{
 "cells": [
  {
   "cell_type": "code",
   "execution_count": 3,
   "metadata": {},
   "outputs": [
    {
     "name": "stderr",
     "output_type": "stream",
     "text": [
      "c:\\Users\\tshar\\anaconda3\\envs\\LegalDocRAG\\Lib\\site-packages\\IPython\\core\\interactiveshell.py:3577: LangChainDeprecationWarning: As of langchain-core 0.3.0, LangChain uses pydantic v2 internally. The langchain_core.pydantic_v1 module was a compatibility shim for pydantic v1, and should no longer be used. Please update the code to import from Pydantic directly.\n",
      "\n",
      "For example, replace imports like: `from langchain_core.pydantic_v1 import BaseModel`\n",
      "with: `from pydantic import BaseModel`\n",
      "or the v1 compatibility namespace if you are working in a code base that has not been fully upgraded to pydantic 2 yet. \tfrom pydantic.v1 import BaseModel\n",
      "\n",
      "  exec(code_obj, self.user_global_ns, self.user_ns)\n",
      "c:\\Users\\tshar\\anaconda3\\envs\\LegalDocRAG\\Lib\\site-packages\\sentence_transformers\\cross_encoder\\CrossEncoder.py:13: TqdmExperimentalWarning: Using `tqdm.autonotebook.tqdm` in notebook mode. Use `tqdm.tqdm` instead to force console mode (e.g. in jupyter console)\n",
      "  from tqdm.autonotebook import tqdm, trange\n"
     ]
    }
   ],
   "source": [
    "import warnings\n",
    "from typing import List, Optional, Dict\n",
    "from langchain_core.pydantic_v1 import BaseModel, Field\n",
    "\n",
    "from langchain_groq import ChatGroq\n",
    "from elasticsearch import Elasticsearch\n",
    "from sentence_transformers import SentenceTransformer\n",
    "\n",
    "from langgraph.graph import END, StateGraph\n",
    "from langchain.prompts import PromptTemplate\n",
    "from langchain_core.output_parsers import StrOutputParser\n",
    "\n",
    "warnings.filterwarnings(\"ignore\", category=FutureWarning)"
   ]
  },
  {
   "cell_type": "markdown",
   "metadata": {},
   "source": [
    "`1. Initializing Elastic search client, LLM model connection and Embedding model`"
   ]
  },
  {
   "cell_type": "code",
   "execution_count": 4,
   "metadata": {},
   "outputs": [
    {
     "name": "stdout",
     "output_type": "stream",
     "text": [
      "Elastic Search Connection successful: True\n",
      "LLM Model loaded\n"
     ]
    },
    {
     "name": "stderr",
     "output_type": "stream",
     "text": [
      "<All keys matched successfully>\n"
     ]
    },
    {
     "name": "stdout",
     "output_type": "stream",
     "text": [
      "Embedding Model loaded\n"
     ]
    }
   ],
   "source": [
    "es_client = Elasticsearch(\n",
    "    hosts=\"https://512baa73334c4127ade77bc2dfa2ef02.eastus2.azure.elastic-cloud.com:443\",\n",
    "    basic_auth=(\"elastic\", \"XRzYOABuG17Yv32UKAFySw41\")\n",
    ")\n",
    "\n",
    "print(f\"Elastic Search Connection successful: {es_client.ping()}\")\n",
    "\n",
    "llm = ChatGroq(\n",
    "    temperature=0,\n",
    "    model_name=\"llama-3.1-8b-instant\",\n",
    "    # api_key=\"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\",\n",
    "    api_key=\"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\"\n",
    ")\n",
    "\n",
    "print(\"LLM Model loaded\")\n",
    "\n",
    "model_name = \"nomic-ai/nomic-embed-text-v1\"\n",
    "model = SentenceTransformer(model_name, trust_remote_code=True)\n",
    "\n",
    "print(\"Embedding Model loaded\")\n",
    "\n",
    "def embedding_creation(input_texts, model):\n",
    "    embedding = model.encode(input_texts)\n",
    "    return embedding.tolist()"
   ]
  },
  {
   "cell_type": "code",
   "execution_count": 20,
   "metadata": {},
   "outputs": [
    {
     "name": "stdout",
     "output_type": "stream",
     "text": [
      "[0.05320166051387787, 0.009270425885915756, -0.02038547769188881, -0.03376682475209236, 0.013245669193565845, 0.03141860291361809, 0.03381296619772911, 0.015163923613727093, -0.042463403195142746, -0.018505126237869263, -0.01898069493472576, 0.0423465259373188, 0.05877299606800079, 0.03942979499697685, 0.039538897573947906, -0.04362544044852257, 0.08177028596401215, -0.005457289516925812, -0.03233932703733444, -0.0020926976576447487, 0.024892674759030342, -0.05255647003650665, 5.828490247949958e-05, -0.018829913809895515, 0.1901833564043045, -0.020415714010596275, 0.02401735633611679, 0.054968249052762985, -0.0211741104722023, -0.022106170654296875, 0.012289210222661495, -0.0021186254452914, 0.023014849051833153, -0.02732783369719982, 0.012837995775043964, -0.016583681106567383, 0.016315419226884842, 0.021133868023753166, 0.01682966761291027, 0.040230657905340195, 0.02859254740178585, -0.009654542431235313, 0.03104333020746708, -0.030321625992655754, 0.019781263545155525, 0.03613482788205147, -0.01927422732114792, 0.013917464762926102, 0.03290024772286415, -0.049854621291160583, -0.024048827588558197, 0.022281216457486153, -0.0059640551917254925, 0.01098113227635622, -0.05601217970252037, 0.04161055013537407, 0.033625390380620956, -0.010518115013837814, 0.0327783040702343, -0.025534041225910187, -0.027214940637350082, 0.04206840693950653, 0.023022089153528214, 0.039049167186021805, -0.005145814269781113, -0.061102643609046936, -0.006352322641760111, -0.0007463424699380994, 0.06185721233487129, -0.011725688353180885, 0.06404950469732285, -0.002445736201480031, 0.016870683059096336, 0.013261736370623112, 0.02323056571185589, 0.02968909963965416, 0.03398682177066803, -0.016983870416879654, -0.0317159928381443, -0.03645450994372368, -0.004672860726714134, -0.07755401730537415, 0.03314682096242905, -0.03806998208165169, 0.04951540008187294, -0.043982792645692825, 0.006997150834649801, 0.02153906226158142, -0.049141816794872284, -0.03369223698973656, 0.027592122554779053, -0.009420068934559822, -0.014901588670909405, 0.05877739563584328, -0.022994227707386017, -0.005512972362339497, -0.03128623962402344, -0.03433997556567192, -0.0463843010365963, -0.015241739340126514, -0.006046196911484003, 0.05310096591711044, -0.009301502257585526, -0.0062820790335536, 0.06549196690320969, 0.040742501616477966, -0.01606704667210579, -0.024387460201978683, -0.014026896096765995, -0.028927337378263474, -0.05986786261200905, -0.002212516264989972, 0.00034943653736263514, 0.012035696767270565, -0.0014727887464687228, 0.0049090152606368065, 0.032793208956718445, -0.11023350805044174, 0.00431777723133564, 0.04214229807257652, -0.07354795932769775, 0.01703750155866146, 0.011442432180047035, 0.03448887914419174, 0.02207448147237301, 0.015473335981369019, -0.08926600217819214, -0.015462171286344528, -0.01798407919704914, 0.012740408070385456, 0.004668237175792456, -0.02312549762427807, -0.012073955498635769, -0.05251806601881981, 0.04747644439339638, 0.01957636885344982, -0.03456280753016472, -0.040876127779483795, 0.03418514505028725, -0.01958307810127735, 0.005175479222089052, 0.015593117102980614, 0.009136858396232128, -0.043497756123542786, -0.013824177905917168, -0.027618316933512688, 0.07986117154359818, -0.057251788675785065, 0.029481997713446617, -0.024931175634264946, 0.008158446289598942, 0.04990623518824577, 0.031499821692705154, -0.00800296664237976, -0.02305484190583229, -0.022339697927236557, -0.020822463557124138, 0.002459700684994459, 0.02492155320942402, -0.02419431507587433, -0.011511744000017643, -0.014540135860443115, -0.055739421397447586, 0.01903054304420948, -0.046397555619478226, -0.040222425013780594, -0.023139886558055878, 0.03827909007668495, 0.04099053516983986, 0.038485269993543625, -0.00042926098103635013, -0.02785877324640751, -0.015229382552206516, -0.030233750119805336, -0.004285366274416447, 0.044915325939655304, -0.0336061492562294, -0.06206584349274635, 0.039115309715270996, 0.018256254494190216, 0.034572064876556396, -0.03121456876397133, 0.036392692476511, 0.02504504658281803, -0.03622383251786232, -0.014372234232723713, 0.0019071624847128987, -0.007739432156085968, 0.003610580926761031, -0.00878467783331871, -0.01940227672457695, 0.003498224075883627, -0.04760031774640083, -0.03230520337820053, 0.004460537806153297, -0.03048403561115265, 0.0308636873960495, 0.02399260364472866, 0.0494055338203907, -0.00613770866766572, -0.038936156779527664, -0.013844450935721397, -0.011522512882947922, 0.020880308002233505, 0.018367724493145943, 0.0808761790394783, 0.022273557260632515, 0.01897239312529564, 0.07109729200601578, 0.006013793870806694, 0.07399364560842514, -0.034487105906009674, -0.02552914060652256, 0.007581451907753944, -0.019150108098983765, 0.0054202936589717865, 0.024419600144028664, -0.008733757771551609, -0.008514570072293282, 0.04413202032446861, 0.04821190610527992, -0.07267185300588608, 0.023448912426829338, -0.009881105273962021, 0.04648099094629288, -0.023718278855085373, -0.0019464072538539767, -0.01565018855035305, -0.09728998690843582, 0.009757454507052898, -0.05971493944525719, -0.047050587832927704, 0.023920578882098198, 0.014900321140885353, -0.015405094251036644, 0.02329486794769764, 0.02615547738969326, 0.05659547448158264, -0.006179356016218662, -0.01581362821161747, -0.02391502447426319, 0.023237725719809532, 0.041929714381694794, -0.004520466085523367, -0.08594487607479095, 0.040731389075517654, -0.01952606439590454, 0.019495252519845963, -0.007563618943095207, -0.008602768182754517, -0.008210872299969196, 0.0034632994793355465, -0.028001127764582634, 0.036837026476860046, 0.03555971011519432, -0.0448947437107563, -0.04255279526114464, 0.03366454318165779, -0.02909725159406662, -0.034294966608285904, 0.022105718031525612, -0.09035959094762802, 0.004551620688289404, -0.06866592168807983, -0.027975579723715782, 0.03659911826252937, -0.037758395075798035, -0.0013167946599423885, 0.03806411102414131, -0.025088058784604073, -0.001981067471206188, -0.022265944629907608, 0.06711692363023758, 0.016193345189094543, -0.03799767047166824, 0.0078107756562530994, 0.00442952336743474, 0.010590928606688976, -0.022105323150753975, -0.03750607743859291, -0.04029218852519989, -0.02622949704527855, -0.06677725166082382, -0.022128384560346603, -0.014763899147510529, 0.05649295449256897, 0.0384734570980072, 0.006379375234246254, -0.011732404120266438, 0.017807764932513237, -0.006543885450810194, 0.01594843715429306, 0.04859388992190361, 0.07454593479633331, -0.0003684127295855433, 0.006957712583243847, 0.0036372216418385506, 0.0340888574719429, -0.031317904591560364, 0.007466432638466358, -0.051540765911340714, 0.046538662165403366, 0.012689313851296902, -0.04110828787088394, 0.02081421948969364, 0.012258131057024002, 0.024624131619930267, -0.0211199764162302, 0.050982434302568436, 0.05111163109540939, -0.061014387756586075, 0.07005643844604492, -0.05561240762472153, -0.012963909655809402, -0.04303084686398506, 0.030626637861132622, -0.005676060914993286, 0.021687718108296394, 0.07895878702402115, 0.04860391095280647, 3.6747460399055853e-05, -0.022415312007069588, 0.0012245479738339782, -0.05372807756066322, 0.002773658372461796, 0.006277910433709621, 0.05496649816632271, 0.0754631757736206, 0.030797012150287628, -0.01855487935245037, 0.007021372672170401, 0.028912505134940147, -0.07477683573961258, -0.003191903466358781, 0.0048280078917741776, 0.02040919102728367, 0.003913517110049725, 0.007128017023205757, -0.03398134559392929, 0.044522468000650406, 0.002643861575052142, -0.03851040452718735, -0.004143372178077698, -0.026460586115717888, -0.01980682648718357, -0.05084626376628876, -0.008737974800169468, -0.0001803968771127984, -0.007768972311168909, -0.01670576073229313, -0.004162950441241264, 0.038788553327322006, -0.021878359839320183, 0.0026260626036673784, 0.0002927064779214561, 0.04751548916101456, 0.02928592637181282, 0.0031803464516997337, 0.020711835473775864, -0.021524036303162575, -0.01826895959675312, -0.02420184388756752, 0.03979575261473656, 0.024616872891783714, -0.018002720549702644, 0.042116109281778336, 0.009813203476369381, 0.018831679597496986, 0.006415320094674826, -0.005056544207036495, -0.05247199535369873, -0.04364883527159691, 0.010462279431521893, 0.02995070070028305, 0.05110497772693634, 0.03677560016512871, -0.08897332847118378, -0.015538172796368599, 0.007604375947266817, -0.0036027254536747932, 0.008888938464224339, -0.0031398427672684193, 0.0644640251994133, -0.0417080894112587, 0.034576818346977234, 0.04932500049471855, 0.010653031058609486, 0.00793610978871584, 0.015646852552890778, -0.01733987033367157, -0.025796836242079735, 0.00262008560821414, -0.004573639016598463, 0.020371222868561745, 0.0012087536742910743, 0.017218727618455887, 0.04006945714354515, 0.012451207265257835, -0.044634461402893066, -0.036587487906217575, -0.020103979855775833, 0.002711252309381962, 0.007281643338501453, -0.052052710205316544, 0.01427390519529581, -0.011771474964916706, -0.013429119251668453, -0.0433875247836113, 0.016958359628915787, -0.021861597895622253, 0.04336430877447128, -0.019788453355431557, 0.009489432908594608, -0.03998970240354538, 0.02103688009083271, -0.0019758243579417467, 0.05769399181008339, -0.057018570601940155, 0.0015783746493980289, 0.005392061546444893, 0.025333058089017868, 0.04651205614209175, 0.009290342219173908, -0.001745662884786725, -0.03552925959229469, 0.0449737124145031, -0.0022228036541491747, 0.012752652168273926, 0.020434213802218437, -0.0561501607298851, 0.002226367359980941, -0.018249336630105972, 0.030594220384955406, 0.07075515389442444, -0.049606651067733765, -0.028614843264222145, 0.04892992228269577, -0.01624210551381111, 0.01658204384148121, 0.0012097471626475453, 0.030304206535220146, -0.030550705268979073, -0.053425971418619156, 0.004493029322475195, 0.059836383908987045, 0.11260416358709335, 0.1187148466706276, -0.025873783975839615, -0.03985714167356491, -0.043884992599487305, 0.056939784437417984, 0.00836135633289814, -0.0032348246313631535, -0.0015196611639112234, 0.08096083998680115, -0.03313329070806503, 0.06373026221990585, -0.025690576061606407, 0.01670876517891884, 0.013084206730127335, 0.04232901334762573, 0.018419351428747177, -0.005357267800718546, 0.0048989770002663136, -0.01711634360253811, -0.05648244544863701, 0.021888302639126778, -0.0070475065149366856, -0.003119793487712741, 0.04352116212248802, -0.04497774317860603, -0.04830003157258034, 0.015297545120120049, -0.01759248413145542, -0.034116119146347046, 0.024981148540973663, 0.04226416349411011, -0.031104905530810356, -0.004057575017213821, 0.029429450631141663, 0.007678891997784376, 0.029505306854844093, -0.04431294649839401, 0.01595064252614975, 0.009900681674480438, 0.04299752041697502, -0.005428018048405647, 0.02439301088452339, 0.0010603527771309018, 0.012873062863945961, -0.005372421815991402, 0.021939164027571678, 0.03096291609108448, 0.02613280899822712, -0.03742838650941849, -0.02360713668167591, -0.05452414229512215, 0.0218085665255785, -0.025183619931340218, -0.041175615042448044, -0.004493982996791601, -0.016471778973937035, 0.011455759406089783, 0.023723697289824486, 0.006663321051746607, 0.030282633379101753, 0.02015024609863758, -0.07743410021066666, 0.013438108377158642, -0.005175524856895208, 0.024427173659205437, 0.010595246218144894, 0.014253445900976658, 0.04987247288227081, 0.0650259479880333, -0.04576142504811287, 0.0546138733625412, -0.0068350681103765965, -0.06004738807678223, 0.08916027098894119, -0.007451893761754036, -0.06576987355947495, 0.018933944404125214, 0.04534435272216797, -0.06972960382699966, 0.06475657969713211, -0.037411171942949295, 0.010315577499568462, 0.05526142194867134, 0.0017669921508058906, -0.017023585736751556, 0.022974500432610512, -0.011625416576862335, -0.05738057196140289, 0.018897192552685738, -0.020836863666772842, -0.04007238522171974, 0.04053724557161331, -0.012203261256217957, -0.004108893685042858, -0.06148106977343559, 0.0356813482940197, -0.015293743461370468, -0.01624203473329544, 0.04599323123693466, -7.37131449568551e-06, -0.03211053088307381, -0.009591286070644855, -0.006956881377846003, -0.023718129843473434, -0.020148934796452522, -0.04241608828306198, 0.01473857183009386, -0.06313914060592651, -0.05808475613594055, -0.07800225168466568, -0.01803435944020748, 0.01970187947154045, -0.01932206191122532, -0.06479869782924652, 0.0485483780503273, 0.027655737474560738, -0.024513453245162964, -0.02614356018602848, 0.03491876274347305, -0.06702820211648941, -0.0026964896824210882, -0.02125183865427971, -0.003253641538321972, -0.04913521930575371, -0.021791934967041016, -0.03514730557799339, 0.0484173409640789, -0.03951457887887955, 0.016806606203317642, 0.004168496932834387, 0.046539902687072754, -0.010329018346965313, -0.05910174921154976, -0.041505422443151474, -0.010978135280311108, -0.011072244495153427, -0.031846124678850174, 0.04679138585925102, -0.002208712976425886, 0.023014379665255547, 0.0076361061073839664, -0.04120595008134842, 0.06797326356172562, 0.012169606983661652, 0.015255769714713097, -0.018957186490297318, 0.027896979823708534, -0.030438963323831558, -0.03803601115942001, 0.07896400988101959, -0.017355797812342644, -0.023571675643324852, -0.011462830007076263, -0.01665547303855419, -0.0425768718123436, 0.01144540123641491, 0.047446418553590775, -0.027627896517515182, 0.017820850014686584, 0.08557971566915512, 0.019152160733938217, 0.03616661950945854, 0.024344466626644135, 0.006350078620016575, 0.03964270278811455, 0.039181411266326904, -0.0450303815305233, 0.012963862158358097, 0.016907839104533195, -0.027126071974635124, -0.02680448442697525, -0.017750296741724014, 0.042012427002191544, -0.038544345647096634, 0.010759399272501469, -0.014333749189972878, 0.033535491675138474, -0.016299914568662643, -0.006963811814785004, -0.012818938121199608, -0.012042098678648472, -0.03586212173104286, -0.03910199925303459, 0.06849749386310577, 0.033951837569475174, -0.05395209416747093, -0.07670079171657562, -0.0158648993819952, 0.03232135996222496, 0.01222065556794405, 0.025920622050762177, -0.010128511115908623, 0.028304075822234154, 0.009681574068963528, 0.09511779248714447, -0.004760288633406162, 0.009884929284453392, -0.0038833722937852144, 0.03970641642808914, 0.003803173778578639, -0.0001298476563533768, -0.02313832938671112, 0.021140504628419876, 0.013881915248930454, 0.03623718395829201, 0.04010215029120445, -0.01572626829147339, 0.04255001246929169, -0.003697752021253109, -0.010666124522686005, 0.00313822110183537, 0.024778034538030624, -0.06399942934513092, 0.03619652986526489, -0.03154299780726433, 0.016912119463086128, -0.09579789638519287, -0.07575054466724396, 0.05469152703881264, -0.003724858397617936, -0.04783535376191139, 0.016980372369289398, -0.04303380101919174, 0.01063260156661272, -0.04305318742990494, -0.04245598986744881, -0.006867753807455301, -0.030562499538064003, -0.07286389172077179, 0.05213399976491928, 0.036473821848630905, -0.002946744905784726, 0.02645430527627468, -0.027854671701788902, -0.010907193645834923, -0.010506481863558292, -0.007132776081562042, 0.04474017769098282, 0.02400903031229973, -0.06398455053567886, 0.045985233038663864, -0.003688327269628644, -0.050069522112607956, -0.0845717191696167, 0.028566697612404823, -0.022563358768820763, -0.022390559315681458, -0.031121525913476944, -0.01620042324066162, -0.013746383599936962, -0.04274473339319229, 0.051460765302181244, -0.014816799201071262, 0.043185316026210785, -0.05511403828859329, -0.010747463442385197, -0.013901949860155582, 0.017786504700779915, -0.02239258959889412, -0.020093049854040146, -0.00020143443543929607, 0.07414974272251129, -0.03542686626315117, -0.0016839616000652313, -0.026971954852342606, 0.03275217115879059, 0.053419701755046844, 0.03415234759449959, 0.01457944419234991, -0.016787569969892502, -0.01705566607415676, 0.0061273700557649136, 0.006800765171647072, 0.04501276835799217, 0.08134739100933075, 0.0178034957498312, -0.04877099394798279, 0.02760431542992592, -0.03553356975317001, -0.029498951509594917, 0.01629369519650936, -0.011399218812584877, 0.016060134395956993, -0.029305770993232727, -0.028195708990097046, -0.015330962836742401, -0.0316794328391552, 0.05219662934541702, -0.009153054095804691, 0.015897639095783234, 0.017071660608053207, -0.06499694287776947, -0.012513584457337856, 0.01309193391352892, -0.0289168618619442, -0.10263176262378693, -0.013926064595580101, 0.09370008856058121, -0.014197359792888165, -0.048591092228889465, 0.029130565002560616, 0.02551327645778656, -0.009475997649133205, 0.0016582738608121872, 0.018173260614275932, -0.005024894140660763, -0.010326938703656197, -0.023426750674843788, 0.04131653904914856, 0.016421552747488022, -0.024565614759922028, 0.05499397590756416, 0.020954355597496033, -0.0547528974711895, 0.04105909913778305, 0.00048616898129694164, 0.008088056929409504, 0.04358851909637451, 0.020863665267825127, 0.01811225898563862, -0.06870913505554199, -0.014914199709892273]\n"
     ]
    }
   ],
   "source": [
    "print(embedding_creation(\"Hello\", model))"
   ]
  },
  {
   "cell_type": "markdown",
   "metadata": {},
   "source": [
    "`2. RAG`"
   ]
  },
  {
   "cell_type": "markdown",
   "metadata": {},
   "source": [
    "`2.1 Multi Query Generation`"
   ]
  },
  {
   "cell_type": "code",
   "execution_count": 6,
   "metadata": {},
   "outputs": [],
   "source": [
    "query = \"List of Board of Trustees of Mohamed bin Zayed University?\""
   ]
  },
  {
   "cell_type": "code",
   "execution_count": 7,
   "metadata": {},
   "outputs": [],
   "source": [
    "class MultiQuerySchema(BaseModel):\n",
    "    Questions: List[str] = Field(description=\"List of questions\")\n",
    "\n",
    "\n",
    "MULTI_QUERY_PROMPT = PromptTemplate(\n",
    "    template=\"\"\"\n",
    "    <|begin_of_text|>\n",
    "    <|start_header_id|>system<|end_header_id|>  \n",
    "    You are an AI, specialized in generating effective multi-queries for Retrieval Augmented Generation (RAG) systems.\n",
    "\n",
    "    Guidelines:\n",
    "    1. Analyze the user's original query and generate a set of five distinct yet relevant search queries that cover:\n",
    "        - Synonyms and similar terms\n",
    "        - Related subtopics or specific aspects\n",
    "        - Broader and narrower variations of the original query\n",
    "    2. Aim to create queries that will increase the chances of retrieving diverse, relevant results by considering different interpretations and possible user intents.\n",
    "    3. Provide JSON response, with list of questions like {{ \"Questions\": [\"Question 1\", \"Question 2\", ..] }}\n",
    "    4. Provide only the list of queries without any additional explanations or commentary.\n",
    "\n",
    "    User Query: \"{user_query}\"\n",
    "    <|eot_id|>\n",
    "    <|start_header_id|>assistant<|end_header_id|>\n",
    "    \"\"\",\n",
    "    input_variables=[\"user_query\"],\n",
    ")\n",
    "\n",
    "structured_llm = llm.with_structured_output(MultiQuerySchema, method=\"json_mode\")\n",
    "\n",
    "multi_query_generation = MULTI_QUERY_PROMPT | structured_llm"
   ]
  },
  {
   "cell_type": "code",
   "execution_count": 8,
   "metadata": {},
   "outputs": [
    {
     "data": {
      "text/plain": [
       "['Mohamed bin Zayed University Board of Directors',\n",
       " 'Members of the Board of Trustees of Mohamed bin Zayed University',\n",
       " 'List of Trustees of Mohamed bin Zayed University Abu Dhabi',\n",
       " 'Mohamed bin Zayed University governing body members',\n",
       " 'Who are the members of the Board of Trustees of Mohamed bin Zayed University?']"
      ]
     },
     "execution_count": 8,
     "metadata": {},
     "output_type": "execute_result"
    }
   ],
   "source": [
    "multi_query_response = multi_query_generation.invoke({\"user_query\": query})\n",
    "multi_query_response.Questions"
   ]
  },
  {
   "cell_type": "markdown",
   "metadata": {},
   "source": [
    "`2.2 Agent: Enriching Queries with Synonyms`"
   ]
  },
  {
   "cell_type": "code",
   "execution_count": 16,
   "metadata": {},
   "outputs": [],
   "source": [
    "# 1. Query Enriching Agent\n",
    "\n",
    "QUERY_ENRICHING_PROMPT = PromptTemplate(\n",
    "    template=\"\"\"\n",
    "    <|begin_of_text|>\n",
    "    <|start_header_id|>system<|end_header_id|>  \n",
    "    You are an AI assistant specialized in generating Elasticsearch query strings. \n",
    "    Your task is to create the most effective query string for the given user question. \n",
    "    This query string will be used to search for relevant documents in an Elasticsearch index.\n",
    "\n",
    "    Guidelines:\n",
    "    1. Analyze the user's question carefully.\n",
    "    2. Generate ONLY a query string suitable for Elasticsearch's match query.\n",
    "    3. Focus on key terms and concepts from the question.\n",
    "    4. Include synonyms or related terms that might be in relevant documents.\n",
    "    5. Use simple Elasticsearch query string syntax if helpful (e.g., OR, AND).\n",
    "    6. Do not use advanced Elasticsearch features or syntax.\n",
    "    7. Do not include any explanations, comments, or additional text.\n",
    "    8. Provide only the query string, nothing else.\n",
    "\n",
    "    For the question \"What is Clickthrough Data?\", we would expect a response like:\n",
    "    clickthrough data OR click-through data OR click through rate OR CTR OR user clicks OR ad clicks OR search engine results OR web analytics\n",
    "\n",
    "    AND operator is not allowed. Use only OR.\n",
    "\n",
    "    User Question: {user_query}\n",
    "    <|eot_id|>\n",
    "    <|start_header_id|>assistant<|end_header_id|>\n",
    "    \"\"\",\n",
    "    input_variables=[\"user_query\"],\n",
    ")\n",
    "\n",
    "query_enricher = QUERY_ENRICHING_PROMPT | llm | StrOutputParser()"
   ]
  },
  {
   "cell_type": "code",
   "execution_count": 17,
   "metadata": {},
   "outputs": [
    {
     "data": {
      "text/plain": [
       "['Mohamed bin Zayed University',\n",
       " 'Mohamed bin Zayed University Board of Directors',\n",
       " 'Board of Trustees',\n",
       " 'Board of Trustees of Mohamed bin Zayed University',\n",
       " 'Trustees of Mohamed bin Zayed University Abu Dhabi',\n",
       " 'governing body',\n",
       " 'governing body members',\n",
       " 'members of the Board of Trustees',\n",
       " 'members of the Board of Directors']"
      ]
     },
     "execution_count": 17,
     "metadata": {},
     "output_type": "execute_result"
    }
   ],
   "source": [
    "query_text = query_enricher.invoke({\"user_query\": multi_query_response.Questions})\n",
    "enriched_query = [term.strip() for term in query_text.split(' OR ')]\n",
    "enriched_query"
   ]
  },
  {
   "cell_type": "markdown",
   "metadata": {},
   "source": [
    "`2.3 Tool: Hybrid Search`"
   ]
  },
  {
   "cell_type": "code",
   "execution_count": 21,
   "metadata": {},
   "outputs": [],
   "source": [
    "def hybrid_vector_search(\n",
    "        conn,\n",
    "        index_name: str, \n",
    "        query_keys: str, \n",
    "        query_vector: List[float], \n",
    "        text_fields: List[str], \n",
    "        vector_field: str, \n",
    "        num_candidates: int = 100, \n",
    "        num_results: int = 10,\n",
    "    ) -> Dict:\n",
    "\n",
    "\n",
    "    search_body = {\n",
    "            \"knn\": {\n",
    "                \"field\": vector_field,\n",
    "                \"query_vector\": query_vector,\n",
    "                \"k\": num_candidates,\n",
    "                \"num_candidates\": num_candidates\n",
    "            },\n",
    "            \"query\": {\n",
    "                \"bool\": {\n",
    "                    \"must\": [\n",
    "                        {\n",
    "                            \"multi_match\": {\n",
    "                                \"query\": \" \".join(query_keys),  \n",
    "                                \"fields\": text_fields,\n",
    "                                \"type\": \"best_fields\",\n",
    "                                \"operator\": \"or\" \n",
    "                            }\n",
    "                        }\n",
    "                    ],\n",
    "                    \"should\": [\n",
    "                        {\n",
    "                            \"script_score\": {\n",
    "                                \"query\": {\"match_all\": {}},\n",
    "                                \"script\": {\n",
    "                                    \"source\": \"\"\"\n",
    "                                    double vector_score = cosineSimilarity(params.query_vector, params.vector_field) + 1.0;\n",
    "                                    double text_score = _score;\n",
    "                                    return 0.7 * vector_score + 0.3 * text_score;\n",
    "                                    \"\"\",\n",
    "                                    \"params\": {\n",
    "                                        \"query_vector\": query_vector,  \n",
    "                                        \"vector_field\": vector_field\n",
    "                                    }\n",
    "                                }\n",
    "                            }\n",
    "                        }\n",
    "                    ]\n",
    "                }\n",
    "            }\n",
    "        }\n",
    "\n",
    "    response = conn.search(index=index_name, body=search_body, size=num_results)\n",
    "\n",
    "    return response, search_body\n"
   ]
  },
  {
   "cell_type": "code",
   "execution_count": 22,
   "metadata": {},
   "outputs": [
    {
     "name": "stderr",
     "output_type": "stream",
     "text": [
      "C:\\Users\\tshar\\AppData\\Local\\Temp\\ipykernel_33648\\2427214058.py:54: DeprecationWarning: Received 'size' via a specific parameter in the presence of a 'body' parameter, which is deprecated and will be removed in a future version. Instead, use only 'body' or only specific parameters.\n",
      "  response = conn.search(index=index_name, body=search_body, size=num_results)\n"
     ]
    },
    {
     "data": {
      "text/plain": [
       "[{'score': 112.34246,\n",
       "  'heading': 'executive council resolution no. (11) of 2023 concerning the reformation of the board of trustees of mohamed bin zayed university for humanities',\n",
       "  'content': 'executive council resolution no. (11) of 2023 concerning the reformation of the board of trustees of mohamed bin zayed university for humanities having reviewed chairman of the executive council resolution no. (27) of 2020 concerning the formation of the board of trustees of mohamed bin zayed university for humanities. the executive council has decided the following: 1. the board of trustees of mohamed bin zayed university for humanities shall be reformed under the chairmanship of h.e. dr. mohammed rashid ahmed al hamli, and the membership of: • mubarak hamad mubarak al muhairi - vice chairman • mohammed hamza hassan al qassim. • maryam eid khamis al muhairi • abdullah aqueeda ali al muhairi • dr. omar habtoor theeb al-derei. • ghanem sultan ahmed al suwaidi. 2. the membership term of the board shall be three renewable years. 3. this resolution shall be effective from the date of its issuance and published in the official gazette. saif saeed ghobash secretary-general issued on: 13 february 2023 corresponding to: 22 rajab 1444 hijri ',\n",
       "  'reference': ['Chairman of the Executive Council Resolution No. (27) of 2020 concerning the Formation of the Board of Trustees of Mohamed Bin Zayed University for Humanities',\n",
       "   'Executive Council Resolution No. (11) of 2023 concerning the Reformation of the Board of Trustees of Mohamed Bin Zayed University for Humanities']},\n",
       " {'score': 67.35908,\n",
       "  'heading': 'executive council resolution no. (205) of 2021 concerning the replacement of a member of the board of trustees of mohamed bin zayed university for artificial intelligence',\n",
       "  'content': 'executive council resolution no. (205) of 2021 concerning the replacement of a member of the board of trustees of mohamed bin zayed university for artificial intelligence  pursuant to the chairman of the executive council resolution no. (41) of 2019 concerning the formation of the board of trustees of mohamed bin zayed university for artificial intelligence; the executive council has decided the following: h.e. mansour ibrahim al-mansouri shall replace dr. andrew yao as a member of the board of trustees of mohamed bin zayed university for artificial intelligence. saif saeed ghobash secretary-general issuance date: 8 december 2021 corresponding to: 3 jumada al-awwal 1443 hijri ',\n",
       "  'reference': ['law no. (1) of 1974']},\n",
       " {'score': 58.432285,\n",
       "  'heading': 'amiri decree no. (6) of 2022 concerning sending a judge to retirement',\n",
       "  'content': 'amiri decree no. (6) of 2022 concerning sending a judge to retirement we, mohamed bin zayed al nahyan, ruler of abu dhabi, having reviewed: • law no. (1) of 1974 concerning the reorganisation of the governmental body in the emirate of abu dhabi and its amendments; • law no. (23) of 2006 concerning the judicial department in the emirate of abu dhabi and its amendments; and • based on the recommendation of the judicial council and what was presented by the chairman of the judicial department, issued the following decree: article (1) judge saeed ghorabi makhdoubi al amiri, trial judge - fourth grade, shall be sent to retirement. article (2) this decree shall be effective from the date of its issuance and published in the official gazette.  executive council resolutions executive council resolutions executive council resolution no. (131) of 2021 concerning the reformation of the board of trustees of the emirates college for advanced education  having reviewed chairman of the executive council resolution no. (20) of 2020 concerning the reformation of the board of trustees of the emirates college for advanced education, the executive council has decided the following: the board of trustees of the emirates college for advanced education shall be reformed under the chairmanship of h.e sarah yousef al amiri and the membership of: 1. h.e /khouloud matar al dhaheri, vice-president 2. h.e/sanaa mohammed souheil 3. h.e/ dr. bushra abdullah al mulla 4. h.e/ amal nasser al jaberi 5. professor tan won sing • the term of the board shall be three renewable years. • this resolution shall be effective from the date of its issuance and published in the official gazette. issuance date: 05 september 2022 corresponding to: 09 safar 1444 hijrisaif saeed ghobash secretary-general executive council resolution no. (135) of 2021 concerning the membership of the board of trustees of khalifa university of science and technology  having reviewed chairman of the executive council resolution no. (8) of 2020 concerning the reformation of the board of trustees of khalifa university of science and technology; the executive council has decided the following: • h.e salem rashed al-nuaimi shall be appointed as member of the board of trustees of khalifa university of science and technology instead of the chairman of the board of directors of abu dhabi health services co. (seha) • the chairman of edge holding company shall be appointed instead of the chief executive officer of edge holding company as member of the board of trustees of khalifa university of science and technology. • mr. john nicholson shall be appointed instead of dr. steven walker as member of the board of trustees of khalifa university of science and technology. • the membership of professor sir. john o’reilly at the board of trustees of khalifa university of science and technology shall be cancelled. issuance date: 15 september 2022 corresponding to: 19 safar 1444 hijrisaif saeed ghobash secretary-general executive council resolution no. (136) of 2021 concerning the reformation of the board of trustees of sorbonne university abu dhabi  the executive council has decided the following: • the board of trustees of sorbonne university of abu dhabi shall be reformed under the chairmanship of h.e/ reem ebrahim al hashimi and the membership of their excellencies: 1. professor nathalie darch timam- vice-president. 2. hind manee al otaiba 3. saeed mubarak al-hajiri 4. samar yousef al-mansouri 5. ghanam butti al-mazrouei 6. françois delattre 7. professor beatrice perez 8. elias kassis 9. pascal saurice • the term of the board shall be three renewable years. • this resolution shall be effective from the date of its issuance and published in the official gazette. issuance date: 15 september 2022 corresponding to: 19 safar 1444 hijrisaif saeed ghobash secretary-general executive council resolution no. (137) of 2021 concerning the appointment of the undersecretary of the ruler’s representative court in al-dhafra  the executive council has decided the following: h.e/nasser mohammed matar al-marshoudi al-mansouri shall be appointed as the undersecretary of the ruler’s representative court in al-dhafra. issuance date: 28 september 2022 corresponding to: 02 rabei al awwal 1444 hijrisaif saeed ghobash secretary-general united arab emirates the emirate of abu dhabi issued by the gereral secretariat of the executive council of the emirate of abu dhabi office of legal affairs abu dhabi - p.o. box: 19 tel: +971 26688446 fax: +971 2666998',\n",
       "  'reference': ['Law No. (1) of 1974',\n",
       "   'Chairman of the Executive Council Resolution No. (4) of 2021',\n",
       "   'Executive Council Resolution No. (131) of 2021',\n",
       "   'Executive Council Resolution No. (135) of 2021',\n",
       "   'Executive Council Resolution No. (136) of 2021',\n",
       "   'Executive Council Resolution No. (137) of 2021']}]"
      ]
     },
     "execution_count": 22,
     "metadata": {},
     "output_type": "execute_result"
    }
   ],
   "source": [
    "query_vector = embedding_creation(query, model)\n",
    "\n",
    "response, search_body = hybrid_vector_search(\n",
    "        es_client,\n",
    "        index_name=\"abudhabi-policies-legislations-v4\", \n",
    "        query_keys= list(enriched_query),\n",
    "        query_vector=query_vector, \n",
    "        text_fields=[\"content\", \"heading\", \"questions\", \"reference\"], \n",
    "        vector_field=\"embedded_content\", \n",
    "        num_candidates = 25, \n",
    "        num_results = 3\n",
    "    )\n",
    "\n",
    "result = []\n",
    "all_content = \"\"\n",
    "for j in response['hits']['hits']:\n",
    "    content = j[\"_source\"]\n",
    "    _result = {}\n",
    "    _result[\"score\"] = j[\"_score\"]\n",
    "    _result[\"heading\"] = content['heading']\n",
    "    _result[\"content\"] = content['content']\n",
    "    all_content = all_content + '\\n' + content['content']\n",
    "    _result[\"reference\"] = content['reference']\n",
    "\n",
    "    result.append(_result)\n",
    "\n",
    "result"
   ]
  },
  {
   "cell_type": "code",
   "execution_count": 23,
   "metadata": {},
   "outputs": [
    {
     "data": {
      "text/plain": [
       "elastic_transport.ObjectApiResponse"
      ]
     },
     "execution_count": 23,
     "metadata": {},
     "output_type": "execute_result"
    }
   ],
   "source": [
    "type(response)"
   ]
  },
  {
   "cell_type": "code",
   "execution_count": null,
   "metadata": {},
   "outputs": [],
   "source": []
  },
  {
   "cell_type": "markdown",
   "metadata": {},
   "source": [
    "`2.4 Agent: Extracting Reference Document details`"
   ]
  },
  {
   "cell_type": "code",
   "execution_count": 201,
   "metadata": {},
   "outputs": [],
   "source": [
    "def reference_search(conn, index_name, reference_index):\n",
    "    search_body = {\n",
    "        \"size\": 1,\n",
    "        \"query\": {\n",
    "            \"bool\": {\n",
    "                \"must\": [\n",
    "                    {\n",
    "                    \"match\": {\"heading\": reference_index}\n",
    "                    }\n",
    "                ]\n",
    "            }\n",
    "        }\n",
    "    }\n",
    "    response = conn.search(index=index_name, body=search_body)\n",
    "\n",
    "    return response\n",
    "    \n",
    "\n",
    "ref_doc = list()\n",
    "for doc in result:\n",
    "    for reference_index in doc[\"reference\"]:\n",
    "        response = reference_search(es_client, \"abudhabi-policies-legislations-v4\", reference_index)\n",
    "        result = []\n",
    "        for j in response['hits']['hits']:\n",
    "            content = j[\"_source\"]\n",
    "            _result = {}\n",
    "            _result[\"score\"] = j[\"_score\"]\n",
    "            _result[\"heading\"] = content['heading']\n",
    "            _result[\"content\"] = content['content']\n",
    "            _result[\"reference\"] = content['reference']\n",
    "\n",
    "            ref_doc.append(_result)"
   ]
  },
  {
   "cell_type": "code",
   "execution_count": 202,
   "metadata": {},
   "outputs": [
    {
     "data": {
      "text/plain": [
       "[{'score': 24.451162,\n",
       "  'heading': 'executive council resolution no. (11) of 2023 concerning the reformation of the board of trustees of mohamed bin zayed university for humanities',\n",
       "  'content': 'executive council resolution no. (11) of 2023 concerning the reformation of the board of trustees of mohamed bin zayed university for humanities having reviewed chairman of the executive council resolution no. (27) of 2020 concerning the formation of the board of trustees of mohamed bin zayed university for humanities. the executive council has decided the following: 1. the board of trustees of mohamed bin zayed university for humanities shall be reformed under the chairmanship of h.e. dr. mohammed rashid ahmed al hamli, and the membership of: • mubarak hamad mubarak al muhairi - vice chairman • mohammed hamza hassan al qassim. • maryam eid khamis al muhairi • abdullah aqueeda ali al muhairi • dr. omar habtoor theeb al-derei. • ghanem sultan ahmed al suwaidi. 2. the membership term of the board shall be three renewable years. 3. this resolution shall be effective from the date of its issuance and published in the official gazette. saif saeed ghobash secretary-general issued on: 13 february 2023 corresponding to: 22 rajab 1444 hijri ',\n",
       "  'reference': ['Chairman of the Executive Council Resolution No. (27) of 2020 concerning the Formation of the Board of Trustees of Mohamed Bin Zayed University for Humanities',\n",
       "   'Executive Council Resolution No. (11) of 2023 concerning the Reformation of the Board of Trustees of Mohamed Bin Zayed University for Humanities']},\n",
       " {'score': 30.763432,\n",
       "  'heading': 'executive council resolution no. (11) of 2023 concerning the reformation of the board of trustees of mohamed bin zayed university for humanities',\n",
       "  'content': 'executive council resolution no. (11) of 2023 concerning the reformation of the board of trustees of mohamed bin zayed university for humanities having reviewed chairman of the executive council resolution no. (27) of 2020 concerning the formation of the board of trustees of mohamed bin zayed university for humanities. the executive council has decided the following: 1. the board of trustees of mohamed bin zayed university for humanities shall be reformed under the chairmanship of h.e. dr. mohammed rashid ahmed al hamli, and the membership of: • mubarak hamad mubarak al muhairi - vice chairman • mohammed hamza hassan al qassim. • maryam eid khamis al muhairi • abdullah aqueeda ali al muhairi • dr. omar habtoor theeb al-derei. • ghanem sultan ahmed al suwaidi. 2. the membership term of the board shall be three renewable years. 3. this resolution shall be effective from the date of its issuance and published in the official gazette. saif saeed ghobash secretary-general issued on: 13 february 2023 corresponding to: 22 rajab 1444 hijri ',\n",
       "  'reference': ['Chairman of the Executive Council Resolution No. (27) of 2020 concerning the Formation of the Board of Trustees of Mohamed Bin Zayed University for Humanities',\n",
       "   'Executive Council Resolution No. (11) of 2023 concerning the Reformation of the Board of Trustees of Mohamed Bin Zayed University for Humanities']},\n",
       " {'score': 5.853262,\n",
       "  'heading': 'law no. (1) of 2022 concerning the amendment of some provisions of law no. (1) of 2017 concerning the financial system of abu dhabi government',\n",
       "  'content': \" we, khalifa bin zayed al nahyan, ruler of abu dhabi having reviewed: • law no. (1) of 1974 concerning the reorganisation of the governmental body in the emirate of abu dhabi and its amendments; • law no. (2) of 1971 concerning the national advisory council, and its amendments; • law no. (2) of 2000 concerning the civil retirement pensions and benefits in the emirate of abu dhabi, and its amendments; • law no. (1) of 2017 concerning the financial system of abu dhabi government; • law no. (27) of 2019 concerning the department of finance; • law no. (19) of 2020 concerning the re-organisation of abu dhabi accountability authority; • law no. (24) of 2020 concerning the supreme council for financial and economic affairs; and • based on what was presented to and approved by the executive council; issued the following law: article (1) • the definition of the ‘financial policy’ in article (1) of the aforesaid law no. (1) of 2017 shall be replaced by the following definition: ‘financial policy: the rules and provisions set by the supreme council for the regulation of the establishment, operation and management of the government company.’ • the following definition shall be added to the definitions mentioned in article (1) of the aforesaid law no. (1) of 2017: ‘supreme council: the supreme council for financial and economic affairs established pursuant to the aforesaid law no. (24) of 2020.’ article (2) the following articles no. (3/ clause 4), (4), (5/ clauses 1, 6, 9), (6), (7), (8/ clause 9), (11/ clauses 2, 3), (12/ clauses 2, 5, 6), (13), (14/ clause 4), (15), (16/ clauses 2 and 3/b), (18), (19 / clause 3/c), (23/ clause 1), (27/clause 7), (31/clause 2), (33), (35/clause 1/f), (35/clause 2), (36/clause 3), (43) and (53) of the aforesaid law no. 1 of 2017, shall be replaced by the following texts: article (3) 4. managing the financial risks faced by the emirate. article (4) the department • the department shall be affiliated to the ruler. its main office shall be in abu dhabi city and a resolution may be issued by the ruler to establish branches thereof based on the recommendation of the chairman of the department. • the expression (executive council) or (chairman of the executive council) shall be replaced by the word (ruler), wherever either of them appears in any other legislation, with regard to any approvals, appropriations or resolutions related to the department, including executive, administrative, financial, human resources, retirement, contracts and procurement of the department. article (5) 1. preparing the organisational structure of the department and overseeing the preparation of the draft annual budget thereof and submitting them for approval by the ruler. 6. submitting an annual report on the department's operations to the ruler. 9. any other tasks assigned by the ruler. article (6) full-time role of the chairman of the department the chairman of the department shall not combine his job with any other private job without the approval of the ruler and shall be prohibited from engaging in any financial, commercial or professional works that conflict with his work duties or impair his appearance and credibility. article (7) competencies of the department the department shall be in charge for the preparation and implementation of an integrated financial system that is efficient, effective and economic in accordance with the provisions of this law by assuming the following competencies: 1. preparing the financial policy of the emirate and submitting it to the supreme council for approval. 2. preparing the public budget and specifying the types of government expenditures and revenues and the categories included within each type, and taking the necessary measures to get it approved according to the provisions of this law. 3. following up on the implementation of the public budget and taking necessary actions to verify compliance therewith. 4. managing the treasury and organising the bank accounts of the government and the governmental entities. 5. organising the tax and non-tax government revenues. 6. organising and managing the public debt and government guarantees in accordance with the provisions of this law. 7. overseeing and managing the general reserve account in accordance with the provisions of this law. 8. preparing and issuing the ‘financial control system’ following the approval by the supreme council. 9. issuing the unified accounting policies, unified chart of accounts and general rules to regulate and close the accounts and accounting records in light of the approved accounting standards, and issuing the necessary instructions for this purpose. 10. issuing the instructions and forms of financial reports for the governmental entities, to be prepared pursuant to this law. 11. preparing and issuing the financial statements and other reports of the government in accordance with the provisions stated in this law. 12. issuing the government services pricing guide following the approval of the executive council and studying the pricing requests by the governmental entities. 13. determining and evaluating the governmental financial support and raising recommendations to the executive council. 14. determining and assessing the financial risks of the emirate and suggesting ways to address or reduce the same. 15. studying and evaluating the financial position of the troubled governmental companies and institutions and raising recommendations thereon to the supreme council. 16. lending on behalf of the government following the approval of the supreme council or executive council, as the case may be, and managing the same. 17. developing and updating the five-year and ten-year financing plans and budgets for the emirate. 18. collecting government debts and other debts owed to the emirate. 19. providing necessary guidance, support and training to the employees of the financial departments at the governmental entities, companies and institutions with regard to the implementation of this law and the regulations and resolutions issued pursuant thereto. 20. conducting studies related to taxes, fees and other resources in order to develop the same in a way that is in line with the interest of the emirate and raising recommendations thereon. 21. studying and suggesting appropriate financing means for major government projects. 22. studying the financial cases that give rise to rights or obligations for the emirate and that require filing of lawsuits before the courts and referring the same to the authority competent to file cases and defend such rights. 23. preparing and studying the agreements related to the avoidance of double taxation, taking into account the agreements entered into by the state. 24. any other competencies set forth in this law or any other legislation or entrusted to the department by the ruler or supreme council. article (8) 9. all other powers set forth in this law and any other powers issued by resolutions of the ruler or supreme council or any other legislation. article (11) 2. the governmental institutions and companies shall prepare their annual budgets in light of their ownership policy, provided that their budgets are approved by their boards of directors and a copy thereof is sent to the department, within a period not exceeding the end of december of every fiscal year. 3. the governmental institutions and companies and the subsidiaries may not increase the capital, borrow, provide debt guarantees or lend, except in accordance with the rules issued by the department and approved by the supreme council. article (12) 2. the department shall prepare the draft public budget after completion of the study and discussion of the draft budgets of the governmental entities, provided that it submits the same to the supreme council not later than the end of the eleventh month of every fiscal year. 5. except as otherwise decided by the supreme council, the validity period of the financial appropriation shall expire by the end of the fiscal year. 6. no type of revenues or expenditures shall be created without the approval of the supreme council or executive council, as the case may be. article (13) approval of the public budget 1. the public budget as well as the financial competencies related thereto shall be approved by a resolution of the supreme council. in case the public budget was not approved before the start of the fiscal year, the department shall be allowed to allocate financial appropriations to the governmental entities for disbursement according to the applicable rules of disbursement and within the limits of the value of financial appropriations granted to the entity during the elapsed fiscal year, provided that it issues the instructions required thereto. 2. the approved public budget shall be amended with the financial appropriations issued during the fiscal year pursuant to amiri decrees, or resolutions of the ruler, supreme council, crown prince of the emirate of abu dhabi or executive council, as per the affiliation of the entity requesting the approval. article (14) 4. the governmental entity shall not commit or disburse without a financial appropriation and shall not amend its financial appropriations except within the limits of the powers assigned thereto by the supreme council. article (15) expenses in emergency cases 1. the chairman of the department may agree to incur expenses to face emergency situations without the need for a financial appropriation and in accordance with the powers delegated to him by the ruler or the supreme council, provided that these expenses are included in the government’s financial statements for approval. 2. if during the implementation of the public budget of any year, exceptional circumstances arise, or a decrease appears in the collected public financial resources compared to the estimated financial resources for the same year, the chairman of the department may lay down the necessary measures and procedures to confront such exceptional circumstances or such decline, including the reduction of the public budget and restriction of spending for all or some of its items, provided that these measures and procedures are submitted to the ruler or the supreme council for approval. article (16) 2. no fees shall be imposed, modified or cancelled except by virtue of a law, amiri decree or a resolution of the supreme council or executive council. 3-b. entities decided by the supreme council or executive council to be exempt, in whole or in part, from the taxes and fees for charitable, humanitarian, educational, cultural, national or any other reasons. article (18) bank accounts 1. the chairman of the department may open bank accounts in the name of the emirate or the government and enter into agreements with banks to collect, pay and transfer funds inside or outside the emirate, pay and collect interests and any other banking transactions. 2. the chairman of the department may specify the conditions and restrictions to open and close bank accounts for the emirate and government as well as the governmental entities, institutions and companies. article (19) general reserve account 3- c. any other objectives suggested by the chairman of the department and approved by the supreme council. article (23) 1. the chairman of the department may, on behalf of the government, borrow money from any person or entity inside or outside the emirate for the benefit of the government or governmental entities following the approval of the supreme council. article (27) 7. any other cases specified by the supreme council. article (31) 2. the chairman of the department may provide government guarantees on behalf of the government following the approval of the supreme council. the beneficiaries of such government guarantees shall notify the department of the settlement of the debts related to these guarantees on a periodic basis. article (33) sovereign lending the chairman of the department may lend on behalf and in the name of the government after the approval of the supreme council or executive council, as the case may be, and may exercise any powers or rights related thereto in accordance with the powers granted to him. article (35) 1-f. any other financial reports suggested by the chairman of the department and approved by the supreme council. 2. the standards for the preparation of the government's financial statements shall be approved by a resolution of the supreme council, based on a recommendation from the chairman of the department and the chairman of abu dhabi accountability authority. the resolution shall specify the government sectors and activities to be used for the purpose of preparing the financial statements of the government. article (36) financial statements of the government 3. the chairman of the department shall submit the financial statements of the government along with the report of abu dhabi accountability authority to the supreme council and executive council within a period not exceeding 15 days from the date of issuance thereof. article (43) exemption from the amounts due to the government no exemption may be made for all or some of the amounts due to the government for any reason without the approval of the supreme council or executive council, as per the affiliation of the entity requesting the exemption, or whomever delegated thereby by any of them. article (53) issuance of the rules, regulations and resolutions the chairman of the department shall issue the necessary rules, regulations and resolutions for the implementation of the provisions of this law after the approval of the supreme council. article (3) • articles (30), (38) and (45) of the aforesaid law no. (1) of 2017 shall be repealed. • any provision contrary to the provisions of this law shall be repealed article (4) this law shall be effective from the date of its issuance and published in the official gazette. khalifa bin zayed al nahyan ruler of abu dhabi issued by us in abu dhabi on: 5 january 2022 corresponding to: 2 jumada al-akhar 1443 hijri united arab emirates the emirate of abu dhabi issued by the gereral secretariat of the executive council of the emirate of abu dhabi office of legal affairs abu dhabi - p.o. box: 19 tel: +971 26688446 fax: +971 26669981\",\n",
       "  'reference': ['Law No. (1) of 1974',\n",
       "   'Law No. (2) of 1971',\n",
       "   'Law No. (2) of 2000',\n",
       "   'Law No. (1) of 2017',\n",
       "   'Law No. (27) of 2019',\n",
       "   'Law No. (19) of 2020',\n",
       "   'Law No. (24) of 2020',\n",
       "   'Amiri Decree No. (13) of 2023']},\n",
       " {'score': 5.853262,\n",
       "  'heading': 'law no. (1) of 2022 concerning the amendment of some provisions of law no. (1) of 2017 concerning the financial system of abu dhabi government',\n",
       "  'content': \" we, khalifa bin zayed al nahyan, ruler of abu dhabi having reviewed: • law no. (1) of 1974 concerning the reorganisation of the governmental body in the emirate of abu dhabi and its amendments; • law no. (2) of 1971 concerning the national advisory council, and its amendments; • law no. (2) of 2000 concerning the civil retirement pensions and benefits in the emirate of abu dhabi, and its amendments; • law no. (1) of 2017 concerning the financial system of abu dhabi government; • law no. (27) of 2019 concerning the department of finance; • law no. (19) of 2020 concerning the re-organisation of abu dhabi accountability authority; • law no. (24) of 2020 concerning the supreme council for financial and economic affairs; and • based on what was presented to and approved by the executive council; issued the following law: article (1) • the definition of the ‘financial policy’ in article (1) of the aforesaid law no. (1) of 2017 shall be replaced by the following definition: ‘financial policy: the rules and provisions set by the supreme council for the regulation of the establishment, operation and management of the government company.’ • the following definition shall be added to the definitions mentioned in article (1) of the aforesaid law no. (1) of 2017: ‘supreme council: the supreme council for financial and economic affairs established pursuant to the aforesaid law no. (24) of 2020.’ article (2) the following articles no. (3/ clause 4), (4), (5/ clauses 1, 6, 9), (6), (7), (8/ clause 9), (11/ clauses 2, 3), (12/ clauses 2, 5, 6), (13), (14/ clause 4), (15), (16/ clauses 2 and 3/b), (18), (19 / clause 3/c), (23/ clause 1), (27/clause 7), (31/clause 2), (33), (35/clause 1/f), (35/clause 2), (36/clause 3), (43) and (53) of the aforesaid law no. 1 of 2017, shall be replaced by the following texts: article (3) 4. managing the financial risks faced by the emirate. article (4) the department • the department shall be affiliated to the ruler. its main office shall be in abu dhabi city and a resolution may be issued by the ruler to establish branches thereof based on the recommendation of the chairman of the department. • the expression (executive council) or (chairman of the executive council) shall be replaced by the word (ruler), wherever either of them appears in any other legislation, with regard to any approvals, appropriations or resolutions related to the department, including executive, administrative, financial, human resources, retirement, contracts and procurement of the department. article (5) 1. preparing the organisational structure of the department and overseeing the preparation of the draft annual budget thereof and submitting them for approval by the ruler. 6. submitting an annual report on the department's operations to the ruler. 9. any other tasks assigned by the ruler. article (6) full-time role of the chairman of the department the chairman of the department shall not combine his job with any other private job without the approval of the ruler and shall be prohibited from engaging in any financial, commercial or professional works that conflict with his work duties or impair his appearance and credibility. article (7) competencies of the department the department shall be in charge for the preparation and implementation of an integrated financial system that is efficient, effective and economic in accordance with the provisions of this law by assuming the following competencies: 1. preparing the financial policy of the emirate and submitting it to the supreme council for approval. 2. preparing the public budget and specifying the types of government expenditures and revenues and the categories included within each type, and taking the necessary measures to get it approved according to the provisions of this law. 3. following up on the implementation of the public budget and taking necessary actions to verify compliance therewith. 4. managing the treasury and organising the bank accounts of the government and the governmental entities. 5. organising the tax and non-tax government revenues. 6. organising and managing the public debt and government guarantees in accordance with the provisions of this law. 7. overseeing and managing the general reserve account in accordance with the provisions of this law. 8. preparing and issuing the ‘financial control system’ following the approval by the supreme council. 9. issuing the unified accounting policies, unified chart of accounts and general rules to regulate and close the accounts and accounting records in light of the approved accounting standards, and issuing the necessary instructions for this purpose. 10. issuing the instructions and forms of financial reports for the governmental entities, to be prepared pursuant to this law. 11. preparing and issuing the financial statements and other reports of the government in accordance with the provisions stated in this law. 12. issuing the government services pricing guide following the approval of the executive council and studying the pricing requests by the governmental entities. 13. determining and evaluating the governmental financial support and raising recommendations to the executive council. 14. determining and assessing the financial risks of the emirate and suggesting ways to address or reduce the same. 15. studying and evaluating the financial position of the troubled governmental companies and institutions and raising recommendations thereon to the supreme council. 16. lending on behalf of the government following the approval of the supreme council or executive council, as the case may be, and managing the same. 17. developing and updating the five-year and ten-year financing plans and budgets for the emirate. 18. collecting government debts and other debts owed to the emirate. 19. providing necessary guidance, support and training to the employees of the financial departments at the governmental entities, companies and institutions with regard to the implementation of this law and the regulations and resolutions issued pursuant thereto. 20. conducting studies related to taxes, fees and other resources in order to develop the same in a way that is in line with the interest of the emirate and raising recommendations thereon. 21. studying and suggesting appropriate financing means for major government projects. 22. studying the financial cases that give rise to rights or obligations for the emirate and that require filing of lawsuits before the courts and referring the same to the authority competent to file cases and defend such rights. 23. preparing and studying the agreements related to the avoidance of double taxation, taking into account the agreements entered into by the state. 24. any other competencies set forth in this law or any other legislation or entrusted to the department by the ruler or supreme council. article (8) 9. all other powers set forth in this law and any other powers issued by resolutions of the ruler or supreme council or any other legislation. article (11) 2. the governmental institutions and companies shall prepare their annual budgets in light of their ownership policy, provided that their budgets are approved by their boards of directors and a copy thereof is sent to the department, within a period not exceeding the end of december of every fiscal year. 3. the governmental institutions and companies and the subsidiaries may not increase the capital, borrow, provide debt guarantees or lend, except in accordance with the rules issued by the department and approved by the supreme council. article (12) 2. the department shall prepare the draft public budget after completion of the study and discussion of the draft budgets of the governmental entities, provided that it submits the same to the supreme council not later than the end of the eleventh month of every fiscal year. 5. except as otherwise decided by the supreme council, the validity period of the financial appropriation shall expire by the end of the fiscal year. 6. no type of revenues or expenditures shall be created without the approval of the supreme council or executive council, as the case may be. article (13) approval of the public budget 1. the public budget as well as the financial competencies related thereto shall be approved by a resolution of the supreme council. in case the public budget was not approved before the start of the fiscal year, the department shall be allowed to allocate financial appropriations to the governmental entities for disbursement according to the applicable rules of disbursement and within the limits of the value of financial appropriations granted to the entity during the elapsed fiscal year, provided that it issues the instructions required thereto. 2. the approved public budget shall be amended with the financial appropriations issued during the fiscal year pursuant to amiri decrees, or resolutions of the ruler, supreme council, crown prince of the emirate of abu dhabi or executive council, as per the affiliation of the entity requesting the approval. article (14) 4. the governmental entity shall not commit or disburse without a financial appropriation and shall not amend its financial appropriations except within the limits of the powers assigned thereto by the supreme council. article (15) expenses in emergency cases 1. the chairman of the department may agree to incur expenses to face emergency situations without the need for a financial appropriation and in accordance with the powers delegated to him by the ruler or the supreme council, provided that these expenses are included in the government’s financial statements for approval. 2. if during the implementation of the public budget of any year, exceptional circumstances arise, or a decrease appears in the collected public financial resources compared to the estimated financial resources for the same year, the chairman of the department may lay down the necessary measures and procedures to confront such exceptional circumstances or such decline, including the reduction of the public budget and restriction of spending for all or some of its items, provided that these measures and procedures are submitted to the ruler or the supreme council for approval. article (16) 2. no fees shall be imposed, modified or cancelled except by virtue of a law, amiri decree or a resolution of the supreme council or executive council. 3-b. entities decided by the supreme council or executive council to be exempt, in whole or in part, from the taxes and fees for charitable, humanitarian, educational, cultural, national or any other reasons. article (18) bank accounts 1. the chairman of the department may open bank accounts in the name of the emirate or the government and enter into agreements with banks to collect, pay and transfer funds inside or outside the emirate, pay and collect interests and any other banking transactions. 2. the chairman of the department may specify the conditions and restrictions to open and close bank accounts for the emirate and government as well as the governmental entities, institutions and companies. article (19) general reserve account 3- c. any other objectives suggested by the chairman of the department and approved by the supreme council. article (23) 1. the chairman of the department may, on behalf of the government, borrow money from any person or entity inside or outside the emirate for the benefit of the government or governmental entities following the approval of the supreme council. article (27) 7. any other cases specified by the supreme council. article (31) 2. the chairman of the department may provide government guarantees on behalf of the government following the approval of the supreme council. the beneficiaries of such government guarantees shall notify the department of the settlement of the debts related to these guarantees on a periodic basis. article (33) sovereign lending the chairman of the department may lend on behalf and in the name of the government after the approval of the supreme council or executive council, as the case may be, and may exercise any powers or rights related thereto in accordance with the powers granted to him. article (35) 1-f. any other financial reports suggested by the chairman of the department and approved by the supreme council. 2. the standards for the preparation of the government's financial statements shall be approved by a resolution of the supreme council, based on a recommendation from the chairman of the department and the chairman of abu dhabi accountability authority. the resolution shall specify the government sectors and activities to be used for the purpose of preparing the financial statements of the government. article (36) financial statements of the government 3. the chairman of the department shall submit the financial statements of the government along with the report of abu dhabi accountability authority to the supreme council and executive council within a period not exceeding 15 days from the date of issuance thereof. article (43) exemption from the amounts due to the government no exemption may be made for all or some of the amounts due to the government for any reason without the approval of the supreme council or executive council, as per the affiliation of the entity requesting the exemption, or whomever delegated thereby by any of them. article (53) issuance of the rules, regulations and resolutions the chairman of the department shall issue the necessary rules, regulations and resolutions for the implementation of the provisions of this law after the approval of the supreme council. article (3) • articles (30), (38) and (45) of the aforesaid law no. (1) of 2017 shall be repealed. • any provision contrary to the provisions of this law shall be repealed article (4) this law shall be effective from the date of its issuance and published in the official gazette. khalifa bin zayed al nahyan ruler of abu dhabi issued by us in abu dhabi on: 5 january 2022 corresponding to: 2 jumada al-akhar 1443 hijri united arab emirates the emirate of abu dhabi issued by the gereral secretariat of the executive council of the emirate of abu dhabi office of legal affairs abu dhabi - p.o. box: 19 tel: +971 26688446 fax: +971 26669981\",\n",
       "  'reference': ['Law No. (1) of 1974',\n",
       "   'Law No. (2) of 1971',\n",
       "   'Law No. (2) of 2000',\n",
       "   'Law No. (1) of 2017',\n",
       "   'Law No. (27) of 2019',\n",
       "   'Law No. (19) of 2020',\n",
       "   'Law No. (24) of 2020',\n",
       "   'Amiri Decree No. (13) of 2023']},\n",
       " {'score': 6.684203,\n",
       "  'heading': 'chairman of the executive council resolution no. (4) of 2021 concerning the reformation of the board of directors of abu dhabi housing authority',\n",
       "  'content': \"chairman of the executive council resolution no. (4) of 2021 concerning the reformation of the board of directors of abu dhabi housing authority we, mohamed bin zayed al nahyan, crown prince, chairman of the executive council, having reviewed: • law no. (1) of 1974 concerning the reorganisation of the governmental body in the emirate of abu dhabi and its amendments; • law no. (4) of 2012 concerning the establishment of abu dhabi housing authority; • chairman of the executive council resolution no. (4) of 2019 concerning the reformation of the board of directors of abu dhabi housing authority, and • based on what presented to and approved by the executive council; issued the following resolution: article (1) the board of directors of abu dhabi housing authority shall be reformed under the chairmanship of h.e. falah mohammed falah al-ahbabi, and the membership of their excellencies: 1. saif badr hajji al-qubaisi, vice-chairman 2. ali khalifa ahmed al qamzi 3. mohammed ali abdan al mansouri 4. hamad ali mohammed al-dhaheri 5. amr saad omar al menhali 6. talal shafiq abdullah al theyabi 7. ali jassim al mazrouie article (2) the term of the board's membership shall be two renewable years. article (3) this resolution shall be effective from the date of its issuance and published in the official gazette. mohamed bin zayed al nahyan crown prince chairman of the executive council issued by us in abu dhabi on: 28 february 2021 corresponding to 16 rajab 1442 hijri  executive council resolutions executive council resolutions \",\n",
       "  'reference': ['Law No. (1) of 1974',\n",
       "   'Law No. (4) of 2012',\n",
       "   'Chairman of the Executive Council Resolution No. (4) of 2019',\n",
       "   'Law No. () of 2021 (unknown number)']},\n",
       " {'score': 6.646933,\n",
       "  'heading': 'executive council resolution no. (131) of 2021 concerning the reformation of the board of trustees of the emirates college for advanced education',\n",
       "  'content': 'executive council resolution no. (131) of 2021 concerning the reformation of the board of trustees of the emirates college for advanced education  having reviewed chairman of the executive council resolution no. (20) of 2020 concerning the reformation of the board of trustees of the emirates college for advanced education, the executive council has decided the following: the board of trustees of the emirates college for advanced education shall be reformed under the chairmanship of h.e sarah yousef al amiri and the membership of: 1. h.e /khouloud matar al dhaheri, vice-president 2. h.e/sanaa mohammed souheil 3. h.e/ dr. bushra abdullah al mulla 4. h.e/ amal nasser al jaberi 5. professor tan won sing • the term of the board shall be three renewable years. • this resolution shall be effective from the date of its issuance and published in the official gazette. issuance date: 05 september 2022 corresponding to: 09 safar 1444 hijrisaif saeed ghobash secretary-general ',\n",
       "  'reference': ['Chairman of the Executive Council Resolution No. (20) of 2020 concerning the Reformation of the Board of Trustees of the Emirates College for Advanced Education',\n",
       "   'Chairman of the Executive Council Resolution No. (131) of 2021 concerning the Reformation of the Board of Trustees of the Emirates College for Advanced Education',\n",
       "   'Law No. (1) of 1974 concerning the Reorganisation of the Governmental Body in the Emirate of Abu Dhabi and its Amendments']},\n",
       " {'score': 6.647212,\n",
       "  'heading': 'executive council resolution no. (135) of 2021 concerning the membership of the board of trustees of khalifa university of science and technology',\n",
       "  'content': 'executive council resolution no. (135) of 2021 concerning the membership of the board of trustees of khalifa university of science and technology  having reviewed chairman of the executive council resolution no. (8) of 2020 concerning the reformation of the board of trustees of khalifa university of science and technology; the executive council has decided the following: • h.e salem rashed al-nuaimi shall be appointed as member of the board of trustees of khalifa university of science and technology instead of the chairman of the board of directors of abu dhabi health services co. (seha) • the chairman of edge holding company shall be appointed instead of the chief executive officer of edge holding company as member of the board of trustees of khalifa university of science and technology. • mr. john nicholson shall be appointed instead of dr. steven walker as member of the board of trustees of khalifa university of science and technology. • the membership of professor sir. john o’reilly at the board of trustees of khalifa university of science and technology shall be cancelled. issuance date: 15 september 2022 corresponding to: 19 safar 1444 hijrisaif saeed ghobash secretary-general ',\n",
       "  'reference': ['Chairman of the Executive Council Resolution No. (8) of 2020 concerning the reformation of the board of trustees of Khalifa University of Science and Technology',\n",
       "   'Law No. (1) of 1974 concerning the reorganisation of the governmental body in the Emirate of Abu Dhabi and its amendments']},\n",
       " {'score': 6.915778,\n",
       "  'heading': 'executive council resolution no. (136) of 2021 concerning the reformation of the board of trustees of sorbonne university abu dhabi',\n",
       "  'content': 'executive council resolution no. (136) of 2021 concerning the reformation of the board of trustees of sorbonne university abu dhabi  the executive council has decided the following: • the board of trustees of sorbonne university of abu dhabi shall be reformed under the chairmanship of h.e/ reem ebrahim al hashimi and the membership of their excellencies: 1. professor nathalie darch timam- vice-president. 2. hind manee al otaiba 3. saeed mubarak al-hajiri 4. samar yousef al-mansouri 5. ghanam butti al-mazrouei 6. françois delattre 7. professor beatrice perez 8. elias kassis 9. pascal saurice • the term of the board shall be three renewable years. • this resolution shall be effective from the date of its issuance and published in the official gazette. issuance date: 15 september 2022 corresponding to: 19 safar 1444 hijrisaif saeed ghobash secretary-general ',\n",
       "  'reference': ['Law No. (1) of 1974', 'Law No. (2) of 2000']},\n",
       " {'score': 6.7782884,\n",
       "  'heading': 'executive council resolution no. (137) of 2021 concerning the appointment of the undersecretary of the ruler’s representative court in al-dhafra',\n",
       "  'content': '  the executive council has decided the following: h.e/nasser mohammed matar al-marshoudi al-mansouri shall be appointed as the undersecretary of the ruler’s representative court in al-dhafra. issuance date: 28 september 2022 corresponding to: 02 rabei al awwal 1444 hijrisaif saeed ghobash secretary-general united arab emirates the emirate of abu dhabi issued by the gereral secretariat of the executive council of the emirate of abu dhabi office of legal affairs abu dhabi - p.o. box: 19 tel: +971 26688446 fax: +971 26669981',\n",
       "  'reference': ['law no. (1) of 1974']}]"
      ]
     },
     "execution_count": 202,
     "metadata": {},
     "output_type": "execute_result"
    }
   ],
   "source": [
    "ref_doc"
   ]
  },
  {
   "cell_type": "markdown",
   "metadata": {},
   "source": [
    "`2.5 Agent: Critic Agent`"
   ]
  },
  {
   "cell_type": "code",
   "execution_count": 157,
   "metadata": {},
   "outputs": [],
   "source": [
    "CRITIC_PROMPT = PromptTemplate(\n",
    "    template=\"\"\"\n",
    "    <|begin_of_text|>\n",
    "    <|start_header_id|>system<|end_header_id|>  \n",
    "    You are a critical evaluator tasked with assessing the relevance of retrieved documents to a user's query. For each document, determine if it contains any keywords related to the user's question.\n",
    "\n",
    "    Guidelines:\n",
    "    1. Analyze the user's question and identify key terms and concepts.\n",
    "    2. Consider synonyms and related terms that may appear in relevant documents.\n",
    "    3. Provide JSON response with following format: \n",
    "    {{\n",
    "      \"Document Title 1\": true/false,\n",
    "      \"Document Title 2\": true/false,\n",
    "      ...\n",
    "    }}\n",
    "    4. Do not include explanations or additional text.\n",
    "\n",
    "    Documents: {documents}\n",
    "    User Question: {question}\n",
    "\n",
    "    <|eot_id|>\n",
    "    <|start_header_id|>assistant<|end_header_id|>\n",
    "\n",
    "    <|eot_id|>\n",
    "    <|start_header_id|>assistant<|end_header_id|>\n",
    "    \"\"\",\n",
    "    input_variables=[\"question\", \"documents\"],  \n",
    ")\n",
    "\n",
    "relevency_checking = CRITIC_PROMPT | llm"
   ]
  },
  {
   "cell_type": "code",
   "execution_count": 158,
   "metadata": {},
   "outputs": [
    {
     "data": {
      "text/plain": [
       "['executive council resolution no. (11) of 2023 concerning the reformation of the board of trustees of mohamed bin zayed university for humanities',\n",
       " 'executive council resolution no. (11) of 2023 concerning the reformation of the board of trustees of mohamed bin zayed university for humanities',\n",
       " 'law no. (1) of 2022 concerning the amendment of some provisions of law no. (1) of 2017 concerning the financial system of abu dhabi government',\n",
       " 'law no. (1) of 2022 concerning the amendment of some provisions of law no. (1) of 2017 concerning the financial system of abu dhabi government',\n",
       " 'chairman of the executive council resolution no. (4) of 2021 concerning the reformation of the board of directors of abu dhabi housing authority',\n",
       " 'executive council resolution no. (131) of 2021 concerning the reformation of the board of trustees of the emirates college for advanced education',\n",
       " 'executive council resolution no. (135) of 2021 concerning the membership of the board of trustees of khalifa university of science and technology',\n",
       " 'executive council resolution no. (136) of 2021 concerning the reformation of the board of trustees of sorbonne university abu dhabi',\n",
       " 'executive council resolution no. (137) of 2021 concerning the appointment of the undersecretary of the ruler’s representative court in al-dhafra']"
      ]
     },
     "execution_count": 158,
     "metadata": {},
     "output_type": "execute_result"
    }
   ],
   "source": [
    "reference_doc = list()\n",
    "\n",
    "for doc in ref_doc:\n",
    "    reference_doc.append(doc['heading'])\n",
    "\n",
    "reference_doc"
   ]
  },
  {
   "cell_type": "code",
   "execution_count": 159,
   "metadata": {},
   "outputs": [
    {
     "name": "stdout",
     "output_type": "stream",
     "text": [
      "{\n",
      "  \"executive council resolution no. (11) of 2023 concerning the reformation of the board of trustees of mohamed bin zayed university for humanities\": true,\n",
      "  \"executive council resolution no. (11) of 2023 concerning the reformation of the board of trustees of mohamed bin zayed university for humanities\": true,\n",
      "  \"law no. (1) of 2022 concerning the amendment of some provisions of law no. (1) of 2017 concerning the financial system of abu dhabi government\": false,\n",
      "  \"law no. (1) of 2022 concerning the amendment of some provisions of law no. (1) of 2017 concerning the financial system of abu dhabi government\": false,\n",
      "  \"chairman of the executive council resolution no. (4) of 2021 concerning the reformation of the board of directors of abu dhabi housing authority\": false,\n",
      "  \"executive council resolution no. (131) of 2021 concerning the reformation of the board of trustees of the emirates college for advanced education\": false,\n",
      "  \"executive council resolution no. (135) of 2021 concerning the membership of the board of trustees of khalifa university of science and technology\": false,\n",
      "  \"executive council resolution no. (136) of 2021 concerning the reformation of the board of trustees of sorbonne university abu dhabi\": false,\n",
      "  \"executive council resolution no. (137) of 2021 concerning the appointment of the undersecretary of the ruler’s representative court in al-dhafra\": false\n",
      "}\n"
     ]
    }
   ],
   "source": [
    "response = relevency_checking.invoke(\n",
    "    {\n",
    "        \"question\": query, \n",
    "        \"documents\": reference_doc\n",
    "    }\n",
    ")\n",
    "print(response.content)"
   ]
  },
  {
   "cell_type": "code",
   "execution_count": 160,
   "metadata": {},
   "outputs": [
    {
     "data": {
      "text/plain": [
       "{'executive council resolution no. (11) of 2023 concerning the reformation of the board of trustees of mohamed bin zayed university for humanities': True,\n",
       " 'law no. (1) of 2022 concerning the amendment of some provisions of law no. (1) of 2017 concerning the financial system of abu dhabi government': False,\n",
       " 'chairman of the executive council resolution no. (4) of 2021 concerning the reformation of the board of directors of abu dhabi housing authority': False,\n",
       " 'executive council resolution no. (131) of 2021 concerning the reformation of the board of trustees of the emirates college for advanced education': False,\n",
       " 'executive council resolution no. (135) of 2021 concerning the membership of the board of trustees of khalifa university of science and technology': False,\n",
       " 'executive council resolution no. (136) of 2021 concerning the reformation of the board of trustees of sorbonne university abu dhabi': False,\n",
       " 'executive council resolution no. (137) of 2021 concerning the appointment of the undersecretary of the ruler’s representative court in al-dhafra': False}"
      ]
     },
     "execution_count": 160,
     "metadata": {},
     "output_type": "execute_result"
    }
   ],
   "source": [
    "import json\n",
    "conditional_response = json.loads(response.content)\n",
    "conditional_response"
   ]
  },
  {
   "cell_type": "code",
   "execution_count": 161,
   "metadata": {},
   "outputs": [],
   "source": [
    "for topic, value in conditional_response.items():\n",
    "    if value:\n",
    "        all_content += f'\\n{topic}: {value}'"
   ]
  },
  {
   "cell_type": "markdown",
   "metadata": {},
   "source": [
    "`2.6 Agent: Response creation`"
   ]
  },
  {
   "cell_type": "code",
   "execution_count": 162,
   "metadata": {},
   "outputs": [],
   "source": [
    "# Define the prompt template\n",
    "prompt = PromptTemplate(\n",
    "    template=\"\"\"<|begin_of_text|>\n",
    "    <|start_header_id|>system<|end_header_id|>  \n",
    "    You are a legal assistant, your task is to answer the user question based on given documents. \n",
    "\n",
    "    Legal Documents: {documents}\n",
    "\n",
    "    Response Instructions:\n",
    "    1. Formulate a concise, informative response based on the extracted information for the users question.\n",
    "    2. Reference specific sections or clauses of the documents to support your answer.\n",
    "    3. Do not answer the question based general knowledge, if the given documents do not have sufficient information to answer the question then send response as \"I don't have knowledge to answer your question\"\n",
    "    4. Do not start your response like Based on the provided documents,  here are the details about ...\n",
    "    5. Make sure that you are including any quantitative mesures\n",
    "\n",
    "    User Question: {question}\n",
    "\n",
    "    <|eot_id|>\n",
    "    <|start_header_id|>assistant<|end_header_id|>\n",
    "    \"\"\",\n",
    "    input_variables=[\"question\", \"documents\"],  # Fixed typo here\n",
    ")\n",
    "\n",
    "# Create the question router\n",
    "question_router = prompt | llm | StrOutputParser() \n",
    "\n",
    "response = question_router.invoke(\n",
    "    {\n",
    "        \"question\": query, \n",
    "        \"documents\": all_content  # Use the corrected variable name\n",
    "    }\n",
    ")"
   ]
  },
  {
   "cell_type": "code",
   "execution_count": 163,
   "metadata": {},
   "outputs": [
    {
     "name": "stdout",
     "output_type": "stream",
     "text": [
      "The members of the Board of Trustees of Mohamed bin Zayed University for Humanities are:\n",
      "\n",
      "1. H.E. Dr. Mohammed Rashid Ahmed Al Hamli - Chairman\n",
      "2. Mubarak Hamad Mubarak Al Muhairi - Vice Chairman\n",
      "3. Mohammed Hamza Hassan Al Qassim\n",
      "4. Maryam Eid Khamis Al Muhairi\n",
      "5. Abdullah Aqeela Ali Al Muhairi\n",
      "6. Dr. Omar Habtoor Theeb Al-Derei\n",
      "7. Ghanem Sultan Ahmed Al Suwaidi\n",
      "\n",
      "The membership term of the Board shall be three renewable years. (Executive Council Resolution No. (11) of 2023, Clause 2)\n"
     ]
    }
   ],
   "source": [
    "print(response)"
   ]
  },
  {
   "cell_type": "code",
   "execution_count": 167,
   "metadata": {},
   "outputs": [
    {
     "name": "stdout",
     "output_type": "stream",
     "text": [
      "The members of the Board of Trustees of Mohamed bin Zayed University for Humanities are:\n",
      "\n",
      "1. H.E. Dr. Mohammed Rashid Ahmed Al Hamli - Chairman\n",
      "2. Mubarak Hamad Mubarak Al Muhairi - Vice Chairman\n",
      "3. Mohammed Hamza Hassan Al Qassim\n",
      "4. Maryam Eid Khamis Al Muhairi\n",
      "5. Abdullah Aqeela Ali Al Muhairi\n",
      "6. Dr. Omar Habtoor Theeb Al-Derei\n",
      "7. Ghanem Sultan Ahmed Al Suwaidi\n",
      "\n",
      "The membership term of the Board shall be three renewable years. (Executive Council Resolution No. (11) of 2023, Clause 2)"
     ]
    }
   ],
   "source": [
    "response = question_router.invoke(\n",
    "    {\n",
    "        \"question\": query, \n",
    "        \"documents\": all_content  # Use the corrected variable name\n",
    "    }\n",
    ")\n",
    "\n",
    "for s in question_router.stream(    {\n",
    "        \"question\": query, \n",
    "        \"documents\": all_content  # Use the corrected variable name\n",
    "    }\n",
    "):\n",
    "    print(s, end=\"\", flush=True)"
   ]
  },
  {
   "cell_type": "code",
   "execution_count": 166,
   "metadata": {},
   "outputs": [
    {
     "data": {
      "text/plain": [
       "''"
      ]
     },
     "execution_count": 166,
     "metadata": {},
     "output_type": "execute_result"
    }
   ],
   "source": [
    "s"
   ]
  },
  {
   "cell_type": "code",
   "execution_count": null,
   "metadata": {},
   "outputs": [],
   "source": []
  }
 ],
 "metadata": {
  "kernelspec": {
   "display_name": "LegalDocRAG",
   "language": "python",
   "name": "python3"
  },
  "language_info": {
   "codemirror_mode": {
    "name": "ipython",
    "version": 3
   },
   "file_extension": ".py",
   "mimetype": "text/x-python",
   "name": "python",
   "nbconvert_exporter": "python",
   "pygments_lexer": "ipython3",
   "version": "3.11.10"
  }
 },
 "nbformat": 4,
 "nbformat_minor": 2
}
