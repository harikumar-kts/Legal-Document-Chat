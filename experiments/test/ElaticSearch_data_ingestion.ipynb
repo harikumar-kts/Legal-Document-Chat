{
 "cells": [
  {
   "cell_type": "code",
   "execution_count": 1,
   "metadata": {},
   "outputs": [
    {
     "data": {
      "text/plain": [
       "True"
      ]
     },
     "execution_count": 1,
     "metadata": {},
     "output_type": "execute_result"
    }
   ],
   "source": [
    "from elasticsearch import Elasticsearch\n",
    "\n",
    "es_client = Elasticsearch(\n",
    "    hosts=\"https://ae4da19a26f0488b87b8f5f2bb35f565.eastus2.azure.elastic-cloud.com\",\n",
    "    basic_auth=(\"elastic\", \"6AnfGz6hxlSwceSaE5xSsVsd\")\n",
    ")\n",
    "\n",
    "es_client.ping()"
   ]
  },
  {
   "cell_type": "code",
   "execution_count": 2,
   "metadata": {},
   "outputs": [],
   "source": [
    "from langchain_groq import ChatGroq\n",
    "\n",
    "llm = ChatGroq(\n",
    "    temperature=0,\n",
    "    model_name=\"llama-3.1-8b-instant\",\n",
    "    api_key=\"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\",\n",
    ")"
   ]
  },
  {
   "cell_type": "code",
   "execution_count": 3,
   "metadata": {},
   "outputs": [],
   "source": [
    "from langchain_community.document_loaders import PyPDFLoader\n",
    "from langchain.text_splitter import RecursiveCharacterTextSplitter\n",
    "\n",
    "doc_loader = PyPDFLoader(\"../doc/First Edition English 2023.pdf\")\n",
    "document = doc_loader.load()\n",
    "\n",
    "text_splitter = RecursiveCharacterTextSplitter(\n",
    "    chunk_size=1024, \n",
    "    chunk_overlap=0, \n",
    "    separators=\"\\n\\n\"\n",
    ")\n",
    "splitted_documents = text_splitter.split_documents(documents=document)"
   ]
  },
  {
   "cell_type": "code",
   "execution_count": 40,
   "metadata": {},
   "outputs": [],
   "source": [
    "# def stop_on_second_occurrence(paragraphs, keywords):\n",
    "\n",
    "index_text = \"\"\n",
    "keywords = [\"Laws\", \"Decrees\", \"Executive Council Resolutions, Chairman of the Executive Council Resolutions\"]\n",
    "occurrence_count = {keyword: 0 for keyword in keywords}\n",
    "stop_processing = False\n",
    "val = 0\n",
    "for chunk in splitted_documents:\n",
    "    if stop_processing:\n",
    "        break \n",
    "    content = chunk.page_content\n",
    "    for keyword in keywords:\n",
    "        if keyword in content:\n",
    "            occurrence_count[keyword] += 1\n",
    "            if occurrence_count[keyword] == 2:\n",
    "                stop_processing = True\n",
    "                break\n",
    "    index_text = index_text + content\n",
    "    val = val + 1\n"
   ]
  },
  {
   "cell_type": "code",
   "execution_count": 41,
   "metadata": {},
   "outputs": [
    {
     "name": "stdout",
     "output_type": "stream",
     "text": [
      "5\n"
     ]
    }
   ],
   "source": [
    "print(val)"
   ]
  },
  {
   "cell_type": "code",
   "execution_count": 43,
   "metadata": {},
   "outputs": [
    {
     "name": "stdout",
     "output_type": "stream",
     "text": [
      "The Ofﬁcial\n",
      "Gazette\n",
      "31 January 2023 - The First Edition1The Official Gazette\n",
      "The First Edition - The Fifty-Second Year\n",
      "Contents\n",
      "Laws\n",
      "Law No. (16) of 2022 Concerning The Licensing of The Drivers and \n",
      "Vehicles in The Emirate of Abu Dhabi.\n",
      "Law No. (1) of 2023 Concerning the establishment of Abu Dhabi \n",
      "Transport Company “Public Joint Stock Company”.\n",
      "Law No. (4) of 2023 Concerning The Establishment of Abu Dhabi \n",
      "Media Office.\n",
      "Decrees\n",
      "Amiri Decree No. (3) of 2023 Concerning Some Members of the \n",
      "Executive Council in the Emirate of Abu Dhabi.\n",
      "Executive Council Resolutions\n",
      "Executive Council Resolution No. (169) of 2022 Concerning the \n",
      "Thirty-First Investment Zone in the Emirate of Abu Dhabi.\n",
      "Executive Council Resolution No. (182) of 2022 Concerning the \n",
      "General Policy for the Management, Regulation and Protection of \n",
      "Groundwater in the Emirate of Abu Dhabi.\n",
      "*Attachment: General Policy for the Management, Regulation and Protection of \n",
      "Groundwater in the Emirate of Abu Dhabi\n",
      "Executive Council Resolution No. (183) of 2022 Concerning theAmendment of Some Provisions of Chairman of the Executive \n",
      "Council Resolution No. (25) of 2006 Concerning the Issuance of the \n",
      "Executive Regulation of Law No. (23) Of 2005 Concerning Health \n",
      "Insurance in the Emirate of Abu Dhabi.\n",
      "*Attachment: Schedule No. (6) Flexible Health Insurance Benefits.Pages\n",
      "5\n",
      "8\n",
      "14\n",
      "25\n",
      "29\n",
      "34\n",
      "35\n",
      "45\n",
      "502Executive Council Resolution no. (2) of 2023 concerning the \n",
      "Establishment of a Free Zone Specialised in the Military and Security Sector within Tawazun Industrial Park.\n",
      "Executive Council Resolution No. (4) of 2023 concerning The \n",
      "Reformation of the Committee of Objections and the Remuneration of its Members.\n",
      "Executive Council Resolution No. (6) of 2023 concerning The \n",
      "Regulation of Appointment to the Positions of Experts and Consultants \n",
      "in Governmental Entities.\n",
      "*Attachment: Regulation Concerning the Appointment to the Positions of Experts and \n",
      "Consultants in Governmental Entities.57\n",
      "59\n",
      "60\n",
      "613Laws\n",
      "Laws\n"
     ]
    }
   ],
   "source": [
    "print(index_text)"
   ]
  },
  {
   "cell_type": "code",
   "execution_count": 44,
   "metadata": {},
   "outputs": [],
   "source": [
    "import time\n",
    "from langchain.prompts import PromptTemplate\n",
    "from langchain_core.output_parsers import JsonOutputParser\n",
    "from langchain_core.output_parsers import StrOutputParser\n",
    "\n",
    "prompt = PromptTemplate(\n",
    "    template=\"\"\"\n",
    "    <|begin_of_text|>\n",
    "    <|start_header_id|>system<|end_header_id|>  \n",
    "    You are an expert at identifying the Laws, Decrees and Executive Council Resolutions \n",
    "    from the given paragraph: {paragraph} \n",
    "    <|eot_id|>\n",
    "    <|start_header_id|>assistant<|end_header_id|>\n",
    "    \"\"\",\n",
    "    input_variables=[\"paragraph\"],\n",
    ")\n",
    "\n",
    "question_router = prompt | llm\n",
    "paragraph = splitted_documents[1].page_content + '/n' + splitted_documents[2].page_content + '/n' + splitted_documents[3].page_content\n",
    "\n",
    "response = question_router.invoke({\"paragraph\": index_text})\n"
   ]
  },
  {
   "cell_type": "code",
   "execution_count": 45,
   "metadata": {},
   "outputs": [
    {
     "name": "stdout",
     "output_type": "stream",
     "text": [
      "Based on the given text, here are the Laws, Decrees, and Executive Council Resolutions identified:\n",
      "\n",
      "**Laws:**\n",
      "\n",
      "1. Law No. (16) of 2022: Concerning The Licensing of The Drivers and Vehicles in The Emirate of Abu Dhabi.\n",
      "2. Law No. (1) of 2023: Concerning the establishment of Abu Dhabi Transport Company “Public Joint Stock Company”.\n",
      "3. Law No. (4) of 2023: Concerning The Establishment of Abu Dhabi Media Office.\n",
      "\n",
      "**Decrees:**\n",
      "\n",
      "1. Amiri Decree No. (3) of 2023: Concerning Some Members of the Executive Council in the Emirate of Abu Dhabi.\n",
      "\n",
      "**Executive Council Resolutions:**\n",
      "\n",
      "1. Executive Council Resolution No. (169) of 2022: Concerning the Thirty-First Investment Zone in the Emirate of Abu Dhabi.\n",
      "2. Executive Council Resolution No. (182) of 2022: Concerning the General Policy for the Management, Regulation and Protection of Groundwater in the Emirate of Abu Dhabi.\n",
      "3. Executive Council Resolution No. (183) of 2022: Concerning the Amendment of Some Provisions of Chairman of the Executive Council Resolution No. (25) of 2006 Concerning the Issuance of the Executive Regulation of Law No. (23) Of 2005 Concerning Health Insurance in the Emirate of Abu Dhabi.\n",
      "4. Executive Council Resolution No. (2) of 2023: concerning the Establishment of a Free Zone Specialised in the Military and Security Sector within Tawazun Industrial Park.\n",
      "5. Executive Council Resolution No. (4) of 2023: concerning The Reformation of the Committee of Objections and the Remuneration of its Members.\n",
      "6. Executive Council Resolution No. (6) of 2023: concerning The Regulation of Appointment to the Positions of Experts and Consultants in Governmental Entities.\n"
     ]
    }
   ],
   "source": [
    "print(response.content)"
   ]
  },
  {
   "cell_type": "code",
   "execution_count": 46,
   "metadata": {},
   "outputs": [
    {
     "name": "stdout",
     "output_type": "stream",
     "text": [
      "Collecting PyPDF2\n",
      "  Using cached pypdf2-3.0.1-py3-none-any.whl.metadata (6.8 kB)\n",
      "Using cached pypdf2-3.0.1-py3-none-any.whl (232 kB)\n",
      "Installing collected packages: PyPDF2\n",
      "Successfully installed PyPDF2-3.0.1\n",
      "Note: you may need to restart the kernel to use updated packages.\n"
     ]
    }
   ],
   "source": [
    "pip install PyPDF2\n"
   ]
  },
  {
   "cell_type": "code",
   "execution_count": 47,
   "metadata": {},
   "outputs": [
    {
     "name": "stdout",
     "output_type": "stream",
     "text": [
      "Empty pages: [5, 23, 25, 29, 66]\n"
     ]
    }
   ],
   "source": [
    "from PyPDF2 import PdfReader\n",
    "\n",
    "def find_empty_pages(pdf_path):\n",
    "    empty_pages = []\n",
    "    \n",
    "    # Read the PDF file\n",
    "    with open(pdf_path, 'rb') as file:\n",
    "        reader = PdfReader(file)\n",
    "        num_pages = len(reader.pages)\n",
    "        \n",
    "        for i in range(num_pages):\n",
    "            page = reader.pages[i]\n",
    "            text = page.extract_text()  # Extract text from the page\n",
    "            \n",
    "            # Check if the text is None or empty\n",
    "            if text is None or text.strip() == \"\":\n",
    "                empty_pages.append(i + 1)  # Store the page number (1-indexed)\n",
    "\n",
    "    return empty_pages\n",
    "\n",
    "# Example usage\n",
    "pdf_path = \"../doc/First Edition English 2023.pdf\"\n",
    "empty_pages = find_empty_pages(pdf_path)\n",
    "print(\"Empty pages:\", empty_pages)\n"
   ]
  },
  {
   "cell_type": "code",
   "execution_count": 68,
   "metadata": {},
   "outputs": [
    {
     "name": "stdout",
     "output_type": "stream",
     "text": [
      "31\n",
      "\n"
     ]
    }
   ],
   "source": [
    "pdf_path = \"../doc/First Edition English 2023.pdf\"\n",
    "with open(pdf_path, 'rb') as file:\n",
    "    reader = PdfReader(file)\n",
    "    num_pages = len(reader.pages)\n",
    "    page = reader.pages[31]\n",
    "    text = page.extract_text()\n",
    "    print(text)"
   ]
  },
  {
   "cell_type": "code",
   "execution_count": 63,
   "metadata": {},
   "outputs": [
    {
     "name": "stdout",
     "output_type": "stream",
     "text": [
      "Sentence found on page 27\n"
     ]
    }
   ],
   "source": [
    "import PyPDF2\n",
    "\n",
    "def find_sentence_in_pdf(pdf_path, sentence):\n",
    "    with open(pdf_path, 'rb') as file:\n",
    "        reader = PyPDF2.PdfReader(file)\n",
    "        for page_number in range(3, len(reader.pages)):\n",
    "            page = reader.pages[page_number]\n",
    "            text = page.extract_text()\n",
    "            if text and sentence in text:\n",
    "                print(f'Sentence found on page {page_number}')\n",
    "\n",
    "# Example usage\n",
    "pdf_path = '../doc/First Edition English 2023.pdf'\n",
    "sentence_to_find = 'Executive Council Resolutions'\n",
    "find_sentence_in_pdf(pdf_path, sentence_to_find)\n"
   ]
  },
  {
   "cell_type": "code",
   "execution_count": null,
   "metadata": {},
   "outputs": [],
   "source": [
    "pdf_path = \"../doc/First Edition English 2023.pdf\"\n",
    "with open(pdf_path, 'rb') as file:\n",
    "    reader = PdfReader(file)\n",
    "    num_pages = len(reader.pages)\n",
    "    page = reader.pages[31]\n",
    "    text = page.extract_text()\n",
    "    print(text)"
   ]
  }
 ],
 "metadata": {
  "kernelspec": {
   "display_name": "LegalDocRAG",
   "language": "python",
   "name": "python3"
  },
  "language_info": {
   "codemirror_mode": {
    "name": "ipython",
    "version": 3
   },
   "file_extension": ".py",
   "mimetype": "text/x-python",
   "name": "python",
   "nbconvert_exporter": "python",
   "pygments_lexer": "ipython3",
   "version": "3.11.10"
  }
 },
 "nbformat": 4,
 "nbformat_minor": 2
}
