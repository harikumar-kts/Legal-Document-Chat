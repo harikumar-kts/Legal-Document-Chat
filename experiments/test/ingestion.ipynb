{
 "cells": [
  {
   "cell_type": "code",
   "execution_count": 311,
   "metadata": {},
   "outputs": [],
   "source": [
    "from langchain_groq import ChatGroq\n",
    "\n",
    "llm = ChatGroq(\n",
    "    temperature=0,\n",
    "    model_name=\"llama-3.1-8b-instant\",\n",
    "    api_key=\"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\",\n",
    ")"
   ]
  },
  {
   "cell_type": "code",
   "execution_count": 312,
   "metadata": {},
   "outputs": [],
   "source": [
    "import time\n",
    "from langchain.prompts import PromptTemplate\n",
    "from langchain_core.output_parsers import JsonOutputParser\n",
    "from langchain_core.output_parsers import StrOutputParser\n",
    "\n",
    "prompt = PromptTemplate(\n",
    "    template=\"\"\"\n",
    "    <|begin_of_text|>\n",
    "    <|start_header_id|>system<|end_header_id|>  \n",
    "    You are an expert at identifying table of contents from the given paragraph {paragraph} \n",
    "    Don't give any additional information or summary\n",
    "    You must add the sub category but don't add 'The Official Gazette' and which edition\n",
    "\n",
    "    ### The output must be in the following format: \n",
    "    List of dictonary, each dictonary key should be main topics like Executive Council Resolutions, Laws and value should be list of sub topics\n",
    "    Do not include Pages\n",
    "\n",
    "    Sample output format\n",
    "    \"Laws\": [\n",
    "            \"Law No. (2) of 2022 Concerning the Reorganisation of the National Rehabilitation Centre - Abu Dhabi\"\n",
    "        ],\n",
    "        \"Executive Council Resolutions\": [\n",
    "            \"Chairman of the Executive Council Resolution No. (3) of 2022 Concerning the Appointment of the Director-General for Tourism at the Department of Culture and Tourism\"\n",
    "        ],\n",
    "        \"Circulars\": [\n",
    "            \"Circular No. (1) of 2022 Concerning the Policy of Providing an Easy and Effortless Customer Experience in the Emirate of Abu Dhabi\"\n",
    "        ]\n",
    "\n",
    "    <|eot_id|>\n",
    "    <|start_header_id|>assistant<|end_header_id|>\n",
    "    \"\"\",\n",
    "    input_variables=[\"paragraph\"],\n",
    ")\n",
    "\n",
    "question_router = prompt | llm\n"
   ]
  },
  {
   "cell_type": "code",
   "execution_count": 313,
   "metadata": {},
   "outputs": [],
   "source": [
    "from PyPDF2 import PdfReader\n",
    "import re\n",
    "pdf_path = \"../doc/8th Edition English 2023.pdf\"\n",
    "\n",
    "def table_of_content(reader):\n",
    "    for page_no in range(1, 4):\n",
    "        page = reader.pages[page_no]\n",
    "        text = page.extract_text()\n",
    "        return text\n",
    "        \n",
    "\n",
    "with open(pdf_path, 'rb') as file:\n",
    "    reader = PdfReader(file)\n",
    "\n",
    "    num_pages = len(reader.pages)\n",
    "\n",
    "    index_text = table_of_content(reader)\n",
    "    index_data = question_router.invoke({\"paragraph\": index_text})\n",
    "    output = \"\"\n",
    "    for page_no in range(3, num_pages):\n",
    "        page = reader.pages[page_no]\n",
    "        text = page.extract_text()\n",
    "        if text and text[0].isdigit():\n",
    "            text = text[1:]\n",
    "            text = re.sub(r'^\\d+', '', text)\n",
    "\n",
    "        cleaned_text = re.sub(r'[\\n\\r\\t]', ' ', text)\n",
    "        cleaned_text = cleaned_text.replace(\"  \", \" \")\n",
    "        cleaned_text = cleaned_text.replace(\"  \", \" \")\n",
    "\n",
    "\n",
    "        output = output + \" \" + cleaned_text\n",
    "        output = output.strip()"
   ]
  },
  {
   "cell_type": "code",
   "execution_count": 314,
   "metadata": {},
   "outputs": [
    {
     "name": "stdout",
     "output_type": "stream",
     "text": [
      "{\n",
      "    \"Laws\": [\n",
      "        \"Law No. (12) of 2023 concerning the Punitive and Correctional Establishments in the Emirate of Abu Dhabi\"\n",
      "    ],\n",
      "    \"Chairman of the Executive Council Resolutions\": [\n",
      "        \"Chairman of the Executive Council Resolution No. (4) of 2023 Concerning the Reformation of the Board of Directors of The Emirates Foundation\",\n",
      "        \"Chairman of the Executive Council Resolution No. (5) of 2023 Concerning the Repeal of the Chairman of the Executive Council Resolution No. (65) of 2014 concerning scholarships and study leaves in the Emirate of Abu Dhabi\",\n",
      "        \"Chairman of the Executive Council Resolution No. (6) of 2023 Concerning the Reformation of the Board of Directors of the Advanced Technology Research Council\"\n",
      "    ],\n",
      "    \"Executive Council Resolutions\": [\n",
      "        \"Executive Council Resolution No. (165) of 2023 concerning The Appointment of the Director-General of the International Fund for Houbara Conservation\",\n",
      "        \"Executive Council Resolution No. (185) of 2023 concerning the Amendment of the Membership of the Board of Directors of the Environment Agency - Abu Dhabi\",\n",
      "        \"Executive Council Resolution No. (187) of 2023 concerning the Financial Competencies of the Chairmen of Governmental Entities\",\n",
      "        \"Executive Council Resolution No. (195) of 2023 Concerning the establishment of Abu Dhabi Centre for Projects and Infrastructure\"\n",
      "    ]\n",
      "}\n"
     ]
    }
   ],
   "source": [
    "print(index_data.content)"
   ]
  },
  {
   "cell_type": "code",
   "execution_count": 315,
   "metadata": {},
   "outputs": [
    {
     "data": {
      "text/plain": [
       "'Laws Laws Law No. (12) of 2023 concerning the Punitive and Correctional Establishments in the Emirate of Abu Dhabi We, Mohamed bin Zayed Al Nahyan, Ruler of Abu Dhabi, Having reviewed: • Law No. (1) of 1974 concerning the reorganisation of the Governmental body in the Emirate of Abu Dhabi and its amendments; • Law no. (23) of 2006 concerning the Judicial Department in the Emirate of Abu Dhabi, and its amendments; • Law No. (1) of 2020 concerning Abu Dhabi Police General Headquarters and its amendments; • Federal Law no. (43) of 1992 concerning the Regulation of Punitive Establishments; • Federal Law by Decree No. (31) of 2021 concerning the issuance of the Crimes and Penal Law, and its amendments; • Federal Law No. (6) of 2022 concerning Juveniles, Delinquents, and those at risk of Delinquency; • Federal Law by Decree No. (38) of 2022 concerning the issuance of the Criminal Procedures Law; and • Based on what was presented to and approved by the Executive Council; Issued the following Law: Article (1) • This Law shall apply to punitive and correctional establishments and juvenile institutions in the Emirate of Abu Dhabi, which are specialised in the implementation of conviction rulings and pre-trial detention orders issued by the courts and prosecution offices of the Judicial Department – Abu Dhabi, and are managed by Abu Dhabi Police General Headquarters Command in accordance with the provisions of the aforesaid Law No. (1) of 2020 and the applicable legislations. • This Law shall not apply to Federal punitive and correctional establishments and juvenile institutions, even if they are domiciled in the Emirate of Abu Dhabi. Mohamed bin Zayed Al Nahyan Ruler of Abu Dhabi Issued by us in Abu Dhabi Date: 17-August-2023 Corresponding to: 30 Muharram 1445 HijriArticle (2) The competence of managing the punitive and correctional establishments and juvenile institutions referred to in the first paragraph of Article 1 of this Law shall be transferred from Abu Dhabi Police General Headquarters to the Judicial Department – Abu Dhabi. Article 3 • Members of Abu Dhabi Police General Headquarters working at the punitive and correctional establishments and juvenile institutions referred to in the first paragraph of Article 1 of this Law shall be seconded to Judicial Department- Abu Dhabi for a period of one year. The secondment may be extended to all or some of them for a similar or shorter period, or they may be transferred as per the work requirements and in accordance with the rules stipulated in the aforesaid Law No. (1) of 2020. • All assets, movables, properties, rights, obligations and budgets related to the punitive and correctional establishments and juvenile institutions shall be transferred from Abu Dhabi Police General Headquartes to Judicial Department- Abu Dhabi in accordance with the applicable regulations. Article 4 The Chairman of theJudicial Department- Abu Dhabi shall issue the necessary resolutions to implement the provisions of this Law, based on a coordination taking place between the Judicial Department- Abu Dhabi and Abu Dhabi Police General Headquarters, whenever necessary. Article 5 This Law shall be published in the Official Gazette and become effective from 01 January 2024.  Chairman of the Executive Council ResolutionsChairman of the Executive Council Resolutions Chairman of the Executive Council Resolution No. (4) of 2023 Concerning the Executive Council’s Committees and Financial Competencies We, Khaled bin Mohamed bin Zayed Al Nahyan, Crown Prince, Chairman of the Executive Council, Having reviewed: • Law No. (1) of 1974 concerning the Reorganisation of the Governmental Body in the Emirate of Abu Dhabi and its amendments; • Chairman of the Executive Council Resolution No. (12) of 2019 concerning the Financial Competencies of the Executive Council’s Committees and Chairmen of Governmental Entities; • Chairman of the Executive Council Resolution No. (13) of 2019 concerning the Executive Committee; • Chairman of the Executive Council Resolution No. (16) of 2019 concerning the formation of the Executive Committee, • Chairman of the Executive Council Resolution No. (39) of 2019 concerning the Office of the Chairman of the Executive Committee; • Chairman of the Executive Council Resolution No. (42) of 2019 concerning the addition of Members to the Executive Committee; • Chairman of the Executive Council Resolution No. (21) of 2021 concerning the Additional Competencies to Abu Dhabi Executive Office; and • Based on what was presented to and approved by the Executive Council; Issued the following Resolution: Article (1) The Executive Council shall issue the following resolutions: • Forming the Committees of the Executive Council and specifying their competencies and financial powers. • Financial Competenciesof the Chairmen of the Governmental Entities. Khaled bin Mohamed bin Zayed Al Nahyan Crown Prince Chairman of the Executive Council Issued by us in Abu Dhabi On: 03-August-2023 Corresponding to 16 Muharram 1445 HijriArticle (2) • The aforesaid Chairman of the Executive Council Resolutions No. (12), (13), (16), (39) and (42) of 2019 and (21) of 2021 shall be repealed, as well as any tasks or competencies assigned to the Executive Committee in any other resolutions. • Any provision contrary to the provisions of this Resolution shall be repealed. Article 3 This Resolution shall be effective from the date of its issuance and be published in the Official Gazette. Khaled bin Mohamed bin Zayed Al Nahyan Crown Prince Chairman of the Executive Council Issued by us in Abu Dhabi On: 03-August-2023 Corresponding to 16 Muharram 1445 HijriChairman of the Executive Council Resolution No. (5) of 2023 Concerning the Repeal of the Chairman of the Executive Council Resolution No. (65) of 2014 concerning scholarships and study leaves in the Emirate of Abu Dhabi We, Khaled bin Mohamed bin Zayed Al Nahyan, Crown Prince, Chairman of the Executive Council, Having reviewed: • Law No. (1) of 1974 concerning the Reorganisation of the Governmental Body in the Emirate of Abu Dhabi and its amendments; • Law No. (9) of 2018 concerning the Establishment of the Department of Education and Knowledge; • Chairman of the Executive Council Resolution No. (65) of 2014 concerning scholarships and study leaves in the Emirate of Abu Dhabi; and • Based on what was presented to and approved by the Executive Council; Issued the following Resolution: Article (1) Aforesaid Chairman of the Executive Council Resolution No. (65) of 2014 shall be repealed. Article (2) This Resolution shall be effective from the date of its issuance and published in the Official Gazette. Chairman of the Executive Council Resolution No. (6) of 2023 Concerning the Reformation of the Board of Directors of the Advanced Technology Research Council We, Khaled bin Mohamed bin Zayed Al Nahyan, Crown Prince, Chairman of the Executive Council, Having reviewed: • Law No. (1) of 1974 concerning the Reorganisation of the Governmental Body in the Emirate of Abu Dhabi and its amendments; • Law No. (14) of 2020 concerning the establishment of the Advanced Technology Research Council; • Chairman of the Executive Council Resolution No. (12) of 2020 concerning the formation of the Board of Directors of the Advanced Technology Research Council; and • Based on what was presented to and approved by the Executive Council; Issued the following Resolution: Article (1) The Board of Directors of the Advanced Technology Research Council shall be reformed under our Chairmanship with the membership of: 1. H.E. Dr. Sultan Ahmed Al-Jaber. 2. H.E. Khaldoun Khalifa Al Mubarak. 3. H.E. Mohammed Hassan Al Suwaidi. 4. H.E. Mansour Ibrahim Al Mansouri. 5. H.E. “Ahmed Tamim” Hisham Al Kuttab. 6. The Secretary-General of the Advanced Technology Research Council. Khaled bin Mohamed bin Zayed Al Nahyan Crown Prince Chairman of the Executive Council Issued by us in Abu Dhabi On: 07-August-2023 Corresponding to 20 Muharram 1445 HijriArticle (2) The Term of the Board’s membership shall be three renewable years. Article 3 This Resolution shall be effective from the date of its issuance and be published in the Official Gazette.  Executive Council Resolutions Executive Council Resolutions Executive Council Resolution No. (165) of 2023 concerning The Appointment of the Director-General of the International Fund for Houbara Conservation  The Executive Council has decided the following: His Excellency Abdulla Ghurair Mohammed Al Aujan Al Qubaisi shall be appointed as the Director- General of the International Fund for Houbara Conservation. Saif Saeed Ghobash Secretary-General Issued on: 03 August 2023 Corresponding to: 16 Muharram 1445 Hijri Executive Council Resolution No. (185) of 2023 concerning the Amendment of the Membership of the Board of Directors of the Environment Agency - Abu Dhabi  Having reviewed the Chairman of the Executive Council Resolution no. (142) of 2022 concerning the reformation of the Board of Directors of the Environment Agency - Abu Dhabi; The Executive Council has decided the following: • H.E. Mohammed Ali Al-Shorafa Al-Hammadi shall replace H.E. Falah Mohammed Falah Al-Ahbabi in the membership of the Board of Directors of the Environment Agency - Abu Dhabi. • Mr. Musabah Hilal Al Kaabi shall replace Mr. Ahmed Saqr Al Suwaidi in the membership of the Board of Directors of the Environment Agency - Abu Dhabi. Saif Saeed Ghobash Secretary-General Issued on: 03 August 2023 Corresponding to: 16 Muharram 1445 Hijri Executive Council Resolution No. (187) of 2023 concerning the Financial Competencies of the Chairmen of Governmental Entities The Executive Council has decided the following: First: The provisions of this Resolution shall apply to all the governmental entities except for the entities listed in the table attached hereto. Second: The Chairman of the governmental entity shall have the financial competencies related to the contracts of capital and operational project at an amount not exceeding AED (150,000,000.00), as per the following: 1. Approve awards, direct orders and variation orders in the contracts of capital projects, provided that they are within the approved development cost for the project and without modifying the approved duration or scope of the project, and submit any excess thereof to Abu Dhabi Centre for Projects and Infrastructure. 2. Approve to amend the implementation strategy of the approved capital projects or to divide the scope of their scope, provided that the approved development cost for the project does not exceed AED (150,000,000.00). 3. Approve awards, direct orders and variation orders in operational contracts within the entity’s approved budget, and presenting anything in excess thereof to the Executive Council and its Committees. Third: The Chairman of the governmental entity may write off the movables as well as damaged and perished equipment and materials and the like from the accounting records of the governmental entity, dispose thereof by offering them for sale in a public auction or donating them, or in any other way of disposition in accordance with the applicable legislations, provided that their book value does not exceed AED (30,000,000.00), and submit any excess thereof to the Executive Council and its committees. Fourth: The Departments and the like shall specify the financial competencies of their affiliated entities in accordance with the provisions of this Resolution, and such entities shall abide by the expenditures in accordance with the applicable legislations. Fifth: The governmental entities shall abide by the following: 1. Audit every financial request submitted to the Executive Council and its Committees, the Department of Finance, or Abu Dhabi Centre for Projects and Infrastructure, and the request shall be approved by the Chairman of the governmental entity. 2. Include financial requests, budgets, decisions related to awarding contracts, amendments made thereto, the particulars of the main clauses and their value, and the number of appropriation in the financial records and systems in a clear manner. 3. Refrain from exercising the financial competencies except upon the availability of appropriations in the budget. 4. The capacity of approving the variation orders in respect of the contracts and purchase orders shall be at the same level of the capacity of whoever approved the contract and purchase order in the first place, unless the variation order entailed the increase of the overall value of the contract or purchase order, to a higher level of capacity . 5. Inadmissibility of division of contracts and purchase orders for the purpose of changing the level of financial competencies. 6. Submit periodic reports to Abu Dhabi Centre for Projects and Infrastructure on all matters related to its contracts of capital projects, including a statement of the status of these projects, the completion percentage, schedule, cost, existing or expected challenges, and their proposed solutions in accordance with the controls and standards approved by the Centre. 7. Coordinate with Abu Dhabi Centre for Projects and Infrastructure regarding capital projects related to strategies being developed by governmental entities. 8. Fairly evaluating assets, properties, movables, as well as damaged and perished equipment and materials and the like before disposing of them. . Paying the dues of contractors, consultants and outsourcers in the operational contracts as per the terms of their contracts after receiving the documents and invoices confirming implementation. 10. Coordinate with Abu Dhabi Centre for Projects and Infrastructure before closing the final accounts of capital projects and ensuring that the Centre approves the payments due to the companies implementing the projects. Sixth: Any provision contrary to the provisions of this Resolution shall be repealed. Saif Saeed Ghobash Secretary-General Issued on: 03 August 2023 Corresponding to: 16 Muharram 1445 Hijri Table of Excluded Entities Attached to the Executive Council Resolution No. (187) of 2023 Concerning the Financial Competencies of the Chairmen of the Governmental Entities Governmental Entities 01 Abu Dhabi Executive Office 02 Abu Dhabi Retirement Fund 03 Abu Dhabi Global Market * Governmental entities for the purpose of application of the Resolution: Executive Council entities in accordance with the classification approved by the Department of Finance and in accordance with the applicable regulations in this regard. Executive Council Resolution No. (195) of 2023 Concerning the establishment of Abu Dhabi Centre for Projects and Infrastructure The Executive Council has decided the following: First: A Centre called “Abu Dhabi Centre for Projects and Infrastructure” shall be established, and affiliated to the Chairman of the Department of Municipalities and Transport. Second: The Centre shall assume the following competences: 1. Review capital projects proposed by the governmental entities and submit the necessary recommendations to the Chairman of the Department in preparation for their approval by the Executive Council. 2. Approve awards and variation orders for capital project contracts within the approved development cost of the project. 3. Approve to amend the scope of work, the time period, or the approved development cost of the project, or to merge, divide, or change the strategy for implementing the approved capital projects, provided that the value of the amendments to the development cost of the project does not exceed an amount of 250,000,000.00 Dirhams, and submit any exceeding amount to the Executive Council and its committees. 4. Study the cancellation of capital projects and submit recommendations in their regard to the Executive Council and its committees. 5. Study the annual budget for capital projects of the governmental entities in coordination with Abu Dhabi Executive Office and the Department of Finance, and submit it for approval in accordance with the applicable legislations. 6. Make transfers between capital project budgets during the fiscal year, without exceeding the approved annual budget ceiling for capital projects. 7. Coordinate with the concerned entities concerning the development of strategies that may lead to capital projects in the Emirate. . Follow up on the implementation of capital projects approved by the Executive Council to guarantee that projects are delivered in accordance with the approved plans and studies, and to ensure issues related to quality, safety and technicality. 9. Study public-private partnership projects related to the Centre’s competencies in coordination with the concerned entities. 10. Coordinate with the governmental entities to determine the best options and practices when implementing their capital projects. 11. Propose standards and requirements for the approval of capital projects, including the feasibility study guide and performance indicators, and submit them to the Chairman of the Department for approval. 12. Select and identify developers implementing capital projects in the Emirate, in accordance with the controls and standards approved by the Chairman of the Department. 13. Develop standard agreement templates of contracting, design and construction for governmental entities, and following up on these entities’ compliance with such templates. 14. Unify design standards for similar capital projects by adopting design forms in accordance with the applicable legislations, and update them periodically. 15. Approve payments for capital projects submitted by the governmental entities and companies implementing the projects. 16. Review and approve financial claims for capital projects, and inform the governmental entities about them. 17. Manage the finishing of capital projects upon completion of the project or when necessary in accordance with the applied regulations, approve the final accounts of the projects, and follow up on the delivery process for these projects. 18. Follow up with governmental entities to guarantee the optimal exploitation and use of government assets and real estate, and submit proposals in their regard. 19. Review requests for financial exemptions for capital projects and submit recommendations thereon to the Chairman of the Department in preparation for submitting them to the Executive Council and its committees. 20. Periodic auditing of capital project contracts in coordination with the concerned entities to ensure that the governmental entities comply with the applicable legislations, and submit periodic reports to the Chairman of the Department in preparation for submitting them to the Executive Council and its committees. Third: The Centre shall replace Abu Dhabi Executive Office in the framework agreements concluded between the Government of Abu Dhabi and Aldar Properties PJSC. related to the capital projects of the government, the Centre shall be responsible for supervising their implementation. Fourth: The Centre may have a Director to be appointed in accordance with the regulations applied in the Emirate, who is responsible for managing and supervising the conduct of work at the Centre. Fifth: The employees whose work is related to the tasks and competencies mentioned in Clause (Second) and related to capital projects shall be transferred from Abu Dhabi Executive Office to the Department of Municipalities and Transport (the Centre), without prejudice to their financial and retirement allocations. Sixth: The assets, properties, rights and obligations, and the budgets allocated to the competencies mentioned in Clause (Second) of this Resolution as well as the operations related thereto for the year 2023, shall be transferred from Abu Dhabi Executive Office to the Department of Municipalities and Transport (Centre). Seventh: A budget shall be allocated to the Centre within the annual budget of the Department of Municipalities and Transport. Eighth: The Centre shall be subject to the rules, regulations and resolutions applicable in the Department of Municipalities and transport. Ninth: Instruct the Chairman of the Department of Municipalities and Transport to develop a transitional plan to guarantee the implementation of the provisions of this Resolution and the continuity of operations of the Saif Saeed Ghobash Secretary-Generalcapital projects in coordination with Abu Dhabi Executive Office, provided that the transfer of all operations is completed within a period not exceeding 31/12/2023. Tenth: The Chairman of the Department shall issue resolutions for the implementation of the provisions of this Resolution, including the resolutions governing financial competencies and appropriations related to capital projects. Eleventh: Any provision contrary to the provisions of this Resolution shall be repealed. Issued on: 03 August 2023 Corresponding to: 16 Muharram 1445 Hijri United Arab Emirates The Emirate Of Abu Dhabi Issued By The Gereral Secretariat of The Executive Council of The Emirate Of Abu Dhabi Office of Legal Affairs Abu Dhabi - P.O. Box: 19 Tel: +971 26688446 Fax: +971 26669981'"
      ]
     },
     "execution_count": 315,
     "metadata": {},
     "output_type": "execute_result"
    }
   ],
   "source": [
    "output"
   ]
  },
  {
   "cell_type": "code",
   "execution_count": 316,
   "metadata": {},
   "outputs": [
    {
     "data": {
      "text/plain": [
       "['Law No. (12) of 2023 concerning the Punitive and Correctional Establishments in the Emirate of Abu Dhabi',\n",
       " 'Chairman of the Executive Council Resolution No. (4) of 2023 Concerning the Reformation of the Board of Directors of The Emirates Foundation',\n",
       " 'Chairman of the Executive Council Resolution No. (5) of 2023 Concerning the Repeal of the Chairman of the Executive Council Resolution No. (65) of 2014 concerning scholarships and study leaves in the Emirate of Abu Dhabi',\n",
       " 'Chairman of the Executive Council Resolution No. (6) of 2023 Concerning the Reformation of the Board of Directors of the Advanced Technology Research Council',\n",
       " 'Executive Council Resolution No. (165) of 2023 concerning The Appointment of the Director-General of the International Fund for Houbara Conservation',\n",
       " 'Executive Council Resolution No. (185) of 2023 concerning the Amendment of the Membership of the Board of Directors of the Environment Agency - Abu Dhabi',\n",
       " 'Executive Council Resolution No. (187) of 2023 concerning the Financial Competencies of the Chairmen of Governmental Entities',\n",
       " 'Executive Council Resolution No. (195) of 2023 Concerning the establishment of Abu Dhabi Centre for Projects and Infrastructure']"
      ]
     },
     "execution_count": 316,
     "metadata": {},
     "output_type": "execute_result"
    }
   ],
   "source": [
    "import json\n",
    "TOC = json.loads(index_data.content)\n",
    "key_topics = list()\n",
    "\n",
    "final_dict = {}\n",
    "\n",
    "for key, value in TOC.items():\n",
    "    key_topics.extend(value)\n",
    "\n",
    "key_topics"
   ]
  },
  {
   "cell_type": "code",
   "execution_count": 309,
   "metadata": {},
   "outputs": [],
   "source": [
    "# output_lower = output.lower()\n",
    "\n",
    "# def remove_dot(text):\n",
    "#     if text.endswith('.'):\n",
    "#         text = text[:-1]\n",
    "#     else:\n",
    "#         text = text\n",
    "#     return text\n",
    "\n",
    "# for i in range(len(key_topics) - 1):\n",
    "\n",
    "#     current_topic = key_topics[i][:-1]\n",
    "#     next_topic = key_topics[i + 1]\n",
    "\n",
    "#     current_topic = remove_dot(current_topic)\n",
    "#     next_topic = remove_dot(next_topic)\n",
    "\n",
    "#     current_topic_lower = current_topic.lower()\n",
    "#     next_topic_lower = next_topic.lower()\n",
    "\n",
    "#     print(\"===========================================\")\n",
    "\n",
    "#     current_topic = current_topic_lower.replace(\"'\", '\"')\n",
    "#     next_topic = next_topic_lower.replace(\"'\", '\"')\n",
    "    \n",
    "#     print(f\"Current Topic: {current_topic}\")\n",
    "#     print(f\"Next Topic: {next_topic}\")\n",
    "\n",
    "#     start = output_lower.find(current_topic)\n",
    "#     end = output_lower.find(next_topic)\n",
    "#     print(f\"String index of current topic: {start}\")\n",
    "#     print(f\"String index of next topic: {end}\")\n",
    "\n",
    "#     substring = output_lower[start:end]\n",
    "#     print(\"\\n\")\n",
    "#     print(substring)"
   ]
  },
  {
   "cell_type": "code",
   "execution_count": 317,
   "metadata": {},
   "outputs": [
    {
     "name": "stdout",
     "output_type": "stream",
     "text": [
      "===========================================\n",
      "Current Topic: law no. (12) of 2023 concerning the punitive and correctional establishments in the emirate of abu dhabi\n",
      "Next Topic: chairman of the executive council resolution no. (4) of 2023 concerning the reformation of the board of directors of the emirates foundation\n",
      "String index of current topic: 10\n",
      "String index of next topic: 1010\n",
      "\n",
      "\n",
      "law no. (12) of 2023 concerning the punitive and correctional establishments in the emirate of abu dhabi we, mohamed bin zayed al nahyan, ruler of abu dhabi, having reviewed: • law no. (1) of 1974 concerning the reorganisation of the governmental body in the emirate of abu dhabi and its amendments; • law no. (23) of 2006 concerning the judicial department in the emirate of abu dhabi, and its amendments; • law no. (1) of 2020 concerning abu dhabi police general headquarters and its amendments; • federal law no. (43) of 1992 concerning the regulation of punitive establishments; • federal law by decree no. (31) of 2021 concerning the issuance of the crimes and penal law, and its amendments; • federal law no. (6) of 2022 concerning juveniles, delinquents, and those at risk of delinquency; • federal law by decree no. (38) of 2022 concerning the issuance of the criminal procedures law; and • based on what was presented to and approved by the executive council; issued the following law: artic\n",
      "===========================================\n",
      "Current Topic: chairman of the executive council resolution no. (4) of 2023 concerning the reformation of the board of directors of the emirates foundation\n",
      "Next Topic: chairman of the executive council resolution no. (5) of 2023 concerning the repeal of the chairman of the executive council resolution no. (65) of 2014 concerning scholarships and study leaves in the emirate of abu dhabi\n",
      "String index of current topic: 4644\n",
      "String index of next topic: 5644\n",
      "\n",
      "\n",
      "issue the following resolutions: • forming the committees of the executive council and specifying their competencies and financial powers. • financial competenciesof the chairmen of the governmental entities. khaled bin mohamed bin zayed al nahyan crown prince chairman of the executive council issued by us in abu dhabi on: 03-august-2023 corresponding to 16 muharram 1445 hijriarticle (2) • the aforesaid chairman of the executive council resolutions no. (12), (13), (16), (39) and (42) of 2019 and (21) of 2021 shall be repealed, as well as any tasks or competencies assigned to the executive committee in any other resolutions. • any provision contrary to the provisions of this resolution shall be repealed. article 3 this resolution shall be effective from the date of its issuance and be published in the official gazette. khaled bin mohamed bin zayed al nahyan crown prince chairman of the executive council issued by us in abu dhabi on: 03-august-2023 corresponding to 16 muharram 1445 hijri\n",
      "===========================================\n",
      "Current Topic: chairman of the executive council resolution no. (5) of 2023 concerning the repeal of the chairman of the executive council resolution no. (65) of 2014 concerning scholarships and study leaves in the emirate of abu dhabi\n",
      "Next Topic: chairman of the executive council resolution no. (6) of 2023 concerning the reformation of the board of directors of the advanced technology research council\n",
      "String index of current topic: 5644\n",
      "String index of next topic: 6659\n",
      "\n",
      "\n",
      "chairman of the executive council resolution no. (5) of 2023 concerning the repeal of the chairman of the executive council resolution no. (65) of 2014 concerning scholarships and study leaves in the emirate of abu dhabi we, khaled bin mohamed bin zayed al nahyan, crown prince, chairman of the executive council, having reviewed: • law no. (1) of 1974 concerning the reorganisation of the governmental body in the emirate of abu dhabi and its amendments; • law no. (9) of 2018 concerning the establishment of the department of education and knowledge; • chairman of the executive council resolution no. (65) of 2014 concerning scholarships and study leaves in the emirate of abu dhabi; and • based on what was presented to and approved by the executive council; issued the following resolution: article (1) aforesaid chairman of the executive council resolution no. (65) of 2014 shall be repealed. article (2) this resolution shall be effective from the date of its issuance and published in the official gazette. \n",
      "===========================================\n",
      "Current Topic: chairman of the executive council resolution no. (6) of 2023 concerning the reformation of the board of directors of the advanced technology research council\n",
      "Next Topic: executive council resolution no. (165) of 2023 concerning the appointment of the director-general of the international fund for houbara conservation\n",
      "String index of current topic: 6659\n",
      "String index of next topic: 8244\n",
      "\n",
      "\n",
      "chairman of the executive council resolution no. (6) of 2023 concerning the reformation of the board of directors of the advanced technology research council we, khaled bin mohamed bin zayed al nahyan, crown prince, chairman of the executive council, having reviewed: • law no. (1) of 1974 concerning the reorganisation of the governmental body in the emirate of abu dhabi and its amendments; • law no. (14) of 2020 concerning the establishment of the advanced technology research council; • chairman of the executive council resolution no. (12) of 2020 concerning the formation of the board of directors of the advanced technology research council; and • based on what was presented to and approved by the executive council; issued the following resolution: article (1) the board of directors of the advanced technology research council shall be reformed under our chairmanship with the membership of: 1. h.e. dr. sultan ahmed al-jaber. 2. h.e. khaldoun khalifa al mubarak. 3. h.e. mohammed hassan al suwaidi. 4. h.e. mansour ibrahim al mansouri. 5. h.e. “ahmed tamim” hisham al kuttab. 6. the secretary-general of the advanced technology research council. khaled bin mohamed bin zayed al nahyan crown prince chairman of the executive council issued by us in abu dhabi on: 07-august-2023 corresponding to 20 muharram 1445 hijriarticle (2) the term of the board’s membership shall be three renewable years. article 3 this resolution shall be effective from the date of its issuance and be published in the official gazette.  executive council resolutions executive council resolutions \n",
      "===========================================\n",
      "Current Topic: executive council resolution no. (165) of 2023 concerning the appointment of the director-general of the international fund for houbara conservation\n",
      "Next Topic: executive council resolution no. (185) of 2023 concerning the amendment of the membership of the board of directors of the environment agency - abu dhabi\n",
      "String index of current topic: 8244\n",
      "String index of next topic: 8703\n",
      "\n",
      "\n",
      "executive council resolution no. (165) of 2023 concerning the appointment of the director-general of the international fund for houbara conservation  the executive council has decided the following: his excellency abdulla ghurair mohammed al aujan al qubaisi shall be appointed as the director- general of the international fund for houbara conservation. saif saeed ghobash secretary-general issued on: 03 august 2023 corresponding to: 16 muharram 1445 hijri \n",
      "===========================================\n",
      "Current Topic: executive council resolution no. (185) of 2023 concerning the amendment of the membership of the board of directors of the environment agency - abu dhabi\n",
      "Next Topic: executive council resolution no. (187) of 2023 concerning the financial competencies of the chairmen of governmental entities\n",
      "String index of current topic: 8703\n",
      "String index of next topic: 9513\n",
      "\n",
      "\n",
      "executive council resolution no. (185) of 2023 concerning the amendment of the membership of the board of directors of the environment agency - abu dhabi  having reviewed the chairman of the executive council resolution no. (142) of 2022 concerning the reformation of the board of directors of the environment agency - abu dhabi; the executive council has decided the following: • h.e. mohammed ali al-shorafa al-hammadi shall replace h.e. falah mohammed falah al-ahbabi in the membership of the board of directors of the environment agency - abu dhabi. • mr. musabah hilal al kaabi shall replace mr. ahmed saqr al suwaidi in the membership of the board of directors of the environment agency - abu dhabi. saif saeed ghobash secretary-general issued on: 03 august 2023 corresponding to: 16 muharram 1445 hijri \n",
      "===========================================\n",
      "Current Topic: executive council resolution no. (187) of 2023 concerning the financial competencies of the chairmen of governmental entities\n",
      "Next Topic: executive council resolution no. (195) of 2023 concerning the establishment of abu dhabi centre for projects and infrastructure\n",
      "String index of current topic: 9513\n",
      "String index of next topic: 14516\n",
      "\n",
      "\n",
      "executive council resolution no. (187) of 2023 concerning the financial competencies of the chairmen of governmental entities the executive council has decided the following: first: the provisions of this resolution shall apply to all the governmental entities except for the entities listed in the table attached hereto. second: the chairman of the governmental entity shall have the financial competencies related to the contracts of capital and operational project at an amount not exceeding aed (150,000,000.00), as per the following: 1. approve awards, direct orders and variation orders in the contracts of capital projects, provided that they are within the approved development cost for the project and without modifying the approved duration or scope of the project, and submit any excess thereof to abu dhabi centre for projects and infrastructure. 2. approve to amend the implementation strategy of the approved capital projects or to divide the scope of their scope, provided that the approved development cost for the project does not exceed aed (150,000,000.00). 3. approve awards, direct orders and variation orders in operational contracts within the entity’s approved budget, and presenting anything in excess thereof to the executive council and its committees. third: the chairman of the governmental entity may write off the movables as well as damaged and perished equipment and materials and the like from the accounting records of the governmental entity, dispose thereof by offering them for sale in a public auction or donating them, or in any other way of disposition in accordance with the applicable legislations, provided that their book value does not exceed aed (30,000,000.00), and submit any excess thereof to the executive council and its committees. fourth: the departments and the like shall specify the financial competencies of their affiliated entities in accordance with the provisions of this resolution, and such entities shall abide by the expenditures in accordance with the applicable legislations. fifth: the governmental entities shall abide by the following: 1. audit every financial request submitted to the executive council and its committees, the department of finance, or abu dhabi centre for projects and infrastructure, and the request shall be approved by the chairman of the governmental entity. 2. include financial requests, budgets, decisions related to awarding contracts, amendments made thereto, the particulars of the main clauses and their value, and the number of appropriation in the financial records and systems in a clear manner. 3. refrain from exercising the financial competencies except upon the availability of appropriations in the budget. 4. the capacity of approving the variation orders in respect of the contracts and purchase orders shall be at the same level of the capacity of whoever approved the contract and purchase order in the first place, unless the variation order entailed the increase of the overall value of the contract or purchase order, to a higher level of capacity . 5. inadmissibility of division of contracts and purchase orders for the purpose of changing the level of financial competencies. 6. submit periodic reports to abu dhabi centre for projects and infrastructure on all matters related to its contracts of capital projects, including a statement of the status of these projects, the completion percentage, schedule, cost, existing or expected challenges, and their proposed solutions in accordance with the controls and standards approved by the centre. 7. coordinate with abu dhabi centre for projects and infrastructure regarding capital projects related to strategies being developed by governmental entities. 8. fairly evaluating assets, properties, movables, as well as damaged and perished equipment and materials and the like before disposing of them. . paying the dues of contractors, consultants and outsourcers in the operational contracts as per the terms of their contracts after receiving the documents and invoices confirming implementation. 10. coordinate with abu dhabi centre for projects and infrastructure before closing the final accounts of capital projects and ensuring that the centre approves the payments due to the companies implementing the projects. sixth: any provision contrary to the provisions of this resolution shall be repealed. saif saeed ghobash secretary-general issued on: 03 august 2023 corresponding to: 16 muharram 1445 hijri table of excluded entities attached to the executive council resolution no. (187) of 2023 concerning the financial competencies of the chairmen of the governmental entities governmental entities 01 abu dhabi executive office 02 abu dhabi retirement fund 03 abu dhabi global market * governmental entities for the purpose of application of the resolution: executive council entities in accordance with the classification approved by the department of finance and in accordance with the applicable regulations in this regard. \n",
      "===========================================\n",
      "Current Topic: executive council resolution no. (195) of 2023 concerning the establishment of abu dhabi centre for projects and infrastructure\n",
      "\n",
      "\n",
      "executive council resolution no. (195) of 2023 concerning the establishment of abu dhabi centre for projects and infrastructure the executive council has decided the following: first: a centre called “abu dhabi centre for projects and infrastructure” shall be established, and affiliated to the chairman of the department of municipalities and transport. second: the centre shall assume the following competences: 1. review capital projects proposed by the governmental entities and submit the necessary recommendations to the chairman of the department in preparation for their approval by the executive council. 2. approve awards and variation orders for capital project contracts within the approved development cost of the project. 3. approve to amend the scope of work, the time period, or the approved development cost of the project, or to merge, divide, or change the strategy for implementing the approved capital projects, provided that the value of the amendments to the development cost of the project does not exceed an amount of 250,000,000.00 dirhams, and submit any exceeding amount to the executive council and its committees. 4. study the cancellation of capital projects and submit recommendations in their regard to the executive council and its committees. 5. study the annual budget for capital projects of the governmental entities in coordination with abu dhabi executive office and the department of finance, and submit it for approval in accordance with the applicable legislations. 6. make transfers between capital project budgets during the fiscal year, without exceeding the approved annual budget ceiling for capital projects. 7. coordinate with the concerned entities concerning the development of strategies that may lead to capital projects in the emirate. . follow up on the implementation of capital projects approved by the executive council to guarantee that projects are delivered in accordance with the approved plans and studies, and to ensure issues related to quality, safety and technicality. 9. study public-private partnership projects related to the centre’s competencies in coordination with the concerned entities. 10. coordinate with the governmental entities to determine the best options and practices when implementing their capital projects. 11. propose standards and requirements for the approval of capital projects, including the feasibility study guide and performance indicators, and submit them to the chairman of the department for approval. 12. select and identify developers implementing capital projects in the emirate, in accordance with the controls and standards approved by the chairman of the department. 13. develop standard agreement templates of contracting, design and construction for governmental entities, and following up on these entities’ compliance with such templates. 14. unify design standards for similar capital projects by adopting design forms in accordance with the applicable legislations, and update them periodically. 15. approve payments for capital projects submitted by the governmental entities and companies implementing the projects. 16. review and approve financial claims for capital projects, and inform the governmental entities about them. 17. manage the finishing of capital projects upon completion of the project or when necessary in accordance with the applied regulations, approve the final accounts of the projects, and follow up on the delivery process for these projects. 18. follow up with governmental entities to guarantee the optimal exploitation and use of government assets and real estate, and submit proposals in their regard. 19. review requests for financial exemptions for capital projects and submit recommendations thereon to the chairman of the department in preparation for submitting them to the executive council and its committees. 20. periodic auditing of capital project contracts in coordination with the concerned entities to ensure that the governmental entities comply with the applicable legislations, and submit periodic reports to the chairman of the department in preparation for submitting them to the executive council and its committees. third: the centre shall replace abu dhabi executive office in the framework agreements concluded between the government of abu dhabi and aldar properties pjsc. related to the capital projects of the government, the centre shall be responsible for supervising their implementation. fourth: the centre may have a director to be appointed in accordance with the regulations applied in the emirate, who is responsible for managing and supervising the conduct of work at the centre. fifth: the employees whose work is related to the tasks and competencies mentioned in clause (second) and related to capital projects shall be transferred from abu dhabi executive office to the department of municipalities and transport (the centre), without prejudice to their financial and retirement allocations. sixth: the assets, properties, rights and obligations, and the budgets allocated to the competencies mentioned in clause (second) of this resolution as well as the operations related thereto for the year 2023, shall be transferred from abu dhabi executive office to the department of municipalities and transport (centre). seventh: a budget shall be allocated to the centre within the annual budget of the department of municipalities and transport. eighth: the centre shall be subject to the rules, regulations and resolutions applicable in the department of municipalities and transport. ninth: instruct the chairman of the department of municipalities and transport to develop a transitional plan to guarantee the implementation of the provisions of this resolution and the continuity of operations of the saif saeed ghobash secretary-generalcapital projects in coordination with abu dhabi executive office, provided that the transfer of all operations is completed within a period not exceeding 31/12/2023. tenth: the chairman of the department shall issue resolutions for the implementation of the provisions of this resolution, including the resolutions governing financial competencies and appropriations related to capital projects. eleventh: any provision contrary to the provisions of this resolution shall be repealed. issued on: 03 august 2023 corresponding to: 16 muharram 1445 hijri united arab emirates the emirate of abu dhabi issued by the gereral secretariat of the executive council of the emirate of abu dhabi office of legal affairs abu dhabi - p.o. box: 19 tel: +971 26688446 fax: +971 26669981\n"
     ]
    }
   ],
   "source": [
    "output_lower = output.lower()\n",
    "\n",
    "def remove_dot(text):\n",
    "    return text[:-1] if text.endswith('.') else text\n",
    "\n",
    "for i in range(len(key_topics)):\n",
    "    current_topic = key_topics[i]\n",
    "    \n",
    "    current_topic = remove_dot(current_topic)\n",
    "    current_topic_lower = current_topic.lower()\n",
    "\n",
    "    print(\"===========================================\")\n",
    "    current_topic = current_topic_lower.replace(\"'\", '\"')\n",
    "    \n",
    "    print(f\"Current Topic: {current_topic}\")\n",
    "\n",
    "    if i < len(key_topics) - 1:\n",
    "        next_topic = key_topics[i + 1]\n",
    "        next_topic = remove_dot(next_topic)\n",
    "        next_topic_lower = next_topic.lower()\n",
    "        \n",
    "        next_topic = next_topic_lower.replace(\"'\", '\"')\n",
    "        print(f\"Next Topic: {next_topic}\")\n",
    "\n",
    "        start = output_lower.find(current_topic)\n",
    "        end = output_lower.find(next_topic)\n",
    "\n",
    "        if start == -1:\n",
    "            start = end - 1000\n",
    "        elif end == -1:\n",
    "            end = start + 1000\n",
    "        elif start == -1 and end == -1:\n",
    "            break\n",
    "            \n",
    "        print(f\"String index of current topic: {start}\")\n",
    "        print(f\"String index of next topic: {end}\")\n",
    "\n",
    "        substring = output_lower[start:end]\n",
    "    else:\n",
    "        # For the last topic, take everything from the current topic to the end\n",
    "        start = output_lower.find(current_topic)\n",
    "        end = len(output_lower)  # Go to the end of the string\n",
    "        substring = output_lower[start:end]\n",
    "\n",
    "    print(\"\\n\")\n",
    "    print(substring)\n"
   ]
  },
  {
   "cell_type": "code",
   "execution_count": 242,
   "metadata": {},
   "outputs": [
    {
     "data": {
      "text/plain": [
       "'laws laws law no. (1) of 2021 concerning the amendment of some provisions of law no. (5) of 1996 concerning al ain farms for livestock production  we, khalifa bin zayed al nahyan, ruler of abu dhabi having reviewed: • law no. (1) of 1974 concerning the reorganisation of the governmental body in the emirate of abu dhabi and its amendments; • law no. (2) of 1971 concerning the national advisory council, and its amendments; • law no. (5) of 1996 concerning al ain farms for livestock production, and its amendments; • law no. (10) of 1999 concerning the establishment of abu dhabi fund for development, and its amendments; and • based on what was presented to and approved by the executive council; issued the following law: article (1) article (2) of aforementioned law no. (5) of 1996 shall be replaced by the following provisions: “the capital of the farms is set at (aed 510,204,000), divided into (5,102,040) shares and the value of each share is (aed 100). the ownership of the shares of the capital of the farms shall be distributed as follows: 1. (611,375) shares to abu dhabi fund for development 2. (1,363,622) shares distributed as grants to the beneficiaries of social welfare services in the emirate of abu dhabi; (179) shares per case. 3. (525,002) shares for their highnesses, heirs of the late sheikh zayed bin sultan al nahyan. 4. (2,602,041) shares for was commercial investment company (llc), equal to aed (260,204,100) of the capital of the farms, provided that said amount is paid to the farms by virtue of an agreement between the company and the board of directors of the farms”. article 2 any provision contrary to the provisions of this law shall be repealed. article 3 this law shall be published in the official gazette and become effective from the date of its issuance. issued by us in abu dhabi on: 13 january 2021 corresponding to: 29 jumada al owla 1442 hijrikhalifa bin zayed al nahyan ruler of abu dhabi decrees decrees amiri decree no. (2) of 2021 concerning the appointment of a judge and two members of the public prosecution at the judicial department- abu dhabi we, khalifa bin zayed al nahyan, ruler of abu dhabi having reviewed: • law no. (1) of 1974 concerning the reorganisation of the governmental body in the emirate of abu dhabi and its amendments; • law no. (23) of 2006 concerning the judicial department in the emirate of abu dhabi, and its amendments; • the recommendation of the judicial council; and • based on what was presented by the chairman of the judicial department; issued the following decree: article (1) the following name shall be appointed as a judge at the judicial department- abu dhabi, at the position and grade corresponding thereto: no. name nationality position grade 1.dalal fahad omar al-jawhari uae judge of first instance court (a)fifth article (2) the following names shall be appointed as members of the public prosecution at the judicial department- abu dhabi, at the position and grade prescribed thereto: no. name nationality position grade 1.suheib khalifa mubarak al-breiki uae first deputy prosecutorfifth 2.latifa rashid abdullah ali al-kaabi uae public prosecutor sixth khalifa bin zayed al nahyan ruler of abu dhabi issued by us in abu dhabi on: 13 january 2021 corresponding to: 29 jumada al owla 1442 hijriarticle (3) this decree shall become effective from the date of its issuance and published in the official gazette.  crown prince chairman of the executive council resolutions crown prince chairman of the executive council resolutions chairman of the executive council resolution no. (1) of 2021 concerning the appointment of the director-general of the statistics centre -abu dhabi we, mohamed bin zayed al nahyan, crown prince, chairman of the executive council, having reviewed: • law no. (1) of 1974 concerning the reorganisation of the governmental body in the emirate of abu dhabi and its amendments; • law no. (7) of 2008 concerning statistics centre- abu dhabi, and its amendments; • law no. (6) of 2016 concerning the human resources in the emirate of abu dhabi, and its amendments; and • based on what was presented to and approved by the executive council; issued the following resolution: article (1) his excellency ahmed mahmoud mohammed abdullah fekri shall be appointed as director-general of the statistics centre – abu dhabi. article (2) this resolution shall become effective from the date of its issuance and published in the official gazette. mohamed bin zayed al nahyan crown prince chairman of the executive council issued by us in abu dhabi on: 13 january 2021 corresponding to: 29 jumada al-awwal 1442 hijri chairman of the executive council resolution no. (2) of 2021 concerning the reformation of the board of directors of etihad airways group we, mohamed bin zayed al nahyan, crown prince, chairman of the executive council, having reviewed: • law no. (1) of 1974 concerning the reorganisation of the governmental body in the emirate of abu dhabi and its amendments; • law no. (6) of 2014 concerning the establishment of etihad airways group, “public joint stock company”; • chairman of the executive council resolution no. (25) of 2016 concerning the formation of the board of directors of etihad airways group; and • based on what was presented to and approved by the executive council; issued the following resolution: article (1) the board of directors of etihad airways group shall be reformed under the chairmanship of his excellency mohammed mubarak bin fadhel al mazrouie, and the membership of their excellencies: 1. mohammed ali mohammed al shorafa al hammadi, vice-chairman 2. hisham khaled tawfiq abdul khalek malak 3. jassim hussein ahmed thabet 4. masood mohammed mohamed sharif mahmood 5. mansour mohammed abdul qadir al mulla 6. jacob barind kalkman article (2) the term of membership of the board shall be three renewable years. article 3 this resolution shall become effective from the date of its issuance and published in the official gazette. mohamed bin zayed al nahyan crown prince chairman of the executive council issued by us in abu dhabi on: 13 january 2021 corresponding to: 29 jumada al-awwal 1442 hijri  executive council resolutions executive council resolutions executive council resolution no. (4) of 2021 concerning concerning the reformation of the board of directors of al ain farms for livestock production pursuant to law no. (5) of 1996 concerning al ain farms for livestock production, and its amendments, and pursuant to article (4) thereof stipulating that the board of directors shall be appointed by an executive council resolution; the executive council has decided the following: the board of directors of al ain farms for livestock production shall be reformed under the chairmanship of mubarak matar al humairi, and the membership of the following members: 1. adel abdullah al hosani, vice-chairman 2. shabib hamad sultan al darmaki 3. mohammed hassan abdullah al-hamidi 4. sultan saeed saleh al-jaberi 5. elham abdulghafoor mohamed al-qasim 6. mohammed loey abdel fattah • the term of membership of the board shall be five renewable years • this resolution shall become effective from the date of its issuance and published in the official gazette. issuance date: 14 january 2021 corresponding to: 01 jumada al akher 1442 hijridr. mohammed rashid al hamli secretary-general executive council resolution no. (9) of 2021 concerning concerning the exempt of the nationals and children of female nationals from the fees of the tourist guide training and licensing programme the executive council has decided the following: 1. approve the exemption of the nationals and children of female nationals from the governmental fees imposed on the “tourist guide licensing” and the tourism training programme “hayyak” mentioned in the attachment. 2. instruct the department of tourism and culture to bear all costs of the training sessions of the programmes stipulated in clause 1 within the approved budget thereof. 3. instruct the department of finance to take the necessary measures according to the applicable regulations. issuance date: 31 january 2021 corresponding to: 18 jumada al akher 1442 hijridr. mohammed rashid al hamli secretary-general circulars circulars circular no. (1) of 2021 concerning the disability classification manual of the emirate of abu dhabi to all governmental entities and companies in the emirate of abu dhabi, peace and allah’s mercy and blessings be upon you, we are pleased to greet you and express our sincere gratitude for your continuous cooperation to realise public interest. based on the keenness of the government of abu dhabi to ensure access of the people of determination to their rights stipulated in the legislations in force, and based on the approval of the executive committee, we urge you to commit to the following: • act in accordance with the disability classification manual of the emirate of abu dhabi attached to the present circular. • circular no. (10) of 2018 concerning the disability classification manual of the emirate of abu dhabi shall be repealed. we value your efforts and thank you for your cooperation for your necessary action may allah guide youdate: 28/01/2021 dr. mohammed rashid al hamli secretary-general for further enquiry, please contact the department of services for people of determination at zayed higher organisation for people of determination, on phone number: (023056106) or by email: pds.department@zho.gov.ae united arab emirates the emirate of abu dhabi issued by the gereral secretariat of the executive council of the emirate of abu dhabi office of legal affairs abu dhabi - p.o. box: 19 tel: +971 26688446 fax: +971 26669981'"
      ]
     },
     "execution_count": 242,
     "metadata": {},
     "output_type": "execute_result"
    }
   ],
   "source": [
    "output_lower"
   ]
  },
  {
   "cell_type": "code",
   "execution_count": null,
   "metadata": {},
   "outputs": [],
   "source": [
    "text = \"law no. (1) of 2021 concerning the amendment of some provisions of law no. (5) of 1996 concerning al ain farms for livestock production.\"\n",
    "\n",
    "if text.endswith('.'):\n",
    "    text = text[i][:-1]\n",
    "else:\n",
    "    current_topic = key_topics[i]"
   ]
  },
  {
   "cell_type": "code",
   "execution_count": null,
   "metadata": {},
   "outputs": [],
   "source": [
    "output_lower = output.lower()\n",
    "\n",
    "def remove_dot(text):\n",
    "    if text.endswith('.'):\n",
    "        text = text[:-1]\n",
    "    else:\n",
    "        text = text\n",
    "    return text\n",
    "\n",
    "for i in range(len(key_topics) - 1):  # Loop up to the second-to-last element\n",
    "\n",
    "    current_topic = remove_dot(current_topic)\n",
    "    next_topic = remove_dot(next_topic)\n",
    "\n",
    "    current_topic_lower = current_topic.lower()\n",
    "    next_topic_lower = next_topic.lower()\n",
    "\n",
    "    print(\"===========================================\")\n",
    "\n",
    "    current_topic = current_topic_lower.replace(\"'\", '\"')\n",
    "    next_topic = next_topic_lower.replace(\"'\", '\"')\n",
    "    \n",
    "    print(f\"Current Topic: {current_topic}\")\n",
    "    print(f\"Next Topic: {next_topic}\")\n",
    "\n",
    "    start = output_lower.find(current_topic)\n",
    "    end = output_lower.find(next_topic)\n",
    "    print(f\"String index of current topic: {start}\")\n",
    "    print(f\"String index of next topic: {end}\")\n",
    "\n",
    "    substring = output_lower[start:end]\n",
    "    print(\"\\n\")\n",
    "    print(substring)"
   ]
  }
 ],
 "metadata": {
  "kernelspec": {
   "display_name": "LegalDocRAG",
   "language": "python",
   "name": "python3"
  },
  "language_info": {
   "codemirror_mode": {
    "name": "ipython",
    "version": 3
   },
   "file_extension": ".py",
   "mimetype": "text/x-python",
   "name": "python",
   "nbconvert_exporter": "python",
   "pygments_lexer": "ipython3",
   "version": "3.11.10"
  }
 },
 "nbformat": 4,
 "nbformat_minor": 2
}
