{
 "cells": [
  {
   "cell_type": "code",
   "execution_count": 26,
   "metadata": {},
   "outputs": [],
   "source": [
    "import warnings\n",
    "from typing import List, Optional, Dict\n",
    "from langchain_core.pydantic_v1 import BaseModel, Field\n",
    "\n",
    "from langchain_groq import ChatGroq\n",
    "from elasticsearch import Elasticsearch\n",
    "from sentence_transformers import SentenceTransformer\n",
    "\n",
    "from langgraph.graph import END, StateGraph\n",
    "from langchain.prompts import PromptTemplate\n",
    "from langchain_core.output_parsers import StrOutputParser\n",
    "\n",
    "warnings.filterwarnings(\"ignore\", category=FutureWarning)"
   ]
  },
  {
   "cell_type": "markdown",
   "metadata": {},
   "source": [
    "`1. Initializing Elastic search client, LLM model connection and Embedding model`"
   ]
  },
  {
   "cell_type": "code",
   "execution_count": 27,
   "metadata": {},
   "outputs": [
    {
     "name": "stdout",
     "output_type": "stream",
     "text": [
      "Elastic Search Connection successful: True\n",
      "LLM Model loaded\n"
     ]
    },
    {
     "name": "stderr",
     "output_type": "stream",
     "text": [
      "<All keys matched successfully>\n"
     ]
    },
    {
     "name": "stdout",
     "output_type": "stream",
     "text": [
      "Embedding Model loaded\n"
     ]
    }
   ],
   "source": [
    "es_client = Elasticsearch(\n",
    "    hosts=\"https://512baa73334c4127ade77bc2dfa2ef02.eastus2.azure.elastic-cloud.com:443\",\n",
    "    basic_auth=(\"elastic\", \"XRzYOABuG17Yv32UKAFySw41\")\n",
    ")\n",
    "\n",
    "print(f\"Elastic Search Connection successful: {es_client.ping()}\")\n",
    "\n",
    "llm = ChatGroq(\n",
    "    temperature=0,\n",
    "    model_name=\"llama-3.1-8b-instant\",\n",
    "    # api_key=\"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\",\n",
    "    api_key=\"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\"\n",
    ")\n",
    "\n",
    "print(\"LLM Model loaded\")\n",
    "\n",
    "model_name = \"nomic-ai/nomic-embed-text-v1\"\n",
    "model = SentenceTransformer(model_name, trust_remote_code=True)\n",
    "\n",
    "print(\"Embedding Model loaded\")\n",
    "\n",
    "def embedding_creation(input_texts, model):\n",
    "    embedding = model.encode(input_texts)\n",
    "    return embedding.tolist()"
   ]
  },
  {
   "cell_type": "markdown",
   "metadata": {},
   "source": [
    "`2. RAG`"
   ]
  },
  {
   "cell_type": "markdown",
   "metadata": {},
   "source": [
    "`2.1 Multi Query Generation`"
   ]
  },
  {
   "cell_type": "code",
   "execution_count": 28,
   "metadata": {},
   "outputs": [],
   "source": [
    "query = \"List of Board of Trustees of Mohamed bin Zayed University?\""
   ]
  },
  {
   "cell_type": "code",
   "execution_count": 29,
   "metadata": {},
   "outputs": [],
   "source": [
    "class MultiQuerySchema(BaseModel):\n",
    "    Questions: List[str] = Field(description=\"List of questions\")\n",
    "\n",
    "\n",
    "MULTI_QUERY_PROMPT = PromptTemplate(\n",
    "    template=\"\"\"\n",
    "    <|begin_of_text|>\n",
    "    <|start_header_id|>system<|end_header_id|>  \n",
    "    You are an AI, specialized in generating effective multi-queries for Retrieval Augmented Generation (RAG) systems.\n",
    "\n",
    "    Guidelines:\n",
    "    1. Analyze the user's original query and generate a set of five distinct yet relevant search queries that cover:\n",
    "        - Synonyms and similar terms\n",
    "        - Related subtopics or specific aspects\n",
    "        - Broader and narrower variations of the original query\n",
    "    2. Aim to create queries that will increase the chances of retrieving diverse, relevant results by considering different interpretations and possible user intents.\n",
    "    3. Provide JSON response, with list of questions like {{ \"Questions\": [\"Question 1\", \"Question 2\", ..] }}\n",
    "    4. Provide only the list of queries without any additional explanations or commentary.\n",
    "\n",
    "    User Query: \"{user_query}\"\n",
    "    <|eot_id|>\n",
    "    <|start_header_id|>assistant<|end_header_id|>\n",
    "    \"\"\",\n",
    "    input_variables=[\"user_query\"],\n",
    ")\n",
    "\n",
    "structured_llm = llm.with_structured_output(MultiQuerySchema, method=\"json_mode\")\n",
    "\n",
    "multi_query_generation = MULTI_QUERY_PROMPT | structured_llm"
   ]
  },
  {
   "cell_type": "code",
   "execution_count": 30,
   "metadata": {},
   "outputs": [
    {
     "data": {
      "text/plain": [
       "['Mohamed bin Zayed University Board of Directors',\n",
       " 'Members of the Board of Trustees of Mohamed bin Zayed University',\n",
       " 'List of Trustees of Mohamed bin Zayed University Abu Dhabi',\n",
       " 'Mohamed bin Zayed University governing body members',\n",
       " 'Who are the members of the Board of Trustees of Mohamed bin Zayed University?']"
      ]
     },
     "execution_count": 30,
     "metadata": {},
     "output_type": "execute_result"
    }
   ],
   "source": [
    "multi_query_response = multi_query_generation.invoke({\"user_query\": query})\n",
    "multi_query_response.Questions"
   ]
  },
  {
   "cell_type": "markdown",
   "metadata": {},
   "source": [
    "`2.2 Agent: Enriching Queries with Synonyms`"
   ]
  },
  {
   "cell_type": "code",
   "execution_count": 31,
   "metadata": {},
   "outputs": [],
   "source": [
    "# 1. Query Enriching Agent\n",
    "\n",
    "QUERY_ENRICHING_PROMPT = PromptTemplate(\n",
    "    template=\"\"\"\n",
    "    <|begin_of_text|>\n",
    "    <|start_header_id|>system<|end_header_id|>  \n",
    "    You are an AI assistant specialized in generating Elasticsearch query strings. \n",
    "    Your task is to create the most effective query string for the given list of user questions. \n",
    "    This query string will be used to search for relevant documents in an Elasticsearch index.\n",
    "\n",
    "    Guidelines:\n",
    "    1. Analyze the user's question carefully.\n",
    "    2. Generate ONLY a query string suitable for Elasticsearch's match query.\n",
    "    3. Focus on key terms and concepts from the question.\n",
    "    4. Include synonyms or related terms that might be in relevant documents.\n",
    "    5. Use simple Elasticsearch query string syntax if helpful (e.g., OR, AND).\n",
    "    6. Do not use advanced Elasticsearch features or syntax.\n",
    "    7. Do not include any explanations, comments, or additional text.\n",
    "    8. Provide only the query string, nothing else.\n",
    "    9. Do not repeat the query string i.e., there must not be any duplicates in response\n",
    "\n",
    "    For the question \"What is Clickthrough Data?\", we would expect a response like:\n",
    "    clickthrough data OR click-through data OR click through rate OR CTR OR user clicks OR ad clicks OR search engine results OR web analytics\n",
    "\n",
    "    AND operator is not allowed. Use only OR.\n",
    "\n",
    "    List of user Questions: {user_query}\n",
    "    <|eot_id|>\n",
    "    <|start_header_id|>assistant<|end_header_id|>\n",
    "    \"\"\",\n",
    "    input_variables=[\"user_query\"],\n",
    ")\n",
    "\n",
    "query_enricher = QUERY_ENRICHING_PROMPT | llm | StrOutputParser()"
   ]
  },
  {
   "cell_type": "code",
   "execution_count": 32,
   "metadata": {},
   "outputs": [
    {
     "name": "stdout",
     "output_type": "stream",
     "text": [
      "Enriched Query: mohamed bin zayed university OR mohamed bin zayed OR mohamed bin OR zayed university OR university board of directors OR board of directors OR board of trustees OR members of the board of trustees OR governing body OR governing body members OR mohamed bin zayed university abu dhabi OR abu dhabi\n",
      "Enriched Parsed Query: ['mohamed bin zayed university', 'mohamed bin zayed', 'mohamed bin', 'zayed university', 'university board of directors', 'board of directors', 'board of trustees', 'members of the board of trustees', 'governing body', 'governing body members', 'mohamed bin zayed university abu dhabi', 'abu dhabi']\n"
     ]
    }
   ],
   "source": [
    "# def parse_or_query(query_text: str) -> List[str]:\n",
    "#     terms = query_text.split(\" OR \")\n",
    "#     query = {\n",
    "#         \"query\": {\n",
    "#             \"bool\": {\n",
    "#                 \"should\": [ {\"match\": {\"content\": term.strip()}} for term in terms]\n",
    "#             }\n",
    "#         }\n",
    "#     }\n",
    "#     return query\n",
    "\n",
    "def parse_or_query(query_text: str) -> List[str]:\n",
    "    return [term.strip() for term in query_text.split(' OR ')]\n",
    "\n",
    "unique_enriched_keys = set()\n",
    "\n",
    "enriched_query = query_enricher.invoke({\"user_query\": multi_query_response.Questions})\n",
    "print(f\"Enriched Query: {enriched_query}\")\n",
    "\n",
    "enriche_parsed_query = parse_or_query(enriched_query)\n",
    "print(f\"Enriched Parsed Query: {enriche_parsed_query}\")\n",
    "\n",
    "# for query in multi_query_response.Questions:\n",
    "#     enriched_query = query_enricher.invoke({\"user_query\": query})\n",
    "#     print(f\"Enriched Query: {enriched_query}\")\n",
    "\n",
    "#     enriche_parsed_query = parse_or_query(enriched_query)\n",
    "#     print(f\"Enriched Parsed Query: {enriche_parsed_query}\")\n",
    "\n",
    "#     unique_enriched_keys.update(enriche_parsed_query)"
   ]
  },
  {
   "cell_type": "markdown",
   "metadata": {},
   "source": [
    "`2.3 Tool: Hybrid Search`"
   ]
  },
  {
   "cell_type": "code",
   "execution_count": 33,
   "metadata": {},
   "outputs": [],
   "source": [
    "def hybrid_vector_search(\n",
    "        conn,\n",
    "        index_name: str, \n",
    "        query_keys: str, \n",
    "        query_vector: List[float], \n",
    "        text_fields: List[str], \n",
    "        vector_field: str, \n",
    "        num_candidates: int = 100, \n",
    "        num_results: int = 10,\n",
    "    ) -> Dict:\n",
    "\n",
    "\n",
    "    search_body = {\n",
    "            \"knn\": {\n",
    "                \"field\": vector_field,\n",
    "                \"query_vector\": query_vector,\n",
    "                \"k\": num_candidates,\n",
    "                \"num_candidates\": num_candidates\n",
    "            },\n",
    "            \"query\": {\n",
    "                \"bool\": {\n",
    "                    \"must\": [\n",
    "                        {\n",
    "                            \"multi_match\": {\n",
    "                                \"query\": \" \".join(query_keys),  \n",
    "                                \"fields\": text_fields,\n",
    "                                \"type\": \"best_fields\",\n",
    "                                \"operator\": \"or\" \n",
    "                            }\n",
    "                        }\n",
    "                    ],\n",
    "                    \"should\": [\n",
    "                        {\n",
    "                            \"script_score\": {\n",
    "                                \"query\": {\"match_all\": {}},\n",
    "                                \"script\": {\n",
    "                                    \"source\": \"\"\"\n",
    "                                    double vector_score = cosineSimilarity(params.query_vector, params.vector_field) + 1.0;\n",
    "                                    double text_score = _score;\n",
    "                                    return 0.7 * vector_score + 0.3 * text_score;\n",
    "                                    \"\"\",\n",
    "                                    \"params\": {\n",
    "                                        \"query_vector\": query_vector,  \n",
    "                                        \"vector_field\": vector_field\n",
    "                                    }\n",
    "                                }\n",
    "                            }\n",
    "                        }\n",
    "                    ]\n",
    "                }\n",
    "            }\n",
    "        }\n",
    "\n",
    "    response = conn.search(index=index_name, body=search_body, size=num_results)\n",
    "\n",
    "    return response, search_body\n"
   ]
  },
  {
   "cell_type": "code",
   "execution_count": 34,
   "metadata": {},
   "outputs": [
    {
     "name": "stderr",
     "output_type": "stream",
     "text": [
      "C:\\Users\\tshar\\AppData\\Local\\Temp\\ipykernel_27148\\2427214058.py:54: DeprecationWarning: Received 'size' via a specific parameter in the presence of a 'body' parameter, which is deprecated and will be removed in a future version. Instead, use only 'body' or only specific parameters.\n",
      "  response = conn.search(index=index_name, body=search_body, size=num_results)\n"
     ]
    },
    {
     "data": {
      "text/plain": [
       "[{'score': 100.12006,\n",
       "  'heading': 'executive council resolution no. (11) of 2023 concerning the reformation of the board of trustees of mohamed bin zayed university for humanities',\n",
       "  'content': 'executive council resolution no. (11) of 2023 concerning the reformation of the board of trustees of mohamed bin zayed university for humanities having reviewed chairman of the executive council resolution no. (27) of 2020 concerning the formation of the board of trustees of mohamed bin zayed university for humanities. the executive council has decided the following: 1. the board of trustees of mohamed bin zayed university for humanities shall be reformed under the chairmanship of h.e. dr. mohammed rashid ahmed al hamli, and the membership of: • mubarak hamad mubarak al muhairi - vice chairman • mohammed hamza hassan al qassim. • maryam eid khamis al muhairi • abdullah aqueeda ali al muhairi • dr. omar habtoor theeb al-derei. • ghanem sultan ahmed al suwaidi. 2. the membership term of the board shall be three renewable years. 3. this resolution shall be effective from the date of its issuance and published in the official gazette. saif saeed ghobash secretary-general issued on: 13 february 2023 corresponding to: 22 rajab 1444 hijri ',\n",
       "  'reference': ['Chairman of the Executive Council Resolution No. (27) of 2020 concerning the Formation of the Board of Trustees of Mohamed Bin Zayed University for Humanities',\n",
       "   'Executive Council Resolution No. (11) of 2023 concerning the Reformation of the Board of Trustees of Mohamed Bin Zayed University for Humanities']},\n",
       " {'score': 60.466747,\n",
       "  'heading': 'executive council resolution no. (205) of 2021 concerning the replacement of a member of the board of trustees of mohamed bin zayed university for artificial intelligence',\n",
       "  'content': 'executive council resolution no. (205) of 2021 concerning the replacement of a member of the board of trustees of mohamed bin zayed university for artificial intelligence  pursuant to the chairman of the executive council resolution no. (41) of 2019 concerning the formation of the board of trustees of mohamed bin zayed university for artificial intelligence; the executive council has decided the following: h.e. mansour ibrahim al-mansouri shall replace dr. andrew yao as a member of the board of trustees of mohamed bin zayed university for artificial intelligence. saif saeed ghobash secretary-general issuance date: 8 december 2021 corresponding to: 3 jumada al-awwal 1443 hijri ',\n",
       "  'reference': ['law no. (1) of 1974']},\n",
       " {'score': 54.592926,\n",
       "  'heading': 'executive council resolution no. (15) of 2023 concerning the appointment of the director of mohamed bin zayed university for humanities',\n",
       "  'content': ' the executive council has decided the following: his excellency dr. khalifa mubarak ali al dhaheri shall be appointed as the director of mohamed bin zayed university for humanities. issued on: 15 february 2023 corresponding to: 24 rajab 1444 hijrisaif saeed ghobash secretary-general united arab emirates the emirate of abu dhabi issued by the gereral secretariat of the executive council of the emirate of abu dhabi office of legal affairs abu dhabi - p.o. box: 19 tel: +971 26688446 fax: +971 26669981',\n",
       "  'reference': []}]"
      ]
     },
     "execution_count": 34,
     "metadata": {},
     "output_type": "execute_result"
    }
   ],
   "source": [
    "query_vector = embedding_creation(query, model)\n",
    "response, search_body = hybrid_vector_search(\n",
    "        es_client,\n",
    "        index_name=\"abudhabi-policies-legislations-v4\", \n",
    "        query_keys= enriche_parsed_query,\n",
    "        query_vector=query_vector, \n",
    "        text_fields=[\"content\", \"heading\", \"questions\", \"reference\"], \n",
    "        vector_field=\"embedded_content\", \n",
    "        num_candidates = 25, \n",
    "        num_results = 3\n",
    "    )\n",
    "\n",
    "result = []\n",
    "all_content = \"\"\n",
    "for j in response['hits']['hits']:\n",
    "    content = j[\"_source\"]\n",
    "    _result = {}\n",
    "    _result[\"score\"] = j[\"_score\"]\n",
    "    _result[\"heading\"] = content['heading']\n",
    "    _result[\"content\"] = content['content']\n",
    "    all_content = all_content + '\\n' + content['content']\n",
    "    _result[\"reference\"] = content['reference']\n",
    "\n",
    "    result.append(_result)\n",
    "\n",
    "result"
   ]
  },
  {
   "cell_type": "markdown",
   "metadata": {},
   "source": [
    "`2.4 Agent: Extracting Reference Document details`"
   ]
  },
  {
   "cell_type": "code",
   "execution_count": 35,
   "metadata": {},
   "outputs": [],
   "source": [
    "def reference_search(conn, index_name, reference_index):\n",
    "    search_body = {\n",
    "        \"size\": 1,\n",
    "        \"query\": {\n",
    "            \"bool\": {\n",
    "                \"must\": [\n",
    "                    {\n",
    "                    \"match\": {\"heading\": reference_index}\n",
    "                    }\n",
    "                ]\n",
    "            }\n",
    "        }\n",
    "    }\n",
    "    response = conn.search(index=index_name, body=search_body)\n",
    "\n",
    "    return response\n",
    "    \n",
    "\n",
    "ref_doc = list()\n",
    "for doc in result:\n",
    "    for reference_index in doc[\"reference\"]:\n",
    "        response = reference_search(es_client, \"abudhabi-policies-legislations-v4\", reference_index)\n",
    "        result = []\n",
    "        for j in response['hits']['hits']:\n",
    "            content = j[\"_source\"]\n",
    "            _result = {}\n",
    "            _result[\"score\"] = j[\"_score\"]\n",
    "            _result[\"heading\"] = content['heading']\n",
    "            _result[\"content\"] = content['content']\n",
    "            _result[\"reference\"] = content['reference']\n",
    "\n",
    "            ref_doc.append(_result)"
   ]
  },
  {
   "cell_type": "code",
   "execution_count": 36,
   "metadata": {},
   "outputs": [
    {
     "data": {
      "text/plain": [
       "[{'score': 24.451162,\n",
       "  'heading': 'executive council resolution no. (11) of 2023 concerning the reformation of the board of trustees of mohamed bin zayed university for humanities',\n",
       "  'content': 'executive council resolution no. (11) of 2023 concerning the reformation of the board of trustees of mohamed bin zayed university for humanities having reviewed chairman of the executive council resolution no. (27) of 2020 concerning the formation of the board of trustees of mohamed bin zayed university for humanities. the executive council has decided the following: 1. the board of trustees of mohamed bin zayed university for humanities shall be reformed under the chairmanship of h.e. dr. mohammed rashid ahmed al hamli, and the membership of: • mubarak hamad mubarak al muhairi - vice chairman • mohammed hamza hassan al qassim. • maryam eid khamis al muhairi • abdullah aqueeda ali al muhairi • dr. omar habtoor theeb al-derei. • ghanem sultan ahmed al suwaidi. 2. the membership term of the board shall be three renewable years. 3. this resolution shall be effective from the date of its issuance and published in the official gazette. saif saeed ghobash secretary-general issued on: 13 february 2023 corresponding to: 22 rajab 1444 hijri ',\n",
       "  'reference': ['Chairman of the Executive Council Resolution No. (27) of 2020 concerning the Formation of the Board of Trustees of Mohamed Bin Zayed University for Humanities',\n",
       "   'Executive Council Resolution No. (11) of 2023 concerning the Reformation of the Board of Trustees of Mohamed Bin Zayed University for Humanities']},\n",
       " {'score': 30.763432,\n",
       "  'heading': 'executive council resolution no. (11) of 2023 concerning the reformation of the board of trustees of mohamed bin zayed university for humanities',\n",
       "  'content': 'executive council resolution no. (11) of 2023 concerning the reformation of the board of trustees of mohamed bin zayed university for humanities having reviewed chairman of the executive council resolution no. (27) of 2020 concerning the formation of the board of trustees of mohamed bin zayed university for humanities. the executive council has decided the following: 1. the board of trustees of mohamed bin zayed university for humanities shall be reformed under the chairmanship of h.e. dr. mohammed rashid ahmed al hamli, and the membership of: • mubarak hamad mubarak al muhairi - vice chairman • mohammed hamza hassan al qassim. • maryam eid khamis al muhairi • abdullah aqueeda ali al muhairi • dr. omar habtoor theeb al-derei. • ghanem sultan ahmed al suwaidi. 2. the membership term of the board shall be three renewable years. 3. this resolution shall be effective from the date of its issuance and published in the official gazette. saif saeed ghobash secretary-general issued on: 13 february 2023 corresponding to: 22 rajab 1444 hijri ',\n",
       "  'reference': ['Chairman of the Executive Council Resolution No. (27) of 2020 concerning the Formation of the Board of Trustees of Mohamed Bin Zayed University for Humanities',\n",
       "   'Executive Council Resolution No. (11) of 2023 concerning the Reformation of the Board of Trustees of Mohamed Bin Zayed University for Humanities']},\n",
       " {'score': 5.853262,\n",
       "  'heading': 'law no. (1) of 2022 concerning the amendment of some provisions of law no. (1) of 2017 concerning the financial system of abu dhabi government',\n",
       "  'content': \" we, khalifa bin zayed al nahyan, ruler of abu dhabi having reviewed: • law no. (1) of 1974 concerning the reorganisation of the governmental body in the emirate of abu dhabi and its amendments; • law no. (2) of 1971 concerning the national advisory council, and its amendments; • law no. (2) of 2000 concerning the civil retirement pensions and benefits in the emirate of abu dhabi, and its amendments; • law no. (1) of 2017 concerning the financial system of abu dhabi government; • law no. (27) of 2019 concerning the department of finance; • law no. (19) of 2020 concerning the re-organisation of abu dhabi accountability authority; • law no. (24) of 2020 concerning the supreme council for financial and economic affairs; and • based on what was presented to and approved by the executive council; issued the following law: article (1) • the definition of the ‘financial policy’ in article (1) of the aforesaid law no. (1) of 2017 shall be replaced by the following definition: ‘financial policy: the rules and provisions set by the supreme council for the regulation of the establishment, operation and management of the government company.’ • the following definition shall be added to the definitions mentioned in article (1) of the aforesaid law no. (1) of 2017: ‘supreme council: the supreme council for financial and economic affairs established pursuant to the aforesaid law no. (24) of 2020.’ article (2) the following articles no. (3/ clause 4), (4), (5/ clauses 1, 6, 9), (6), (7), (8/ clause 9), (11/ clauses 2, 3), (12/ clauses 2, 5, 6), (13), (14/ clause 4), (15), (16/ clauses 2 and 3/b), (18), (19 / clause 3/c), (23/ clause 1), (27/clause 7), (31/clause 2), (33), (35/clause 1/f), (35/clause 2), (36/clause 3), (43) and (53) of the aforesaid law no. 1 of 2017, shall be replaced by the following texts: article (3) 4. managing the financial risks faced by the emirate. article (4) the department • the department shall be affiliated to the ruler. its main office shall be in abu dhabi city and a resolution may be issued by the ruler to establish branches thereof based on the recommendation of the chairman of the department. • the expression (executive council) or (chairman of the executive council) shall be replaced by the word (ruler), wherever either of them appears in any other legislation, with regard to any approvals, appropriations or resolutions related to the department, including executive, administrative, financial, human resources, retirement, contracts and procurement of the department. article (5) 1. preparing the organisational structure of the department and overseeing the preparation of the draft annual budget thereof and submitting them for approval by the ruler. 6. submitting an annual report on the department's operations to the ruler. 9. any other tasks assigned by the ruler. article (6) full-time role of the chairman of the department the chairman of the department shall not combine his job with any other private job without the approval of the ruler and shall be prohibited from engaging in any financial, commercial or professional works that conflict with his work duties or impair his appearance and credibility. article (7) competencies of the department the department shall be in charge for the preparation and implementation of an integrated financial system that is efficient, effective and economic in accordance with the provisions of this law by assuming the following competencies: 1. preparing the financial policy of the emirate and submitting it to the supreme council for approval. 2. preparing the public budget and specifying the types of government expenditures and revenues and the categories included within each type, and taking the necessary measures to get it approved according to the provisions of this law. 3. following up on the implementation of the public budget and taking necessary actions to verify compliance therewith. 4. managing the treasury and organising the bank accounts of the government and the governmental entities. 5. organising the tax and non-tax government revenues. 6. organising and managing the public debt and government guarantees in accordance with the provisions of this law. 7. overseeing and managing the general reserve account in accordance with the provisions of this law. 8. preparing and issuing the ‘financial control system’ following the approval by the supreme council. 9. issuing the unified accounting policies, unified chart of accounts and general rules to regulate and close the accounts and accounting records in light of the approved accounting standards, and issuing the necessary instructions for this purpose. 10. issuing the instructions and forms of financial reports for the governmental entities, to be prepared pursuant to this law. 11. preparing and issuing the financial statements and other reports of the government in accordance with the provisions stated in this law. 12. issuing the government services pricing guide following the approval of the executive council and studying the pricing requests by the governmental entities. 13. determining and evaluating the governmental financial support and raising recommendations to the executive council. 14. determining and assessing the financial risks of the emirate and suggesting ways to address or reduce the same. 15. studying and evaluating the financial position of the troubled governmental companies and institutions and raising recommendations thereon to the supreme council. 16. lending on behalf of the government following the approval of the supreme council or executive council, as the case may be, and managing the same. 17. developing and updating the five-year and ten-year financing plans and budgets for the emirate. 18. collecting government debts and other debts owed to the emirate. 19. providing necessary guidance, support and training to the employees of the financial departments at the governmental entities, companies and institutions with regard to the implementation of this law and the regulations and resolutions issued pursuant thereto. 20. conducting studies related to taxes, fees and other resources in order to develop the same in a way that is in line with the interest of the emirate and raising recommendations thereon. 21. studying and suggesting appropriate financing means for major government projects. 22. studying the financial cases that give rise to rights or obligations for the emirate and that require filing of lawsuits before the courts and referring the same to the authority competent to file cases and defend such rights. 23. preparing and studying the agreements related to the avoidance of double taxation, taking into account the agreements entered into by the state. 24. any other competencies set forth in this law or any other legislation or entrusted to the department by the ruler or supreme council. article (8) 9. all other powers set forth in this law and any other powers issued by resolutions of the ruler or supreme council or any other legislation. article (11) 2. the governmental institutions and companies shall prepare their annual budgets in light of their ownership policy, provided that their budgets are approved by their boards of directors and a copy thereof is sent to the department, within a period not exceeding the end of december of every fiscal year. 3. the governmental institutions and companies and the subsidiaries may not increase the capital, borrow, provide debt guarantees or lend, except in accordance with the rules issued by the department and approved by the supreme council. article (12) 2. the department shall prepare the draft public budget after completion of the study and discussion of the draft budgets of the governmental entities, provided that it submits the same to the supreme council not later than the end of the eleventh month of every fiscal year. 5. except as otherwise decided by the supreme council, the validity period of the financial appropriation shall expire by the end of the fiscal year. 6. no type of revenues or expenditures shall be created without the approval of the supreme council or executive council, as the case may be. article (13) approval of the public budget 1. the public budget as well as the financial competencies related thereto shall be approved by a resolution of the supreme council. in case the public budget was not approved before the start of the fiscal year, the department shall be allowed to allocate financial appropriations to the governmental entities for disbursement according to the applicable rules of disbursement and within the limits of the value of financial appropriations granted to the entity during the elapsed fiscal year, provided that it issues the instructions required thereto. 2. the approved public budget shall be amended with the financial appropriations issued during the fiscal year pursuant to amiri decrees, or resolutions of the ruler, supreme council, crown prince of the emirate of abu dhabi or executive council, as per the affiliation of the entity requesting the approval. article (14) 4. the governmental entity shall not commit or disburse without a financial appropriation and shall not amend its financial appropriations except within the limits of the powers assigned thereto by the supreme council. article (15) expenses in emergency cases 1. the chairman of the department may agree to incur expenses to face emergency situations without the need for a financial appropriation and in accordance with the powers delegated to him by the ruler or the supreme council, provided that these expenses are included in the government’s financial statements for approval. 2. if during the implementation of the public budget of any year, exceptional circumstances arise, or a decrease appears in the collected public financial resources compared to the estimated financial resources for the same year, the chairman of the department may lay down the necessary measures and procedures to confront such exceptional circumstances or such decline, including the reduction of the public budget and restriction of spending for all or some of its items, provided that these measures and procedures are submitted to the ruler or the supreme council for approval. article (16) 2. no fees shall be imposed, modified or cancelled except by virtue of a law, amiri decree or a resolution of the supreme council or executive council. 3-b. entities decided by the supreme council or executive council to be exempt, in whole or in part, from the taxes and fees for charitable, humanitarian, educational, cultural, national or any other reasons. article (18) bank accounts 1. the chairman of the department may open bank accounts in the name of the emirate or the government and enter into agreements with banks to collect, pay and transfer funds inside or outside the emirate, pay and collect interests and any other banking transactions. 2. the chairman of the department may specify the conditions and restrictions to open and close bank accounts for the emirate and government as well as the governmental entities, institutions and companies. article (19) general reserve account 3- c. any other objectives suggested by the chairman of the department and approved by the supreme council. article (23) 1. the chairman of the department may, on behalf of the government, borrow money from any person or entity inside or outside the emirate for the benefit of the government or governmental entities following the approval of the supreme council. article (27) 7. any other cases specified by the supreme council. article (31) 2. the chairman of the department may provide government guarantees on behalf of the government following the approval of the supreme council. the beneficiaries of such government guarantees shall notify the department of the settlement of the debts related to these guarantees on a periodic basis. article (33) sovereign lending the chairman of the department may lend on behalf and in the name of the government after the approval of the supreme council or executive council, as the case may be, and may exercise any powers or rights related thereto in accordance with the powers granted to him. article (35) 1-f. any other financial reports suggested by the chairman of the department and approved by the supreme council. 2. the standards for the preparation of the government's financial statements shall be approved by a resolution of the supreme council, based on a recommendation from the chairman of the department and the chairman of abu dhabi accountability authority. the resolution shall specify the government sectors and activities to be used for the purpose of preparing the financial statements of the government. article (36) financial statements of the government 3. the chairman of the department shall submit the financial statements of the government along with the report of abu dhabi accountability authority to the supreme council and executive council within a period not exceeding 15 days from the date of issuance thereof. article (43) exemption from the amounts due to the government no exemption may be made for all or some of the amounts due to the government for any reason without the approval of the supreme council or executive council, as per the affiliation of the entity requesting the exemption, or whomever delegated thereby by any of them. article (53) issuance of the rules, regulations and resolutions the chairman of the department shall issue the necessary rules, regulations and resolutions for the implementation of the provisions of this law after the approval of the supreme council. article (3) • articles (30), (38) and (45) of the aforesaid law no. (1) of 2017 shall be repealed. • any provision contrary to the provisions of this law shall be repealed article (4) this law shall be effective from the date of its issuance and published in the official gazette. khalifa bin zayed al nahyan ruler of abu dhabi issued by us in abu dhabi on: 5 january 2022 corresponding to: 2 jumada al-akhar 1443 hijri united arab emirates the emirate of abu dhabi issued by the gereral secretariat of the executive council of the emirate of abu dhabi office of legal affairs abu dhabi - p.o. box: 19 tel: +971 26688446 fax: +971 26669981\",\n",
       "  'reference': ['Law No. (1) of 1974',\n",
       "   'Law No. (2) of 1971',\n",
       "   'Law No. (2) of 2000',\n",
       "   'Law No. (1) of 2017',\n",
       "   'Law No. (27) of 2019',\n",
       "   'Law No. (19) of 2020',\n",
       "   'Law No. (24) of 2020',\n",
       "   'Amiri Decree No. (13) of 2023']}]"
      ]
     },
     "execution_count": 36,
     "metadata": {},
     "output_type": "execute_result"
    }
   ],
   "source": [
    "ref_doc"
   ]
  },
  {
   "cell_type": "markdown",
   "metadata": {},
   "source": [
    "`2.5 Agent: Critic Agent`"
   ]
  },
  {
   "cell_type": "code",
   "execution_count": 37,
   "metadata": {},
   "outputs": [],
   "source": [
    "CRITIC_PROMPT = PromptTemplate(\n",
    "    template=\"\"\"\n",
    "    <|begin_of_text|>\n",
    "    <|start_header_id|>system<|end_header_id|>  \n",
    "    You are a critical evaluator tasked with assessing the relevance of retrieved documents to a user's query. For each document, determine if it contains any keywords related to the user's question.\n",
    "\n",
    "    Guidelines:\n",
    "    1. Analyze the user's question and identify key terms and concepts.\n",
    "    2. Consider synonyms and related terms that may appear in relevant documents.\n",
    "    3. Provide JSON response with following format: \n",
    "    {{\n",
    "      \"Document Title 1\": true/false,\n",
    "      \"Document Title 2\": true/false,\n",
    "      ...\n",
    "    }}\n",
    "    4. Do not include explanations or additional text.\n",
    "\n",
    "    Documents: {documents}\n",
    "    User Question: {question}\n",
    "\n",
    "    <|eot_id|>\n",
    "    <|start_header_id|>assistant<|end_header_id|>\n",
    "\n",
    "    <|eot_id|>\n",
    "    <|start_header_id|>assistant<|end_header_id|>\n",
    "    \"\"\",\n",
    "    input_variables=[\"question\", \"documents\"],  \n",
    ")\n",
    "\n",
    "relevency_checking = CRITIC_PROMPT | llm"
   ]
  },
  {
   "cell_type": "code",
   "execution_count": 39,
   "metadata": {},
   "outputs": [
    {
     "data": {
      "text/plain": [
       "{\" we, khalifa bin zayed al nahyan, ruler of abu dhabi having reviewed: • law no. (1) of 1974 concerning the reorganisation of the governmental body in the emirate of abu dhabi and its amendments; • law no. (2) of 1971 concerning the national advisory council, and its amendments; • law no. (2) of 2000 concerning the civil retirement pensions and benefits in the emirate of abu dhabi, and its amendments; • law no. (1) of 2017 concerning the financial system of abu dhabi government; • law no. (27) of 2019 concerning the department of finance; • law no. (19) of 2020 concerning the re-organisation of abu dhabi accountability authority; • law no. (24) of 2020 concerning the supreme council for financial and economic affairs; and • based on what was presented to and approved by the executive council; issued the following law: article (1) • the definition of the ‘financial policy’ in article (1) of the aforesaid law no. (1) of 2017 shall be replaced by the following definition: ‘financial policy: the rules and provisions set by the supreme council for the regulation of the establishment, operation and management of the government company.’ • the following definition shall be added to the definitions mentioned in article (1) of the aforesaid law no. (1) of 2017: ‘supreme council: the supreme council for financial and economic affairs established pursuant to the aforesaid law no. (24) of 2020.’ article (2) the following articles no. (3/ clause 4), (4), (5/ clauses 1, 6, 9), (6), (7), (8/ clause 9), (11/ clauses 2, 3), (12/ clauses 2, 5, 6), (13), (14/ clause 4), (15), (16/ clauses 2 and 3/b), (18), (19 / clause 3/c), (23/ clause 1), (27/clause 7), (31/clause 2), (33), (35/clause 1/f), (35/clause 2), (36/clause 3), (43) and (53) of the aforesaid law no. 1 of 2017, shall be replaced by the following texts: article (3) 4. managing the financial risks faced by the emirate. article (4) the department • the department shall be affiliated to the ruler. its main office shall be in abu dhabi city and a resolution may be issued by the ruler to establish branches thereof based on the recommendation of the chairman of the department. • the expression (executive council) or (chairman of the executive council) shall be replaced by the word (ruler), wherever either of them appears in any other legislation, with regard to any approvals, appropriations or resolutions related to the department, including executive, administrative, financial, human resources, retirement, contracts and procurement of the department. article (5) 1. preparing the organisational structure of the department and overseeing the preparation of the draft annual budget thereof and submitting them for approval by the ruler. 6. submitting an annual report on the department's operations to the ruler. 9. any other tasks assigned by the ruler. article (6) full-time role of the chairman of the department the chairman of the department shall not combine his job with any other private job without the approval of the ruler and shall be prohibited from engaging in any financial, commercial or professional works that conflict with his work duties or impair his appearance and credibility. article (7) competencies of the department the department shall be in charge for the preparation and implementation of an integrated financial system that is efficient, effective and economic in accordance with the provisions of this law by assuming the following competencies: 1. preparing the financial policy of the emirate and submitting it to the supreme council for approval. 2. preparing the public budget and specifying the types of government expenditures and revenues and the categories included within each type, and taking the necessary measures to get it approved according to the provisions of this law. 3. following up on the implementation of the public budget and taking necessary actions to verify compliance therewith. 4. managing the treasury and organising the bank accounts of the government and the governmental entities. 5. organising the tax and non-tax government revenues. 6. organising and managing the public debt and government guarantees in accordance with the provisions of this law. 7. overseeing and managing the general reserve account in accordance with the provisions of this law. 8. preparing and issuing the ‘financial control system’ following the approval by the supreme council. 9. issuing the unified accounting policies, unified chart of accounts and general rules to regulate and close the accounts and accounting records in light of the approved accounting standards, and issuing the necessary instructions for this purpose. 10. issuing the instructions and forms of financial reports for the governmental entities, to be prepared pursuant to this law. 11. preparing and issuing the financial statements and other reports of the government in accordance with the provisions stated in this law. 12. issuing the government services pricing guide following the approval of the executive council and studying the pricing requests by the governmental entities. 13. determining and evaluating the governmental financial support and raising recommendations to the executive council. 14. determining and assessing the financial risks of the emirate and suggesting ways to address or reduce the same. 15. studying and evaluating the financial position of the troubled governmental companies and institutions and raising recommendations thereon to the supreme council. 16. lending on behalf of the government following the approval of the supreme council or executive council, as the case may be, and managing the same. 17. developing and updating the five-year and ten-year financing plans and budgets for the emirate. 18. collecting government debts and other debts owed to the emirate. 19. providing necessary guidance, support and training to the employees of the financial departments at the governmental entities, companies and institutions with regard to the implementation of this law and the regulations and resolutions issued pursuant thereto. 20. conducting studies related to taxes, fees and other resources in order to develop the same in a way that is in line with the interest of the emirate and raising recommendations thereon. 21. studying and suggesting appropriate financing means for major government projects. 22. studying the financial cases that give rise to rights or obligations for the emirate and that require filing of lawsuits before the courts and referring the same to the authority competent to file cases and defend such rights. 23. preparing and studying the agreements related to the avoidance of double taxation, taking into account the agreements entered into by the state. 24. any other competencies set forth in this law or any other legislation or entrusted to the department by the ruler or supreme council. article (8) 9. all other powers set forth in this law and any other powers issued by resolutions of the ruler or supreme council or any other legislation. article (11) 2. the governmental institutions and companies shall prepare their annual budgets in light of their ownership policy, provided that their budgets are approved by their boards of directors and a copy thereof is sent to the department, within a period not exceeding the end of december of every fiscal year. 3. the governmental institutions and companies and the subsidiaries may not increase the capital, borrow, provide debt guarantees or lend, except in accordance with the rules issued by the department and approved by the supreme council. article (12) 2. the department shall prepare the draft public budget after completion of the study and discussion of the draft budgets of the governmental entities, provided that it submits the same to the supreme council not later than the end of the eleventh month of every fiscal year. 5. except as otherwise decided by the supreme council, the validity period of the financial appropriation shall expire by the end of the fiscal year. 6. no type of revenues or expenditures shall be created without the approval of the supreme council or executive council, as the case may be. article (13) approval of the public budget 1. the public budget as well as the financial competencies related thereto shall be approved by a resolution of the supreme council. in case the public budget was not approved before the start of the fiscal year, the department shall be allowed to allocate financial appropriations to the governmental entities for disbursement according to the applicable rules of disbursement and within the limits of the value of financial appropriations granted to the entity during the elapsed fiscal year, provided that it issues the instructions required thereto. 2. the approved public budget shall be amended with the financial appropriations issued during the fiscal year pursuant to amiri decrees, or resolutions of the ruler, supreme council, crown prince of the emirate of abu dhabi or executive council, as per the affiliation of the entity requesting the approval. article (14) 4. the governmental entity shall not commit or disburse without a financial appropriation and shall not amend its financial appropriations except within the limits of the powers assigned thereto by the supreme council. article (15) expenses in emergency cases 1. the chairman of the department may agree to incur expenses to face emergency situations without the need for a financial appropriation and in accordance with the powers delegated to him by the ruler or the supreme council, provided that these expenses are included in the government’s financial statements for approval. 2. if during the implementation of the public budget of any year, exceptional circumstances arise, or a decrease appears in the collected public financial resources compared to the estimated financial resources for the same year, the chairman of the department may lay down the necessary measures and procedures to confront such exceptional circumstances or such decline, including the reduction of the public budget and restriction of spending for all or some of its items, provided that these measures and procedures are submitted to the ruler or the supreme council for approval. article (16) 2. no fees shall be imposed, modified or cancelled except by virtue of a law, amiri decree or a resolution of the supreme council or executive council. 3-b. entities decided by the supreme council or executive council to be exempt, in whole or in part, from the taxes and fees for charitable, humanitarian, educational, cultural, national or any other reasons. article (18) bank accounts 1. the chairman of the department may open bank accounts in the name of the emirate or the government and enter into agreements with banks to collect, pay and transfer funds inside or outside the emirate, pay and collect interests and any other banking transactions. 2. the chairman of the department may specify the conditions and restrictions to open and close bank accounts for the emirate and government as well as the governmental entities, institutions and companies. article (19) general reserve account 3- c. any other objectives suggested by the chairman of the department and approved by the supreme council. article (23) 1. the chairman of the department may, on behalf of the government, borrow money from any person or entity inside or outside the emirate for the benefit of the government or governmental entities following the approval of the supreme council. article (27) 7. any other cases specified by the supreme council. article (31) 2. the chairman of the department may provide government guarantees on behalf of the government following the approval of the supreme council. the beneficiaries of such government guarantees shall notify the department of the settlement of the debts related to these guarantees on a periodic basis. article (33) sovereign lending the chairman of the department may lend on behalf and in the name of the government after the approval of the supreme council or executive council, as the case may be, and may exercise any powers or rights related thereto in accordance with the powers granted to him. article (35) 1-f. any other financial reports suggested by the chairman of the department and approved by the supreme council. 2. the standards for the preparation of the government's financial statements shall be approved by a resolution of the supreme council, based on a recommendation from the chairman of the department and the chairman of abu dhabi accountability authority. the resolution shall specify the government sectors and activities to be used for the purpose of preparing the financial statements of the government. article (36) financial statements of the government 3. the chairman of the department shall submit the financial statements of the government along with the report of abu dhabi accountability authority to the supreme council and executive council within a period not exceeding 15 days from the date of issuance thereof. article (43) exemption from the amounts due to the government no exemption may be made for all or some of the amounts due to the government for any reason without the approval of the supreme council or executive council, as per the affiliation of the entity requesting the exemption, or whomever delegated thereby by any of them. article (53) issuance of the rules, regulations and resolutions the chairman of the department shall issue the necessary rules, regulations and resolutions for the implementation of the provisions of this law after the approval of the supreme council. article (3) • articles (30), (38) and (45) of the aforesaid law no. (1) of 2017 shall be repealed. • any provision contrary to the provisions of this law shall be repealed article (4) this law shall be effective from the date of its issuance and published in the official gazette. khalifa bin zayed al nahyan ruler of abu dhabi issued by us in abu dhabi on: 5 january 2022 corresponding to: 2 jumada al-akhar 1443 hijri united arab emirates the emirate of abu dhabi issued by the gereral secretariat of the executive council of the emirate of abu dhabi office of legal affairs abu dhabi - p.o. box: 19 tel: +971 26688446 fax: +971 26669981\",\n",
       " 'executive council resolution no. (11) of 2023 concerning the reformation of the board of trustees of mohamed bin zayed university for humanities having reviewed chairman of the executive council resolution no. (27) of 2020 concerning the formation of the board of trustees of mohamed bin zayed university for humanities. the executive council has decided the following: 1. the board of trustees of mohamed bin zayed university for humanities shall be reformed under the chairmanship of h.e. dr. mohammed rashid ahmed al hamli, and the membership of: • mubarak hamad mubarak al muhairi - vice chairman • mohammed hamza hassan al qassim. • maryam eid khamis al muhairi • abdullah aqueeda ali al muhairi • dr. omar habtoor theeb al-derei. • ghanem sultan ahmed al suwaidi. 2. the membership term of the board shall be three renewable years. 3. this resolution shall be effective from the date of its issuance and published in the official gazette. saif saeed ghobash secretary-general issued on: 13 february 2023 corresponding to: 22 rajab 1444 hijri '}"
      ]
     },
     "execution_count": 39,
     "metadata": {},
     "output_type": "execute_result"
    }
   ],
   "source": [
    "reference_doc = list()\n",
    "\n",
    "for doc in ref_doc:\n",
    "    reference_doc.append(doc['content'])\n",
    "\n",
    "reference_doc\n",
    "\n",
    "reference_doc = set(reference_doc)\n",
    "reference_doc"
   ]
  },
  {
   "cell_type": "code",
   "execution_count": 40,
   "metadata": {},
   "outputs": [],
   "source": [
    "response = relevency_checking.invoke(\n",
    "    {\n",
    "        \"question\": query, \n",
    "        \"documents\": reference_doc\n",
    "    }\n",
    ")"
   ]
  },
  {
   "cell_type": "code",
   "execution_count": 41,
   "metadata": {},
   "outputs": [
    {
     "name": "stdout",
     "output_type": "stream",
     "text": [
      "{\n",
      "  \"Executive Council Resolution No. (11) of 2023 concerning the Reformation of the Board of Trustees of Mohamed bin Zayed University for Humanities\": true,\n",
      "  \"Executive Council Resolution No. (27) of 2020 concerning the Formation of the Board of Trustees of Mohamed bin Zayed University for Humanities\": true,\n",
      "  \"Law No. (1) of 2017 concerning the Financial System of Abu Dhabi Government\": false,\n",
      "  \"Law No. (24) of 2020 concerning the Supreme Council for Financial and Economic Affairs\": false,\n",
      "  \"Law No. (1) of 1974 concerning the Reorganisation of the Governmental Body in the Emirate of Abu Dhabi and its Amendments\": false,\n",
      "  \"Law No. (2) of 1971 concerning the National Advisory Council, and its Amendments\": false,\n",
      "  \"Law No. (2) of 2000 concerning the Civil Retirement Pensions and Benefits in the Emirate of Abu Dhabi, and its Amendments\": false,\n",
      "  \"Law No. (27) of 2019 concerning the Department of Finance\": false,\n",
      "  \"Law No. (19) of 2020 concerning the Re-organisation of Abu Dhabi Accountability Authority\": false,\n",
      "  \"Law No. (1) of 1974 concerning the Reorganisation of the Governmental Body in the Emirate of Abu Dhabi and its Amendments\": false,\n",
      "  \"Law No. (2) of 1971 concerning the National Advisory Council, and its Amendments\": false,\n",
      "  \"Law No. (2) of 2000 concerning the Civil Retirement Pensions and Benefits in the Emirate of Abu Dhabi, and its Amendments\": false,\n",
      "  \"Law No. (27) of 2019 concerning the Department of Finance\": false,\n",
      "  \"Law No. (19) of 2020 concerning the Re-organisation of Abu Dhabi Accountability Authority\": false,\n",
      "  \"Law No. (24) of 2020 concerning the Supreme Council for Financial and Economic Affairs\": false,\n",
      "  \"Law No. (1) of 2017 concerning the Financial System of Abu Dhabi Government\": false,\n",
      "  \"Law No. (1) of 1974 concerning the Reorganisation of the Governmental Body in the Emirate of Abu Dhabi and its Amendments\": false,\n",
      "  \"Law No. (2) of 1971 concerning the National Advisory Council, and its Amendments\": false,\n",
      "  \"Law No. (2) of 2000 concerning the Civil Retirement Pensions and Benefits in the Emirate of Abu Dhabi, and its Amendments\": false,\n",
      "  \"Law No. (27) of 2019 concerning the Department of Finance\": false,\n",
      "  \"Law No. (19) of 2020 concerning the Re-organisation of Abu Dhabi Accountability Authority\": false,\n",
      "  \"Law No. (24) of 2020 concerning the Supreme Council for Financial and Economic Affairs\": false,\n",
      "  \"Law No. (1) of 2017 concerning the Financial System of Abu Dhabi Government\": false,\n",
      "  \"Law No. (1) of 1974 concerning the Reorganisation of the Governmental Body in the Emirate of Abu Dhabi and its Amendments\": false,\n",
      "  \"Law No. (2) of 1971 concerning the National Advisory Council, and its Amendments\": false,\n",
      "  \"Law No. (2) of 2000 concerning the Civil Retirement Pensions and Benefits in the Emirate of Abu Dhabi, and its Amendments\": false,\n",
      "  \"Law No. (27) of 2019 concerning the Department of Finance\": false,\n",
      "  \"Law No. (19) of 2020 concerning the Re-organisation of Abu Dhabi Accountability Authority\": false,\n",
      "  \"Law No. (24) of 2020 concerning the Supreme Council for Financial and Economic Affairs\": false,\n",
      "  \"Law No. (1) of 2017 concerning the Financial System of Abu Dhabi Government\": false,\n",
      "  \"Law No. (1) of 1974 concerning the Reorganisation of the Governmental Body in the Emirate of Abu Dhabi and its Amendments\": false,\n",
      "  \"Law No. (2) of 1971 concerning the National Advisory Council, and its Amendments\": false,\n",
      "  \"Law No. (2) of 2000 concerning the Civil Retirement Pensions and Benefits in the Emirate of Abu Dhabi, and its Amendments\": false,\n",
      "  \"Law No. (27) of 2019 concerning the Department of Finance\": false,\n",
      "  \"Law No. (19) of 2020 concerning the Re-organisation of Abu Dhabi Accountability Authority\": false,\n",
      "  \"Law No. (24) of 2020 concerning the Supreme Council for Financial and Economic Affairs\": false,\n",
      "  \"Law No. (1) of 2017 concerning the Financial System of Abu Dhabi Government\": false,\n",
      "  \"Law No. (1) of 1974 concerning the Reorganisation of the Governmental Body in the Emirate of Abu Dhabi and its Amendments\": false,\n",
      "  \"Law No. (2) of 1971 concerning the National Advisory Council, and its Amendments\": false,\n",
      "  \"Law No. (2) of 2000 concerning the Civil Retirement Pensions and Benefits in the Emirate of Abu Dhabi, and its Amendments\": false,\n",
      "  \"Law No. (27) of 2019 concerning the Department of Finance\": false,\n",
      "  \"Law No. (19) of 2020 concerning the Re-organisation of Abu Dhabi Accountability Authority\": false,\n",
      "  \"Law No. (24) of 2020 concerning the Supreme Council for Financial and Economic Affairs\": false,\n",
      "  \"Law No. (1) of 2017 concerning the Financial System of Abu Dhabi Government\": false,\n",
      "  \"Law No. (1) of 1974 concerning the Reorganisation of the Governmental Body in the Emirate of Abu Dhabi and its Amendments\": false,\n",
      "  \"Law No. (2) of 1971 concerning the National Advisory Council, and its Amendments\": false,\n",
      "  \"Law No. (2) of 2000 concerning the Civil Retirement Pensions and Benefits in the Emirate of Abu Dhabi, and its Amendments\": false,\n",
      "  \"Law No. (27) of 2019 concerning the Department of Finance\": false,\n",
      "  \"Law No. (19) of 2020 concerning the Re-organisation of Abu Dhabi Accountability Authority\": false,\n",
      "  \"Law No. (24) of 2020 concerning the Supreme Council for Financial and Economic Affairs\": false,\n",
      "  \"Law No. (1) of 2017 concerning the Financial System of Abu Dhabi Government\": false,\n",
      "  \"Law No. (1) of 1974 concerning the Reorganisation of the Governmental Body in the Emirate of Abu Dhabi and its Amendments\": false,\n",
      "  \"Law No. (2) of 1971 concerning the National Advisory Council, and its Amendments\": false,\n",
      "  \"Law No. (2) of 2000 concerning the Civil Retirement Pensions and Benefits in the Emirate of Abu Dhabi, and its Amendments\": false,\n",
      "  \"Law No. (27) of 2019 concerning the Department of Finance\": false,\n",
      "  \"Law No. (19) of 2020 concerning the Re-organisation of Abu Dhabi Accountability Authority\": false,\n",
      "  \"Law No. (24) of 2020 concerning the Supreme Council for Financial and Economic Affairs\": false,\n",
      "  \"Law No. (1) of 2017 concerning the Financial System of Abu Dhabi Government\": false,\n",
      "  \"Law No. (1) of 1974 concerning the Reorganisation of the Governmental Body in the Emirate of Abu Dhabi and its Amendments\": false,\n",
      "  \"Law No. (2) of 1971 concerning the National Advisory Council, and its Amendments\": false,\n",
      "  \"Law No. (2) of 2000 concerning the Civil Retirement Pensions and Benefits in the Emirate of Abu Dhabi, and its Amendments\": false,\n",
      "  \"Law No. (27) of 2019 concerning the Department of Finance\": false,\n",
      "  \"Law No. (19) of 2020 concerning the Re-organisation of Abu Dhabi Accountability Authority\": false,\n",
      "  \"Law No. (24) of 2020 concerning the Supreme Council for Financial and Economic Affairs\": false,\n",
      "  \"Law No. (1) of 2017 concerning the Financial System of Abu Dhabi Government\": false,\n",
      "  \"Law No. (1) of 1974 concerning the Reorganisation of the Governmental Body in the Emirate of Abu Dhabi and its Amendments\": false,\n",
      "  \"Law No. (2) of 1971 concerning the National Advisory Council, and its Amendments\": false,\n",
      "  \"Law No. (2) of 2000 concerning the Civil Retirement Pensions and Benefits in the Emirate of Abu Dhabi, and its Amendments\": false,\n",
      "  \"Law No. (27) of 2019 concerning the Department of Finance\": false,\n",
      "  \"Law No. (19) of 2020 concerning the Re-organisation of Abu Dhabi Accountability Authority\": false,\n",
      "  \"Law No. (24) of 2020 concerning the Supreme Council for Financial and Economic Affairs\": false,\n",
      "  \"Law No. (1) of 2017 concerning the Financial System of Abu Dhabi Government\": false,\n",
      "  \"Law No. (1) of 1974 concerning the Reorganisation of the Governmental Body in the Emirate of Abu Dhabi and its Amendments\": false,\n",
      "  \"Law No. (2) of 1971 concerning the National Advisory Council, and its Amendments\": false,\n",
      "  \"Law No. (2) of 2000 concerning the Civil Retirement Pensions and Benefits in the Emirate of Abu Dhabi, and its Amendments\": false,\n",
      "  \"Law No. (27) of 2019 concerning the Department of Finance\": false,\n",
      "  \"Law No. (19) of 2020 concerning the Re-organisation of Abu Dhabi Accountability Authority\": false,\n",
      "  \"Law No. (24) of 2020 concerning the Supreme Council for Financial and Economic Affairs\": false,\n",
      "  \"Law No. (1) of 2017 concerning the Financial System of Abu Dhabi Government\": false,\n",
      "  \"Law No. (1) of 1974 concerning the Reorganisation of the Governmental Body in the Emirate of Abu Dhabi and its Amendments\": false,\n",
      "  \"Law No. (2) of 1971 concerning the National Advisory Council, and its Amendments\": false,\n",
      "  \"Law No. (2) of 2000 concerning the Civil Retirement Pensions and Benefits in the Emirate of Abu Dhabi, and its Amendments\": false,\n",
      "  \"Law No. (27) of 2019 concerning the Department of Finance\": false,\n",
      "  \"Law No. (19) of 2020 concerning the Re-organisation of Abu Dhabi Accountability Authority\": false,\n",
      "  \"Law No. (24) of 2020 concerning the Supreme Council for Financial and Economic Affairs\": false,\n",
      "  \"Law No. (1) of 2017 concerning the Financial System of Abu Dhabi Government\": false,\n",
      "  \"Law No. (1) of 1974 concerning the Reorganisation of the Governmental Body in the Emirate of Abu Dhabi and its Amendments\": false,\n",
      "  \"Law No. (2) of 1971 concerning the National Advisory Council, and its Amendments\": false,\n",
      "  \"Law No. (2) of 2000 concerning the Civil Retirement Pensions and Benefits in the Emirate of Abu Dhabi, and its Amendments\": false,\n",
      "  \"Law No. (27) of 2019 concerning the Department of Finance\": false,\n",
      "  \"Law No. (19) of 2020 concerning the Re-organisation of Abu Dhabi Accountability Authority\": false,\n",
      "  \"Law No. (24) of 2020 concerning the Supreme Council for Financial and Economic Affairs\": false,\n",
      "  \"Law No. (1) of 2017 concerning the Financial System of Abu Dhabi Government\": false,\n",
      "  \"Law No. (1) of 1974 concerning the Reorganisation of the Governmental Body in the Emirate of Abu Dhabi and its Amendments\": false,\n",
      "  \"Law No. (2) of 1971 concerning the National Advisory Council, and its Amendments\": false,\n",
      "  \"Law No. (2) of 2000 concerning the Civil Retirement Pensions and Benefits in the Emirate of Abu Dhabi, and its Amendments\": false,\n",
      "  \"Law No. (27) of 2019 concerning the Department of Finance\": false,\n",
      "  \"Law No. (19) of 2020 concerning the Re-organisation of Abu Dhabi Accountability Authority\": false,\n",
      "  \"Law No. (24) of 2020 concerning the Supreme Council for Financial and Economic Affairs\": false,\n",
      "  \"Law No. (1) of 2017 concerning the Financial System of Abu Dhabi Government\": false,\n",
      "  \"Law No. (1) of 1974 concerning the Reorganisation of the Governmental Body in the Emirate of Abu Dhabi and its Amendments\": false,\n",
      "  \"Law No. (2) of 1971 concerning the National Advisory Council, and its Amendments\": false,\n",
      "  \"Law No. (2) of 2000 concerning the Civil Retirement Pensions and Benefits in the Emirate of Abu Dhabi, and its Amendments\": false,\n",
      "  \"Law No. (27) of 2019 concerning the Department of Finance\": false,\n",
      "  \"Law No. (19) of 2020 concerning the Re-organisation of Abu Dhabi Accountability Authority\": false,\n",
      "  \"Law No. (24) of 2020 concerning the Supreme Council for Financial and Economic Affairs\": false,\n",
      "  \"Law No. (1) of 2017 concerning the Financial System of Abu Dhabi Government\": false,\n",
      "  \"Law No. (1) of 1974 concerning the Reorganisation of the Governmental Body in the Emirate of Abu Dhabi and its Amendments\": false,\n",
      "  \"Law No. (2) of 1971 concerning the National Advisory Council, and its Amendments\": false,\n",
      "  \"Law No. (2) of 2000 concerning the Civil Retirement Pensions and Benefits in the Emirate of Abu Dhabi, and its Amendments\": false,\n",
      "  \"Law No. (27) of 2019 concerning the Department of Finance\": false,\n",
      "  \"Law No. (19) of 2020 concerning the Re-organisation of Abu Dhabi Accountability Authority\": false,\n",
      "  \"Law No. (24) of 2020 concerning the Supreme Council for Financial and Economic Affairs\": false,\n",
      "  \"Law No. (1) of 2017 concerning the Financial System of Abu Dhabi Government\": false,\n",
      "  \"Law No. (1) of 1974 concerning the Reorganisation of the Governmental Body in the Emirate of Abu Dhabi and its Amendments\": false,\n",
      "  \"Law No. (2) of 1971 concerning the National Advisory Council, and its Amendments\": false,\n",
      "  \"Law No. (2) of 2000 concerning the Civil Retirement Pensions and Benefits in the Emirate of Abu Dhabi, and its Amendments\": false,\n",
      "  \"Law No. (27) of 2019 concerning the Department of Finance\": false,\n",
      "  \"Law No. (19) of 2020 concerning the Re-organisation of Abu Dhabi Accountability Authority\": false,\n",
      "  \"Law No. (24) of 2020 concerning the Supreme Council for Financial and Economic Affairs\": false,\n",
      "  \"Law No. (1) of 2017 concerning the Financial System of Abu Dhabi Government\": false,\n",
      "  \"Law No. (1) of 1974 concerning the Reorganisation of the Governmental Body in the Emirate of Abu Dhabi and its Amendments\": false,\n",
      "  \"Law No. (2) of 1971 concerning the National Advisory Council, and its Amendments\": false,\n",
      "  \"Law No. (2) of 2000 concerning the Civil Retirement Pensions and Benefits in the Emirate of Abu Dhabi, and its Amendments\": false,\n",
      "  \"Law No. (27) of 2019 concerning the Department of Finance\": false,\n",
      "  \"Law No. (19) of 2020 concerning the Re-organisation of Abu Dhabi Accountability Authority\": false,\n",
      "  \"Law No. (24) of 2020 concerning the Supreme Council for Financial and Economic Affairs\": false,\n",
      "  \"Law No. (1) of 2017 concerning the Financial System of Abu Dhabi Government\": false,\n",
      "  \"Law No. (1) of 1974 concerning the Reorganisation of the Governmental Body in the Emirate of Abu Dhabi and its Amendments\": false,\n",
      "  \"Law No. (2) of 1971 concerning the National Advisory Council, and its Amendments\": false,\n",
      "  \"Law No. (2) of 2000 concerning the Civil Retirement Pensions and Benefits in the Emirate of Abu Dhabi, and its Amendments\": false,\n",
      "  \"Law No. (27) of 2019 concerning the Department of Finance\": false,\n",
      "  \"Law No. (19) of 2020 concerning the Re-organisation of Abu Dhabi Accountability Authority\": false,\n",
      "  \"Law No. (24) of 2020 concerning the Supreme Council for Financial and Economic Affairs\": false,\n",
      "  \"Law No. (1) of 2017 concerning the Financial System of Abu Dhabi Government\": false,\n",
      "  \"Law No. (1) of 1974 concerning the Reorganisation of the Governmental Body in the Emirate of Abu Dhabi and its Amendments\": false,\n",
      "  \"Law No. (2) of 1971 concerning the National Advisory Council, and its Amendments\": false,\n",
      "  \"Law No. (2) of 2000 concerning the Civil Retirement Pensions and Benefits in the Emirate of Abu Dhabi, and its Amendments\": false,\n",
      "  \"Law No. (27) of 2019 concerning the Department of Finance\": false,\n",
      "  \"Law No. (19) of 2020 concerning the Re-organisation of Abu Dhabi Accountability Authority\": false,\n",
      "  \"Law No. (24) of 2020 concerning the Supreme Council for Financial and Economic Affairs\": false,\n",
      "  \"Law No. (1) of 2017 concerning the Financial System of Abu Dhabi Government\": false,\n",
      "  \"Law No. (1) of 1974 concerning the Reorganisation of the Governmental Body in the Emirate of Abu Dhabi and its Amendments\": false,\n",
      "  \"Law No. (2) of 1971 concerning the National Advisory Council, and its Amendments\": false,\n",
      "  \"Law No. (2) of 2000 concerning the Civil Retirement Pensions and Benefits in the Emirate of Abu Dhabi, and its Amendments\": false,\n",
      "  \"Law No. (27) of 2019 concerning the Department of Finance\": false,\n",
      "  \"Law No. (19) of 2020 concerning the Re-organisation of Abu Dhabi Accountability Authority\": false,\n",
      "  \"Law No. (24) of 2020 concerning the Supreme Council for Financial and Economic Affairs\": false,\n",
      "  \"Law No. (1) of 2017 concerning the Financial System of Abu Dhabi Government\": false,\n",
      "  \"Law No. (1) of 1974 concerning the Reorganisation of the Governmental Body in the Emirate of Abu Dhabi and its Amendments\": false,\n",
      "  \"Law No. (2) of 1971 concerning the National Advisory Council, and its Amendments\": false,\n",
      "  \"Law No. (2) of 2000 concerning the Civil Retirement Pensions and Benefits in the Emirate of Abu Dhabi, and its Amendments\": false,\n",
      "  \"Law No. (27) of 2019 concerning the Department of Finance\": false,\n",
      "  \"Law No. (19) of 2020 concerning the Re-organisation of Abu Dhabi Accountability Authority\": false,\n",
      "  \"Law No. (24) of 2020 concerning the Supreme Council for Financial and Economic Affairs\": false,\n",
      "  \"Law No. (1) of 2017 concerning the Financial System of Abu Dhabi Government\": false,\n",
      "  \"Law No. (1) of 1974 concerning the Reorganisation of the Governmental Body in the Emirate of Abu Dhabi and its Amendments\": false,\n",
      "  \"Law No. (2) of 1971 concerning the National Advisory Council, and its Amendments\": false,\n",
      "  \"Law No. (2) of 2000 concerning the Civil Retirement Pensions and Benefits in the Emirate of Abu Dhabi, and its Amendments\": false,\n",
      "  \"Law No. (27) of 2019 concerning the Department of Finance\": false,\n",
      "  \"Law No. (19) of 2020 concerning the Re-organisation of Abu Dhabi Accountability Authority\": false,\n",
      "  \"Law No. (24) of 2020 concerning the Supreme Council for Financial and Economic Affairs\": false,\n",
      "  \"Law No. (1) of 2017 concerning the Financial System of Abu Dhabi Government\": false,\n",
      "  \"Law No. (1) of 1974 concerning the Reorganisation of the Governmental Body in the Emirate of Abu Dhabi and its Amendments\": false,\n",
      "  \"Law No. (2) of 1971 concerning the National Advisory Council, and its Amendments\": false,\n",
      "  \"Law No. (2) of 2000 concerning the Civil Retirement Pensions and Benefits in the Emirate of Abu Dhabi, and its Amendments\": false,\n",
      "  \"Law No. (27) of 2019 concerning the Department of Finance\": false,\n",
      "  \"Law No. (19) of 2020 concerning the Re-organisation of Abu Dhabi Accountability Authority\": false,\n",
      "  \"Law No. (24) of 2020 concerning the Supreme Council for Financial and Economic Affairs\": false,\n",
      "  \"Law No. (1) of 2017 concerning the Financial System of Abu Dhabi Government\": false,\n",
      "  \"Law No. (1) of 1974 concerning the Reorganisation of the Governmental Body in the Emirate of Abu Dhabi and its Amendments\": false,\n",
      "  \"Law No. (2) of 1971 concerning the National Advisory Council, and its Amendments\": false,\n",
      "  \"Law No. (2) of 2000 concerning the Civil Retirement Pensions and Benefits in the Emirate of Abu Dhabi, and its Amendments\": false,\n",
      "  \"Law No. (27) of 2019 concerning the Department of Finance\": false,\n",
      "  \"Law No. (19) of 2020 concerning the Re-organisation of Abu Dhabi Accountability Authority\": false,\n",
      "  \"Law No. (24) of 2020 concerning the Supreme Council for Financial and Economic Affairs\": false,\n",
      "  \"Law No. (1) of 2017 concerning the Financial System of Abu Dhabi Government\": false,\n",
      "  \"Law No. (1) of 1974 concerning the Reorganisation of the Governmental Body in the Emirate of Abu Dhabi and its Amendments\": false,\n",
      "  \"Law No. (2) of 1971 concerning the National Advisory Council, and its Amendments\": false,\n",
      "  \"Law No. (2) of 2000 concerning the Civil Retirement Pensions and Benefits in the Emirate of Abu Dhabi, and its Amendments\": false,\n",
      "  \"Law No. (27) of 2019 concerning the Department of Finance\": false,\n",
      "  \"Law No. (19) of 2020 concerning the Re-organisation of Abu Dhabi Accountability Authority\": false,\n",
      "  \"Law No. (24) of 2020 concerning the Supreme Council for Financial and Economic Affairs\": false,\n",
      "  \"Law No. (1) of 2017 concerning the Financial System of Abu Dhabi Government\": false,\n",
      "  \"Law No. (1) of 1974 concerning the Reorganisation of the Governmental Body in the Emirate of Abu Dhabi and its Amendments\": false,\n",
      "  \"Law No. (2) of 1971 concerning the National Advisory Council, and its Amendments\": false,\n",
      "  \"Law No. (2) of 2000 concerning the Civil Retirement Pensions and Benefits in the Emirate of Abu Dhabi, and its Amendments\": false,\n",
      "  \"Law No. (27) of 2019 concerning the Department of Finance\": false,\n",
      "  \"Law No. (19) of 2020 concerning the Re-organisation of Abu Dhabi Accountability Authority\": false,\n",
      "  \"Law No. (24) of 2020 concerning the Supreme Council for Financial and Economic Affairs\": false,\n",
      "  \"Law No. (1) of 2017 concerning the Financial System of Abu Dhabi Government\": false,\n",
      "  \"Law No. (1) of 1974 concerning the Reorganisation of the Governmental Body in the Emirate of Abu Dhabi and its Amendments\": false,\n",
      "  \"Law No. (2) of 1971 concerning the National Advisory Council, and its Amendments\": false,\n",
      "  \"Law No. (2) of 2000 concerning the Civil Retirement Pensions and Benefits in the Emirate of Abu Dhabi, and its Amendments\": false,\n",
      "  \"Law No. (27) of 2019 concerning the Department of Finance\": false,\n",
      "  \"Law No. (19) of 2020 concerning the Re-organisation of Abu Dhabi Accountability Authority\": false,\n",
      "  \"Law No. (24) of 2020 concerning the Supreme Council for Financial and Economic Affairs\": false,\n",
      "  \"Law No. (1) of 2017 concerning the Financial System of Abu Dhabi Government\": false,\n",
      "  \"Law No. (1) of 1974 concerning the Reorganisation of the Governmental Body in the Emirate of Abu Dhabi and its Amendments\": false,\n",
      "  \"Law No. (2) of 1971 concerning the National Advisory Council, and its Amendments\": false,\n",
      "  \"Law No. (2) of 2000 concerning the Civil Retirement Pensions and Benefits in the Emirate of Abu Dhabi, and its Amendments\": false,\n",
      "  \"Law No. (27) of 2019 concerning the Department of Finance\": false,\n",
      "  \"Law No. (19) of 2020 concerning the Re-organisation of Abu Dhabi Accountability Authority\": false,\n",
      "  \"Law No. (24) of 2020 concerning the Supreme Council for Financial and Economic Affairs\": false,\n",
      "  \"Law No. (1) of 2017 concerning the Financial System of Abu Dhabi Government\": false,\n",
      "  \"Law No. (1) of 1974 concerning the Reorganisation of the Governmental Body in the Emirate of Abu Dhabi and its Amendments\": false,\n",
      "  \"Law No. (2) of 1971 concerning the National Advisory Council, and its Amendments\": false,\n",
      "  \"Law No. (2) of 2000 concerning the Civil Retirement Pensions and Benefits in the Emirate of Abu Dhabi, and its Amendments\": false,\n",
      "  \"Law No. (27) of 2019 concerning the Department of Finance\": false,\n",
      "  \"Law No. (19) of 2020 concerning the Re-organisation of Abu Dhabi Accountability Authority\": false,\n",
      "  \"Law No. (24) of 2020 concerning the Supreme Council for Financial and Economic Affairs\": false,\n",
      "  \"Law No. (1) of 2017 concerning the Financial System of Abu Dhabi Government\": false,\n",
      "  \"Law No. (1) of 1974 concerning the Reorganisation of the Governmental Body in the Emirate of Abu Dhabi and its Amendments\": false,\n",
      "  \"Law No. (2) of 1971 concerning the National Advisory Council, and its Amendments\": false,\n",
      "  \"Law No. (2) of 2000 concerning the Civil Retirement Pensions and Benefits in the Emirate of Abu Dhabi, and its Amendments\": false,\n",
      "  \"Law No. (27) of 2019 concerning the Department of Finance\": false,\n",
      "  \"Law No. (19) of 2020 concerning the Re-organisation of Abu Dhabi Accountability Authority\": false,\n",
      "  \"Law No. (24) of 2020 concerning the Supreme Council for Financial and Economic Affairs\": false,\n",
      "  \"Law No. (1) of 2017 concerning the Financial System of Abu Dhabi Government\": false,\n",
      "  \"Law No. (1) of 1974 concerning the Reorganisation of the Governmental Body in the Emirate of Abu Dhabi and its Amendments\": false,\n",
      "  \"Law No. (2) of 1971 concerning the National Advisory Council, and its Amendments\": false,\n",
      "  \"Law No. (2) of 2000 concerning the Civil Retirement Pensions and Benefits in the Emirate of Abu Dhabi, and its Amendments\": false,\n",
      "  \"Law No. (27) of 2019 concerning the Department of Finance\": false,\n",
      "  \"Law No. (19) of 2020 concerning the Re-organisation of Abu Dhabi Accountability Authority\": false,\n",
      "  \"Law No. (24) of 2020 concerning the Supreme Council for Financial and Economic Affairs\": false,\n",
      "  \"Law No. (1) of 2017 concerning the Financial System of Abu Dhabi Government\": false,\n",
      "  \"Law No. (1) of 1974 concerning the Reorganisation of the Governmental Body in the Emirate of Abu Dhabi and its Amendments\": false,\n",
      "  \"Law No. (2) of 1971 concerning the National Advisory Council, and its Amendments\": false,\n",
      "  \"Law No. (2) of 2000 concerning the Civil Retirement Pensions and Benefits in the Emirate of Abu Dhabi, and its Amendments\": false,\n",
      "  \"Law No. (27) of 2019 concerning the Department of Finance\": false,\n",
      "  \"Law No. (19) of 2020 concerning the Re-organisation of Abu Dhabi Accountability Authority\": false,\n",
      "  \"Law No. (24) of 2020 concerning the Supreme Council for Financial and Economic Affairs\": false,\n",
      "  \"Law No. (1) of 2017 concerning the Financial System of Abu Dhabi Government\": false,\n",
      "  \"Law No. (1) of 1974 concerning the Reorganisation of the Governmental Body in the Emirate of Abu Dhabi and its Amendments\": false,\n",
      "  \"Law No. (2) of 1971 concerning the National Advisory Council, and its Amendments\": false,\n",
      "  \"Law No. (2) of 2000 concerning the Civil Retirement Pensions and Benefits in the Emirate of Abu Dhabi, and its Amendments\": false,\n",
      "  \"Law No. (27) of 2019 concerning the Department of Finance\": false,\n",
      "  \"Law No. (19) of 2020 concerning the Re-organisation of Abu Dhabi Accountability Authority\": false,\n",
      "  \"Law No. (24) of 2020 concerning the Supreme Council for Financial and Economic Affairs\": false,\n",
      "  \"Law No. (1) of 2017 concerning the Financial System of Abu Dhabi Government\": false,\n",
      "  \"Law No. (1) of 1974 concerning the Reorganisation of the Governmental Body in the Emirate of Abu Dhabi and its Amendments\": false,\n",
      "  \"Law No. (2) of 1971 concerning the National Advisory Council, and its Amendments\": false,\n",
      "  \"Law No. (2) of 2000 concerning the Civil Retirement Pensions and Benefits in the Emirate of Abu Dhabi, and its Amendments\": false,\n",
      "  \"Law No. (27) of 2019 concerning the Department of Finance\": false,\n",
      "  \"Law No. (19) of 2020 concerning the Re-organisation of Abu Dhabi Accountability Authority\": false,\n",
      "  \"Law No. (24) of 2020 concerning the Supreme Council for Financial and Economic Affairs\": false,\n",
      "  \"Law No. (1) of 2017 concerning the Financial System of Abu Dhabi Government\": false,\n",
      "  \"Law No. (1) of 1974 concerning the Reorganisation of the Governmental Body in the Emirate of Abu Dhabi and its Amendments\": false,\n",
      "  \"Law No. (2) of 1971 concerning the National Advisory Council, and its Amendments\": false,\n",
      "  \"Law No. (2) of 2000 concerning the Civil Retirement Pensions and Benefits in the Emirate of Abu Dhabi, and its Amendments\": false,\n",
      "  \"Law No. (27) of 2019 concerning the Department of Finance\": false,\n",
      "  \"Law No. (19) of 2020 concerning the Re-organisation of Abu Dhabi Accountability Authority\": false,\n",
      "  \"Law No. (24) of 2020 concerning the Supreme Council for Financial and Economic Affairs\": false,\n",
      "  \"Law No. (1) of 2017 concerning the Financial System of Abu Dhabi Government\": false,\n",
      "  \"Law No. (1) of 1974 concerning the Reorganisation of the Governmental Body in the Emirate of Abu Dhabi and its Amendments\": false,\n",
      "  \"Law No. (2) of 1971 concerning the National Advisory Council, and its Amendments\": false,\n",
      "  \"Law No. (2) of 2000 concerning the Civil Retirement Pensions and Benefits in the Emirate of Abu Dhabi, and its Amendments\": false,\n",
      "  \"Law No. (27) of 2019 concerning the Department of Finance\": false,\n",
      "  \"Law No. (19) of 2020 concerning the Re-organisation of Abu Dhabi Accountability Authority\": false,\n",
      "  \"Law No. (24) of 2020 concerning the Supreme Council for Financial and Economic Affairs\": false,\n",
      "  \"Law No. (1) of 2017 concerning the Financial System of Abu Dhabi Government\": false,\n",
      "  \"Law No. (1) of 1974 concerning the Reorganisation of the Governmental Body in the Emirate of Abu Dhabi and its Amendments\": false,\n",
      "  \"Law No. (2) of 1971 concerning the National Advisory Council, and its Amendments\": false,\n",
      "  \"Law No. (2) of 2000 concerning the Civil Retirement Pensions and Benefits in the Emirate of Abu Dhabi, and its Amendments\": false,\n",
      "  \"Law No. (27) of 2019 concerning the Department of Finance\": false,\n",
      "  \"Law No. (19) of 2020 concerning the Re-organisation of Abu Dhabi Accountability Authority\": false,\n",
      "  \"Law No. (24) of 2020 concerning the Supreme Council for Financial and Economic Affairs\": false,\n",
      "  \"Law No. (1) of 2017 concerning the Financial System of Abu Dhabi Government\": false,\n",
      "  \"Law No. (1) of 1974 concerning the Reorganisation of the Governmental Body in the Emirate of Abu Dhabi and its Amendments\": false,\n",
      "  \"Law No. (2) of 1971 concerning the National Advisory Council, and its Amendments\": false,\n",
      "  \"Law No. (2) of 2000 concerning the Civil Retirement Pensions and Benefits in the Emirate of Abu Dhabi, and its Amendments\": false,\n",
      "  \"Law No. (27) of 2019 concerning the Department of Finance\": false,\n",
      "  \"Law No. (19) of 2020 concerning the Re-organisation of Abu Dhabi Accountability Authority\": false,\n",
      "  \"Law No. (24) of 2020 concerning the Supreme Council for Financial and Economic Affairs\": false,\n",
      "  \"Law No. (1) of 2017 concerning the Financial System of Abu Dhabi Government\": false,\n",
      "  \"Law No. (1) of 1974 concerning the Reorganisation of the Governmental Body in the Emirate of Abu Dhabi and its Amendments\": false,\n",
      "  \"Law No. (2) of 1971 concerning the National Advisory Council, and its Amendments\": false,\n",
      "  \"Law No. (2) of 2000 concerning the Civil Retirement Pensions and Benefits in the Emirate of Abu Dhabi, and its Amendments\": false,\n",
      "  \"Law No. (27) of 2019 concerning the Department of Finance\": false,\n",
      "  \"Law No. (19) of 2020 concerning the Re-organisation of Abu Dhabi Accountability Authority\": false,\n",
      "  \"Law No. (24) of 2020 concerning the Supreme Council for Financial and Economic Affairs\": false,\n",
      "  \"Law No. (1) of 2017 concerning the Financial System of Abu Dhabi Government\": false,\n",
      "  \"Law No. (1) of 1974 concerning the Reorganisation of the Governmental Body in the Emirate of Abu Dhabi and its Amendments\": false,\n",
      "  \"Law No. (2) of 1971 concerning the National Advisory Council, and its Amendments\": false,\n",
      "  \"Law No. (2) of 2000 concerning the Civil Retirement Pensions and Benefits in the Emirate of Abu Dhabi, and its Amendments\": false,\n",
      "  \"Law No. (27) of 2019 concerning the Department of Finance\": false,\n",
      "  \"Law No. (19) of 2020 concerning the Re-organisation of Abu Dhabi Accountability Authority\": false,\n",
      "  \"Law No. (24) of 2020 concerning the Supreme Council for Financial and Economic Affairs\": false,\n",
      "  \"Law No. (1) of 2017 concerning the Financial System of Abu Dhabi Government\": false,\n",
      "  \"Law No. (1) of 1974 concerning the Reorganisation of the Governmental Body in the Emirate of Abu Dhabi and its Amendments\": false,\n",
      "  \"Law No. (2) of 1971 concerning the National Advisory Council, and its Amendments\": false,\n",
      "  \"Law No. (2) of 2000 concerning the Civil Retirement Pensions and Benefits in the Emirate of Abu Dhabi, and its Amendments\": false,\n",
      "  \"Law No. (27) of 2019 concerning the Department of Finance\": false,\n",
      "  \"Law No. (19) of 2020 concerning the Re-organisation of Abu Dhabi Accountability Authority\": false,\n",
      "  \"Law No. (24) of 2020 concerning the Supreme Council for Financial and Economic Affairs\": false,\n",
      "  \"Law No. (1) of 2017 concerning the Financial System of Abu Dhabi Government\": false,\n",
      "  \"Law No. (1) of 1974 concerning the Reorganisation of the Governmental Body in the Emirate of Abu Dhabi and its Amendments\": false,\n",
      "  \"Law No. (2) of 1971 concerning the National Advisory Council, and its Amendments\": false,\n",
      "  \"Law No. (2) of 2000 concerning the Civil Retirement Pensions and Benefits in the Emirate of Abu Dhabi, and its Amendments\": false,\n",
      "  \"Law No. (27) of 2019 concerning the Department of Finance\": false,\n",
      "  \"Law No. (19) of 2020 concerning the Re-organisation of Abu Dhabi Accountability Authority\": false,\n",
      "  \"Law No. (24) of 2020 concerning the Supreme Council for Financial and Economic Affairs\": false,\n",
      "  \"Law No. (1) of 2017 concerning the Financial System of Abu Dhabi Government\": false,\n",
      "  \"Law No. (1) of 1974 concerning the Reorganisation of the Governmental\n"
     ]
    }
   ],
   "source": [
    "print(response.content)"
   ]
  },
  {
   "cell_type": "code",
   "execution_count": 42,
   "metadata": {},
   "outputs": [
    {
     "ename": "JSONDecodeError",
     "evalue": "Unterminated string starting at: line 305 column 3 (char 31274)",
     "output_type": "error",
     "traceback": [
      "\u001b[1;31m---------------------------------------------------------------------------\u001b[0m",
      "\u001b[1;31mJSONDecodeError\u001b[0m                           Traceback (most recent call last)",
      "Cell \u001b[1;32mIn[42], line 2\u001b[0m\n\u001b[0;32m      1\u001b[0m \u001b[38;5;28;01mimport\u001b[39;00m \u001b[38;5;21;01mjson\u001b[39;00m\n\u001b[1;32m----> 2\u001b[0m conditional_response \u001b[38;5;241m=\u001b[39m \u001b[43mjson\u001b[49m\u001b[38;5;241;43m.\u001b[39;49m\u001b[43mloads\u001b[49m\u001b[43m(\u001b[49m\u001b[43mresponse\u001b[49m\u001b[38;5;241;43m.\u001b[39;49m\u001b[43mcontent\u001b[49m\u001b[43m)\u001b[49m\n\u001b[0;32m      3\u001b[0m conditional_response\n",
      "File \u001b[1;32mc:\\Users\\tshar\\anaconda3\\envs\\LegalDocRAG\\Lib\\json\\__init__.py:346\u001b[0m, in \u001b[0;36mloads\u001b[1;34m(s, cls, object_hook, parse_float, parse_int, parse_constant, object_pairs_hook, **kw)\u001b[0m\n\u001b[0;32m    341\u001b[0m     s \u001b[38;5;241m=\u001b[39m s\u001b[38;5;241m.\u001b[39mdecode(detect_encoding(s), \u001b[38;5;124m'\u001b[39m\u001b[38;5;124msurrogatepass\u001b[39m\u001b[38;5;124m'\u001b[39m)\n\u001b[0;32m    343\u001b[0m \u001b[38;5;28;01mif\u001b[39;00m (\u001b[38;5;28mcls\u001b[39m \u001b[38;5;129;01mis\u001b[39;00m \u001b[38;5;28;01mNone\u001b[39;00m \u001b[38;5;129;01mand\u001b[39;00m object_hook \u001b[38;5;129;01mis\u001b[39;00m \u001b[38;5;28;01mNone\u001b[39;00m \u001b[38;5;129;01mand\u001b[39;00m\n\u001b[0;32m    344\u001b[0m         parse_int \u001b[38;5;129;01mis\u001b[39;00m \u001b[38;5;28;01mNone\u001b[39;00m \u001b[38;5;129;01mand\u001b[39;00m parse_float \u001b[38;5;129;01mis\u001b[39;00m \u001b[38;5;28;01mNone\u001b[39;00m \u001b[38;5;129;01mand\u001b[39;00m\n\u001b[0;32m    345\u001b[0m         parse_constant \u001b[38;5;129;01mis\u001b[39;00m \u001b[38;5;28;01mNone\u001b[39;00m \u001b[38;5;129;01mand\u001b[39;00m object_pairs_hook \u001b[38;5;129;01mis\u001b[39;00m \u001b[38;5;28;01mNone\u001b[39;00m \u001b[38;5;129;01mand\u001b[39;00m \u001b[38;5;129;01mnot\u001b[39;00m kw):\n\u001b[1;32m--> 346\u001b[0m     \u001b[38;5;28;01mreturn\u001b[39;00m \u001b[43m_default_decoder\u001b[49m\u001b[38;5;241;43m.\u001b[39;49m\u001b[43mdecode\u001b[49m\u001b[43m(\u001b[49m\u001b[43ms\u001b[49m\u001b[43m)\u001b[49m\n\u001b[0;32m    347\u001b[0m \u001b[38;5;28;01mif\u001b[39;00m \u001b[38;5;28mcls\u001b[39m \u001b[38;5;129;01mis\u001b[39;00m \u001b[38;5;28;01mNone\u001b[39;00m:\n\u001b[0;32m    348\u001b[0m     \u001b[38;5;28mcls\u001b[39m \u001b[38;5;241m=\u001b[39m JSONDecoder\n",
      "File \u001b[1;32mc:\\Users\\tshar\\anaconda3\\envs\\LegalDocRAG\\Lib\\json\\decoder.py:337\u001b[0m, in \u001b[0;36mJSONDecoder.decode\u001b[1;34m(self, s, _w)\u001b[0m\n\u001b[0;32m    332\u001b[0m \u001b[38;5;28;01mdef\u001b[39;00m \u001b[38;5;21mdecode\u001b[39m(\u001b[38;5;28mself\u001b[39m, s, _w\u001b[38;5;241m=\u001b[39mWHITESPACE\u001b[38;5;241m.\u001b[39mmatch):\n\u001b[0;32m    333\u001b[0m \u001b[38;5;250m    \u001b[39m\u001b[38;5;124;03m\"\"\"Return the Python representation of ``s`` (a ``str`` instance\u001b[39;00m\n\u001b[0;32m    334\u001b[0m \u001b[38;5;124;03m    containing a JSON document).\u001b[39;00m\n\u001b[0;32m    335\u001b[0m \n\u001b[0;32m    336\u001b[0m \u001b[38;5;124;03m    \"\"\"\u001b[39;00m\n\u001b[1;32m--> 337\u001b[0m     obj, end \u001b[38;5;241m=\u001b[39m \u001b[38;5;28;43mself\u001b[39;49m\u001b[38;5;241;43m.\u001b[39;49m\u001b[43mraw_decode\u001b[49m\u001b[43m(\u001b[49m\u001b[43ms\u001b[49m\u001b[43m,\u001b[49m\u001b[43m \u001b[49m\u001b[43midx\u001b[49m\u001b[38;5;241;43m=\u001b[39;49m\u001b[43m_w\u001b[49m\u001b[43m(\u001b[49m\u001b[43ms\u001b[49m\u001b[43m,\u001b[49m\u001b[43m \u001b[49m\u001b[38;5;241;43m0\u001b[39;49m\u001b[43m)\u001b[49m\u001b[38;5;241;43m.\u001b[39;49m\u001b[43mend\u001b[49m\u001b[43m(\u001b[49m\u001b[43m)\u001b[49m\u001b[43m)\u001b[49m\n\u001b[0;32m    338\u001b[0m     end \u001b[38;5;241m=\u001b[39m _w(s, end)\u001b[38;5;241m.\u001b[39mend()\n\u001b[0;32m    339\u001b[0m     \u001b[38;5;28;01mif\u001b[39;00m end \u001b[38;5;241m!=\u001b[39m \u001b[38;5;28mlen\u001b[39m(s):\n",
      "File \u001b[1;32mc:\\Users\\tshar\\anaconda3\\envs\\LegalDocRAG\\Lib\\json\\decoder.py:353\u001b[0m, in \u001b[0;36mJSONDecoder.raw_decode\u001b[1;34m(self, s, idx)\u001b[0m\n\u001b[0;32m    344\u001b[0m \u001b[38;5;250m\u001b[39m\u001b[38;5;124;03m\"\"\"Decode a JSON document from ``s`` (a ``str`` beginning with\u001b[39;00m\n\u001b[0;32m    345\u001b[0m \u001b[38;5;124;03ma JSON document) and return a 2-tuple of the Python\u001b[39;00m\n\u001b[0;32m    346\u001b[0m \u001b[38;5;124;03mrepresentation and the index in ``s`` where the document ended.\u001b[39;00m\n\u001b[1;32m   (...)\u001b[0m\n\u001b[0;32m    350\u001b[0m \n\u001b[0;32m    351\u001b[0m \u001b[38;5;124;03m\"\"\"\u001b[39;00m\n\u001b[0;32m    352\u001b[0m \u001b[38;5;28;01mtry\u001b[39;00m:\n\u001b[1;32m--> 353\u001b[0m     obj, end \u001b[38;5;241m=\u001b[39m \u001b[38;5;28;43mself\u001b[39;49m\u001b[38;5;241;43m.\u001b[39;49m\u001b[43mscan_once\u001b[49m\u001b[43m(\u001b[49m\u001b[43ms\u001b[49m\u001b[43m,\u001b[49m\u001b[43m \u001b[49m\u001b[43midx\u001b[49m\u001b[43m)\u001b[49m\n\u001b[0;32m    354\u001b[0m \u001b[38;5;28;01mexcept\u001b[39;00m \u001b[38;5;167;01mStopIteration\u001b[39;00m \u001b[38;5;28;01mas\u001b[39;00m err:\n\u001b[0;32m    355\u001b[0m     \u001b[38;5;28;01mraise\u001b[39;00m JSONDecodeError(\u001b[38;5;124m\"\u001b[39m\u001b[38;5;124mExpecting value\u001b[39m\u001b[38;5;124m\"\u001b[39m, s, err\u001b[38;5;241m.\u001b[39mvalue) \u001b[38;5;28;01mfrom\u001b[39;00m \u001b[38;5;28;01mNone\u001b[39;00m\n",
      "\u001b[1;31mJSONDecodeError\u001b[0m: Unterminated string starting at: line 305 column 3 (char 31274)"
     ]
    }
   ],
   "source": [
    "import json\n",
    "conditional_response = json.loads(response.content)\n",
    "conditional_response"
   ]
  },
  {
   "cell_type": "code",
   "execution_count": 161,
   "metadata": {},
   "outputs": [],
   "source": [
    "for topic, value in conditional_response.items():\n",
    "    if value:\n",
    "        all_content += f'\\n{topic}: {value}'"
   ]
  },
  {
   "cell_type": "markdown",
   "metadata": {},
   "source": [
    "`2.6 Agent: Response creation`"
   ]
  },
  {
   "cell_type": "code",
   "execution_count": 162,
   "metadata": {},
   "outputs": [],
   "source": [
    "# Define the prompt template\n",
    "prompt = PromptTemplate(\n",
    "    template=\"\"\"<|begin_of_text|>\n",
    "    <|start_header_id|>system<|end_header_id|>  \n",
    "    You are a legal assistant, your task is to answer the user question based on given documents. \n",
    "\n",
    "    Legal Documents: {documents}\n",
    "\n",
    "    Response Instructions:\n",
    "    1. Formulate a concise, informative response based on the extracted information for the users question.\n",
    "    2. Reference specific sections or clauses of the documents to support your answer.\n",
    "    3. Do not answer the question based general knowledge, if the given documents do not have sufficient information to answer the question then send response as \"I don't have knowledge to answer your question\"\n",
    "    4. Do not start your response like Based on the provided documents,  here are the details about ...\n",
    "    5. Make sure that you are including any quantitative mesures\n",
    "\n",
    "    User Question: {question}\n",
    "\n",
    "    <|eot_id|>\n",
    "    <|start_header_id|>assistant<|end_header_id|>\n",
    "    \"\"\",\n",
    "    input_variables=[\"question\", \"documents\"],  # Fixed typo here\n",
    ")\n",
    "\n",
    "# Create the question router\n",
    "question_router = prompt | llm | StrOutputParser() \n",
    "\n",
    "response = question_router.invoke(\n",
    "    {\n",
    "        \"question\": query, \n",
    "        \"documents\": all_content  # Use the corrected variable name\n",
    "    }\n",
    ")"
   ]
  },
  {
   "cell_type": "code",
   "execution_count": 163,
   "metadata": {},
   "outputs": [
    {
     "name": "stdout",
     "output_type": "stream",
     "text": [
      "The members of the Board of Trustees of Mohamed bin Zayed University for Humanities are:\n",
      "\n",
      "1. H.E. Dr. Mohammed Rashid Ahmed Al Hamli - Chairman\n",
      "2. Mubarak Hamad Mubarak Al Muhairi - Vice Chairman\n",
      "3. Mohammed Hamza Hassan Al Qassim\n",
      "4. Maryam Eid Khamis Al Muhairi\n",
      "5. Abdullah Aqeela Ali Al Muhairi\n",
      "6. Dr. Omar Habtoor Theeb Al-Derei\n",
      "7. Ghanem Sultan Ahmed Al Suwaidi\n",
      "\n",
      "The membership term of the Board shall be three renewable years. (Executive Council Resolution No. (11) of 2023, Clause 2)\n"
     ]
    }
   ],
   "source": [
    "print(response)"
   ]
  },
  {
   "cell_type": "code",
   "execution_count": 167,
   "metadata": {},
   "outputs": [
    {
     "name": "stdout",
     "output_type": "stream",
     "text": [
      "The members of the Board of Trustees of Mohamed bin Zayed University for Humanities are:\n",
      "\n",
      "1. H.E. Dr. Mohammed Rashid Ahmed Al Hamli - Chairman\n",
      "2. Mubarak Hamad Mubarak Al Muhairi - Vice Chairman\n",
      "3. Mohammed Hamza Hassan Al Qassim\n",
      "4. Maryam Eid Khamis Al Muhairi\n",
      "5. Abdullah Aqeela Ali Al Muhairi\n",
      "6. Dr. Omar Habtoor Theeb Al-Derei\n",
      "7. Ghanem Sultan Ahmed Al Suwaidi\n",
      "\n",
      "The membership term of the Board shall be three renewable years. (Executive Council Resolution No. (11) of 2023, Clause 2)"
     ]
    }
   ],
   "source": [
    "response = question_router.invoke(\n",
    "    {\n",
    "        \"question\": query, \n",
    "        \"documents\": all_content  # Use the corrected variable name\n",
    "    }\n",
    ")\n",
    "\n",
    "for s in question_router.stream(    {\n",
    "        \"question\": query, \n",
    "        \"documents\": all_content  # Use the corrected variable name\n",
    "    }\n",
    "):\n",
    "    print(s, end=\"\", flush=True)"
   ]
  },
  {
   "cell_type": "code",
   "execution_count": 166,
   "metadata": {},
   "outputs": [
    {
     "data": {
      "text/plain": [
       "''"
      ]
     },
     "execution_count": 166,
     "metadata": {},
     "output_type": "execute_result"
    }
   ],
   "source": [
    "s"
   ]
  },
  {
   "cell_type": "code",
   "execution_count": null,
   "metadata": {},
   "outputs": [],
   "source": []
  }
 ],
 "metadata": {
  "kernelspec": {
   "display_name": "LegalDocRAG",
   "language": "python",
   "name": "python3"
  },
  "language_info": {
   "codemirror_mode": {
    "name": "ipython",
    "version": 3
   },
   "file_extension": ".py",
   "mimetype": "text/x-python",
   "name": "python",
   "nbconvert_exporter": "python",
   "pygments_lexer": "ipython3",
   "version": "3.11.10"
  }
 },
 "nbformat": 4,
 "nbformat_minor": 2
}
